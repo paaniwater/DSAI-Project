{
 "cells": [
  {
   "attachments": {},
   "cell_type": "markdown",
   "metadata": {},
   "source": [
    "## Neural Network Model\n",
    "\n",
    "A neural network model (NNM) is a type of machine learning model that is loosely modeled after the structure and function of the human brain. It consists of a large number of interconnected processing nodes, or \"neurons,\" that work together to process input data and make predictions or classifications. \n",
    "\n",
    "For this project, we utilised Keras, a high-level neural netowkrs API, written in Python. The basic building block of a Keras model is a layer. Layers are stacked together to form a neural network model, and each layer is responsible for performing a specific transformation on its inputs. The output of one layer becomes the input of the next layer until the final output layer produces the model’s predictions.\n",
    "\n",
    " We have used this model to predict bankruptcy and performed analysis based on the following steps:\n",
    "1. Preparing data (obtain top 10 features, obtain train and test sets)\n",
    "2. Training NNM on full dataset (all 96 features)\n",
    "3. Training SVM Model with only top 10 features\n",
    "4. Generating ROC and AUC for both models and perform comparision evaluation\n"
   ]
  },
  {
   "attachments": {},
   "cell_type": "markdown",
   "metadata": {},
   "source": [
    "### 1. Preparing Data\n",
    "\n",
    "##### a) Importing necessary libraries and load upsampled dataset"
   ]
  },
  {
   "cell_type": "code",
   "execution_count": 1,
   "metadata": {},
   "outputs": [],
   "source": [
    "import pandas as pd\n",
    "from sklearn.model_selection import train_test_split\n",
    "from keras.models import Sequential\n",
    "from keras.layers import Dense\n",
    "from keras.utils.vis_utils import plot_model\n",
    "import matplotlib.pyplot as plt\n",
    "from sklearn.metrics import classification_report\n",
    "from keras.layers import Dense, Dropout, BatchNormalization\n",
    "from sklearn.metrics import roc_curve, auc\n"
   ]
  },
  {
   "cell_type": "code",
   "execution_count": 2,
   "metadata": {},
   "outputs": [],
   "source": [
    "# Load the data from CSV file\n",
    "df = pd.read_csv(\"upsampled_bankruptcy.csv\")\n"
   ]
  },
  {
   "attachments": {},
   "cell_type": "markdown",
   "metadata": {},
   "source": [
    "##### b) Splitting data into test and training sets (all 95 variables)"
   ]
  },
  {
   "cell_type": "code",
   "execution_count": 4,
   "metadata": {},
   "outputs": [
    {
     "data": {
      "text/plain": [
       "0    6599\n",
       "1    6599\n",
       "Name: Bankrupt?, dtype: int64"
      ]
     },
     "execution_count": 4,
     "metadata": {},
     "output_type": "execute_result"
    }
   ],
   "source": [
    "# Display new class counts\n",
    "df[\"Bankrupt?\"].value_counts()\n",
    "X_upsample = df.drop(\"Bankrupt?\", axis=1)\n",
    "y_upsample = df[\"Bankrupt?\"]\n",
    "\n",
    "X_train_upsample, X_test_upsample, y_train_upsample, y_test_upsample = train_test_split(X_upsample, y_upsample, test_size=0.2,random_state=42)\n",
    "y_upsample.value_counts()\n",
    "\n"
   ]
  },
  {
   "attachments": {},
   "cell_type": "markdown",
   "metadata": {},
   "source": [
    "##### c) Splitting data into test and training sets (top 10 variables)"
   ]
  },
  {
   "cell_type": "code",
   "execution_count": 5,
   "metadata": {},
   "outputs": [],
   "source": [
    "# Split the data into training and testing sets for top 10 variables based on correlation with bankruptcy\n",
    "\n",
    "corr_matrix = df.corr()\n",
    "num_features = 10\n",
    "corr_with_bankrupt = corr_matrix[\"Bankrupt?\"].abs().sort_values(ascending=False)\n",
    "top_corr_features = corr_with_bankrupt[1:num_features+1].index.tolist()\n",
    "df_top10_upsampled = df[top_corr_features]\n",
    "X_top10_upsample = df_top10_upsampled\n",
    "y_top10_upsample = df[\"Bankrupt?\"]\n",
    "X_train_top10_upsample, X_test_top10_upsample, y_train_top10_upsample, y_test_top10_upsample = train_test_split(X_top10_upsample, y_top10_upsample, test_size=0.2,random_state=42)"
   ]
  },
  {
   "attachments": {},
   "cell_type": "markdown",
   "metadata": {},
   "source": [
    "### Building a Neural Network Model"
   ]
  },
  {
   "attachments": {},
   "cell_type": "markdown",
   "metadata": {},
   "source": [
    "### Overall, this model architecture consists of three fully connected layers with ReLU activation functions, followed by BatchNormalization and Dropout layers to improve model performance and prevent overfitting, and a final output layer with a sigmoid activation function for binary classification."
   ]
  },
  {
   "cell_type": "code",
   "execution_count": 6,
   "metadata": {},
   "outputs": [
    {
     "name": "stderr",
     "output_type": "stream",
     "text": [
      "2023-04-21 13:44:04.358825: I tensorflow/core/platform/cpu_feature_guard.cc:193] This TensorFlow binary is optimized with oneAPI Deep Neural Network Library (oneDNN) to use the following CPU instructions in performance-critical operations:  SSE4.1 SSE4.2\n",
      "To enable them in other operations, rebuild TensorFlow with the appropriate compiler flags.\n"
     ]
    }
   ],
   "source": [
    "# Build the neural network model\n",
    "\n",
    "\n",
    "# model for upsampled data (All)\n",
    "\n",
    "model_upsample_all = Sequential()\n",
    "model_upsample_all.add(Dense(128, input_dim=X_train_upsample.shape[1], activation='relu'))\n",
    "model_upsample_all.add(BatchNormalization())\n",
    "model_upsample_all.add(Dense(64, activation='relu'))\n",
    "model_upsample_all.add(Dropout(0.2))\n",
    "model_upsample_all.add(Dense(32, activation='relu'))\n",
    "model_upsample_all.add(Dense(1, activation='sigmoid'))\n",
    "model_upsample_all.compile(loss='binary_crossentropy', optimizer='adam', metrics=['accuracy'])\n",
    "\n",
    "\n",
    "\n",
    "# model for upsampled data (Top 10)\n",
    "\n",
    "model_upsample_top10 = Sequential()\n",
    "model_upsample_top10.add(Dense(128, input_dim=X_train_top10_upsample.shape[1], activation='relu'))\n",
    "model_upsample_top10.add(BatchNormalization())\n",
    "model_upsample_top10.add(Dense(64, activation='relu'))\n",
    "model_upsample_top10.add(Dropout(0.2))\n",
    "model_upsample_top10.add(Dense(32, activation='relu'))\n",
    "model_upsample_top10.add(Dense(1, activation='sigmoid'))\n",
    "model_upsample_top10.compile(loss='binary_crossentropy', optimizer='adam', metrics=['accuracy'])\n",
    "\n"
   ]
  },
  {
   "attachments": {},
   "cell_type": "markdown",
   "metadata": {},
   "source": [
    "### model.compile is a function in Keras that compiles the model with the chosen loss function, optimizer, and metrics. In this case, the loss function chosen is binary_crossentropy, which is commonly used for binary classification problems. The optimizer chosen is adam, which is a commonly used optimization algorithm for neural networks. Finally, metrics is set to accuracy, which will be used to evaluate the performance of the model during training and testing."
   ]
  },
  {
   "cell_type": "code",
   "execution_count": 7,
   "metadata": {},
   "outputs": [],
   "source": [
    "\n",
    "# compile the model for all variables with upsampled dataset\n",
    "\n",
    "model_upsample_all.compile(loss='binary_crossentropy', optimizer='adam', metrics=['accuracy'])\n",
    "\n",
    "\n",
    "# compile the model for top 10 variables with upsampled dataset\n",
    "\n",
    "model_upsample_top10.compile(loss='binary_crossentropy', optimizer='adam', metrics=['accuracy'])\n"
   ]
  },
  {
   "attachments": {},
   "cell_type": "markdown",
   "metadata": {},
   "source": [
    "### This line of code trains the neural network model on the training data with the following parameters:\n",
    "\n",
    "### Overall, this line of code is training the neural network model on the upsampled training data, using mini-batch stochastic gradient descent with a batch size of 32 and the binary crossentropy loss function. The model is evaluated on the validation data after each epoch."
   ]
  },
  {
   "cell_type": "code",
   "execution_count": 8,
   "metadata": {},
   "outputs": [
    {
     "name": "stdout",
     "output_type": "stream",
     "text": [
      "Epoch 1/50\n",
      "330/330 [==============================] - 1s 1ms/step - loss: 0.5899 - accuracy: 0.6810 - val_loss: 0.5172 - val_accuracy: 0.7462\n",
      "Epoch 2/50\n",
      "330/330 [==============================] - 0s 1ms/step - loss: 0.4955 - accuracy: 0.7611 - val_loss: 0.4662 - val_accuracy: 0.7629\n",
      "Epoch 3/50\n",
      "330/330 [==============================] - 0s 1ms/step - loss: 0.4512 - accuracy: 0.7874 - val_loss: 0.4013 - val_accuracy: 0.8292\n",
      "Epoch 4/50\n",
      "330/330 [==============================] - 0s 988us/step - loss: 0.4245 - accuracy: 0.8093 - val_loss: 0.3561 - val_accuracy: 0.8633\n",
      "Epoch 5/50\n",
      "330/330 [==============================] - 0s 960us/step - loss: 0.3929 - accuracy: 0.8263 - val_loss: 0.3227 - val_accuracy: 0.8652\n",
      "Epoch 6/50\n",
      "330/330 [==============================] - 0s 954us/step - loss: 0.3767 - accuracy: 0.8372 - val_loss: 0.3106 - val_accuracy: 0.8758\n",
      "Epoch 7/50\n",
      "330/330 [==============================] - 0s 960us/step - loss: 0.3584 - accuracy: 0.8467 - val_loss: 0.3036 - val_accuracy: 0.8731\n",
      "Epoch 8/50\n",
      "330/330 [==============================] - 0s 952us/step - loss: 0.3453 - accuracy: 0.8493 - val_loss: 0.2981 - val_accuracy: 0.8894\n",
      "Epoch 9/50\n",
      "330/330 [==============================] - 0s 950us/step - loss: 0.3336 - accuracy: 0.8603 - val_loss: 0.2825 - val_accuracy: 0.8920\n",
      "Epoch 10/50\n",
      "330/330 [==============================] - 0s 945us/step - loss: 0.3287 - accuracy: 0.8648 - val_loss: 0.2645 - val_accuracy: 0.8992\n",
      "Epoch 11/50\n",
      "330/330 [==============================] - 0s 944us/step - loss: 0.3093 - accuracy: 0.8682 - val_loss: 0.2495 - val_accuracy: 0.9133\n",
      "Epoch 12/50\n",
      "330/330 [==============================] - 0s 948us/step - loss: 0.2976 - accuracy: 0.8773 - val_loss: 0.2547 - val_accuracy: 0.9034\n",
      "Epoch 13/50\n",
      "330/330 [==============================] - 0s 951us/step - loss: 0.2936 - accuracy: 0.8766 - val_loss: 0.2391 - val_accuracy: 0.9133\n",
      "Epoch 14/50\n",
      "330/330 [==============================] - 0s 1ms/step - loss: 0.2845 - accuracy: 0.8836 - val_loss: 0.2266 - val_accuracy: 0.9189\n",
      "Epoch 15/50\n",
      "330/330 [==============================] - 0s 944us/step - loss: 0.2876 - accuracy: 0.8808 - val_loss: 0.2447 - val_accuracy: 0.9076\n",
      "Epoch 16/50\n",
      "330/330 [==============================] - 0s 941us/step - loss: 0.2747 - accuracy: 0.8863 - val_loss: 0.2084 - val_accuracy: 0.9182\n",
      "Epoch 17/50\n",
      "330/330 [==============================] - 0s 978us/step - loss: 0.2718 - accuracy: 0.8876 - val_loss: 0.2128 - val_accuracy: 0.9265\n",
      "Epoch 18/50\n",
      "330/330 [==============================] - 0s 984us/step - loss: 0.2611 - accuracy: 0.8908 - val_loss: 0.1986 - val_accuracy: 0.9326\n",
      "Epoch 19/50\n",
      "330/330 [==============================] - 0s 984us/step - loss: 0.2572 - accuracy: 0.8960 - val_loss: 0.1927 - val_accuracy: 0.9318\n",
      "Epoch 20/50\n",
      "330/330 [==============================] - 0s 1ms/step - loss: 0.2524 - accuracy: 0.8969 - val_loss: 0.2042 - val_accuracy: 0.9307\n",
      "Epoch 21/50\n",
      "330/330 [==============================] - 0s 991us/step - loss: 0.2477 - accuracy: 0.9010 - val_loss: 0.1880 - val_accuracy: 0.9375\n",
      "Epoch 22/50\n",
      "330/330 [==============================] - 0s 958us/step - loss: 0.2440 - accuracy: 0.9020 - val_loss: 0.1876 - val_accuracy: 0.9360\n",
      "Epoch 23/50\n",
      "330/330 [==============================] - 0s 970us/step - loss: 0.2524 - accuracy: 0.8992 - val_loss: 0.1879 - val_accuracy: 0.9292\n",
      "Epoch 24/50\n",
      "330/330 [==============================] - 0s 963us/step - loss: 0.2497 - accuracy: 0.8988 - val_loss: 0.1934 - val_accuracy: 0.9292\n",
      "Epoch 25/50\n",
      "330/330 [==============================] - 0s 969us/step - loss: 0.2400 - accuracy: 0.9057 - val_loss: 0.1880 - val_accuracy: 0.9288\n",
      "Epoch 26/50\n",
      "330/330 [==============================] - 0s 985us/step - loss: 0.2382 - accuracy: 0.9041 - val_loss: 0.1840 - val_accuracy: 0.9292\n",
      "Epoch 27/50\n",
      "330/330 [==============================] - 0s 1ms/step - loss: 0.2224 - accuracy: 0.9101 - val_loss: 0.1883 - val_accuracy: 0.9303\n",
      "Epoch 28/50\n",
      "330/330 [==============================] - 0s 973us/step - loss: 0.2285 - accuracy: 0.9064 - val_loss: 0.1862 - val_accuracy: 0.9295\n",
      "Epoch 29/50\n",
      "330/330 [==============================] - 0s 985us/step - loss: 0.2267 - accuracy: 0.9090 - val_loss: 0.1807 - val_accuracy: 0.9322\n",
      "Epoch 30/50\n",
      "330/330 [==============================] - 0s 976us/step - loss: 0.2276 - accuracy: 0.9098 - val_loss: 0.1703 - val_accuracy: 0.9424\n",
      "Epoch 31/50\n",
      "330/330 [==============================] - 0s 985us/step - loss: 0.2190 - accuracy: 0.9131 - val_loss: 0.1667 - val_accuracy: 0.9405\n",
      "Epoch 32/50\n",
      "330/330 [==============================] - 0s 990us/step - loss: 0.2191 - accuracy: 0.9119 - val_loss: 0.1807 - val_accuracy: 0.9314\n",
      "Epoch 33/50\n",
      "330/330 [==============================] - 0s 981us/step - loss: 0.2249 - accuracy: 0.9108 - val_loss: 0.1521 - val_accuracy: 0.9530\n",
      "Epoch 34/50\n",
      "330/330 [==============================] - 0s 999us/step - loss: 0.2164 - accuracy: 0.9178 - val_loss: 0.1644 - val_accuracy: 0.9473\n",
      "Epoch 35/50\n",
      "330/330 [==============================] - 0s 943us/step - loss: 0.2236 - accuracy: 0.9097 - val_loss: 0.1651 - val_accuracy: 0.9409\n",
      "Epoch 36/50\n",
      "330/330 [==============================] - 0s 950us/step - loss: 0.2075 - accuracy: 0.9161 - val_loss: 0.1674 - val_accuracy: 0.9333\n",
      "Epoch 37/50\n",
      "330/330 [==============================] - 0s 997us/step - loss: 0.2150 - accuracy: 0.9148 - val_loss: 0.1595 - val_accuracy: 0.9473\n",
      "Epoch 38/50\n",
      "330/330 [==============================] - 0s 1ms/step - loss: 0.1989 - accuracy: 0.9220 - val_loss: 0.1560 - val_accuracy: 0.9492\n",
      "Epoch 39/50\n",
      "330/330 [==============================] - 0s 971us/step - loss: 0.2092 - accuracy: 0.9164 - val_loss: 0.1642 - val_accuracy: 0.9492\n",
      "Epoch 40/50\n",
      "330/330 [==============================] - 0s 954us/step - loss: 0.2056 - accuracy: 0.9217 - val_loss: 0.1633 - val_accuracy: 0.9420\n",
      "Epoch 41/50\n",
      "330/330 [==============================] - 0s 953us/step - loss: 0.2089 - accuracy: 0.9188 - val_loss: 0.1553 - val_accuracy: 0.9466\n",
      "Epoch 42/50\n",
      "330/330 [==============================] - 0s 966us/step - loss: 0.2028 - accuracy: 0.9163 - val_loss: 0.1536 - val_accuracy: 0.9451\n",
      "Epoch 43/50\n",
      "330/330 [==============================] - 0s 967us/step - loss: 0.1949 - accuracy: 0.9230 - val_loss: 0.1628 - val_accuracy: 0.9436\n",
      "Epoch 44/50\n",
      "330/330 [==============================] - 0s 954us/step - loss: 0.1945 - accuracy: 0.9209 - val_loss: 0.1526 - val_accuracy: 0.9436\n",
      "Epoch 45/50\n",
      "330/330 [==============================] - 0s 962us/step - loss: 0.2019 - accuracy: 0.9204 - val_loss: 0.1473 - val_accuracy: 0.9504\n",
      "Epoch 46/50\n",
      "330/330 [==============================] - 0s 962us/step - loss: 0.1969 - accuracy: 0.9252 - val_loss: 0.1500 - val_accuracy: 0.9420\n",
      "Epoch 47/50\n",
      "330/330 [==============================] - 0s 963us/step - loss: 0.1862 - accuracy: 0.9255 - val_loss: 0.1434 - val_accuracy: 0.9496\n",
      "Epoch 48/50\n",
      "330/330 [==============================] - 0s 968us/step - loss: 0.1922 - accuracy: 0.9245 - val_loss: 0.1439 - val_accuracy: 0.9455\n",
      "Epoch 49/50\n",
      "330/330 [==============================] - 0s 966us/step - loss: 0.1974 - accuracy: 0.9240 - val_loss: 0.1387 - val_accuracy: 0.9504\n",
      "Epoch 50/50\n",
      "330/330 [==============================] - 0s 973us/step - loss: 0.2020 - accuracy: 0.9233 - val_loss: 0.1426 - val_accuracy: 0.9470\n",
      "Epoch 1/50\n",
      "330/330 [==============================] - 1s 1ms/step - loss: 0.3767 - accuracy: 0.8374 - val_loss: 0.4841 - val_accuracy: 0.8716\n",
      "Epoch 2/50\n",
      "330/330 [==============================] - 0s 954us/step - loss: 0.3535 - accuracy: 0.8498 - val_loss: 0.3757 - val_accuracy: 0.8655\n",
      "Epoch 3/50\n",
      "330/330 [==============================] - 0s 908us/step - loss: 0.3473 - accuracy: 0.8518 - val_loss: 0.5105 - val_accuracy: 0.7337\n",
      "Epoch 4/50\n",
      "330/330 [==============================] - 0s 895us/step - loss: 0.3415 - accuracy: 0.8553 - val_loss: 0.3972 - val_accuracy: 0.8212\n",
      "Epoch 5/50\n",
      "330/330 [==============================] - 0s 954us/step - loss: 0.3436 - accuracy: 0.8521 - val_loss: 0.9091 - val_accuracy: 0.6212\n",
      "Epoch 6/50\n",
      "330/330 [==============================] - 0s 950us/step - loss: 0.3411 - accuracy: 0.8537 - val_loss: 0.3333 - val_accuracy: 0.8659\n",
      "Epoch 7/50\n",
      "330/330 [==============================] - 0s 907us/step - loss: 0.3330 - accuracy: 0.8591 - val_loss: 0.4042 - val_accuracy: 0.7966\n",
      "Epoch 8/50\n",
      "330/330 [==============================] - 0s 923us/step - loss: 0.3363 - accuracy: 0.8573 - val_loss: 0.3295 - val_accuracy: 0.8735\n",
      "Epoch 9/50\n",
      "330/330 [==============================] - 0s 914us/step - loss: 0.3331 - accuracy: 0.8566 - val_loss: 0.3423 - val_accuracy: 0.8572\n",
      "Epoch 10/50\n",
      "330/330 [==============================] - 0s 1ms/step - loss: 0.3292 - accuracy: 0.8581 - val_loss: 0.3287 - val_accuracy: 0.8640\n",
      "Epoch 11/50\n",
      "330/330 [==============================] - 0s 1ms/step - loss: 0.3236 - accuracy: 0.8611 - val_loss: 0.4555 - val_accuracy: 0.8030\n",
      "Epoch 12/50\n",
      "330/330 [==============================] - 0s 976us/step - loss: 0.3186 - accuracy: 0.8647 - val_loss: 0.4799 - val_accuracy: 0.7689\n",
      "Epoch 13/50\n",
      "330/330 [==============================] - 0s 943us/step - loss: 0.3204 - accuracy: 0.8629 - val_loss: 0.3536 - val_accuracy: 0.8413\n",
      "Epoch 14/50\n",
      "330/330 [==============================] - 0s 939us/step - loss: 0.3248 - accuracy: 0.8622 - val_loss: 0.3441 - val_accuracy: 0.8485\n",
      "Epoch 15/50\n",
      "330/330 [==============================] - 0s 974us/step - loss: 0.3179 - accuracy: 0.8666 - val_loss: 0.4051 - val_accuracy: 0.8189\n",
      "Epoch 16/50\n",
      "330/330 [==============================] - 0s 953us/step - loss: 0.3148 - accuracy: 0.8665 - val_loss: 0.4341 - val_accuracy: 0.7792\n",
      "Epoch 17/50\n",
      "330/330 [==============================] - 0s 945us/step - loss: 0.3128 - accuracy: 0.8669 - val_loss: 0.3626 - val_accuracy: 0.8288\n",
      "Epoch 18/50\n",
      "330/330 [==============================] - 0s 962us/step - loss: 0.3150 - accuracy: 0.8655 - val_loss: 0.3208 - val_accuracy: 0.8663\n",
      "Epoch 19/50\n",
      "330/330 [==============================] - 0s 942us/step - loss: 0.3112 - accuracy: 0.8701 - val_loss: 0.7512 - val_accuracy: 0.6879\n",
      "Epoch 20/50\n",
      "330/330 [==============================] - 0s 941us/step - loss: 0.3059 - accuracy: 0.8711 - val_loss: 1.0470 - val_accuracy: 0.6333\n",
      "Epoch 21/50\n",
      "330/330 [==============================] - 0s 954us/step - loss: 0.3053 - accuracy: 0.8696 - val_loss: 0.3214 - val_accuracy: 0.8655\n",
      "Epoch 22/50\n",
      "330/330 [==============================] - 0s 1ms/step - loss: 0.3017 - accuracy: 0.8687 - val_loss: 0.8665 - val_accuracy: 0.6970\n",
      "Epoch 23/50\n",
      "330/330 [==============================] - 0s 955us/step - loss: 0.3035 - accuracy: 0.8728 - val_loss: 0.4608 - val_accuracy: 0.7765\n",
      "Epoch 24/50\n",
      "330/330 [==============================] - 0s 1ms/step - loss: 0.3011 - accuracy: 0.8724 - val_loss: 0.4263 - val_accuracy: 0.8027\n",
      "Epoch 25/50\n",
      "330/330 [==============================] - 0s 983us/step - loss: 0.3000 - accuracy: 0.8729 - val_loss: 0.9260 - val_accuracy: 0.6803\n",
      "Epoch 26/50\n",
      "330/330 [==============================] - 0s 931us/step - loss: 0.2986 - accuracy: 0.8697 - val_loss: 0.3289 - val_accuracy: 0.8299\n",
      "Epoch 27/50\n",
      "330/330 [==============================] - 0s 959us/step - loss: 0.2976 - accuracy: 0.8733 - val_loss: 0.4410 - val_accuracy: 0.8360\n",
      "Epoch 28/50\n",
      "330/330 [==============================] - 0s 990us/step - loss: 0.2961 - accuracy: 0.8722 - val_loss: 0.3057 - val_accuracy: 0.8769\n",
      "Epoch 29/50\n",
      "330/330 [==============================] - 0s 947us/step - loss: 0.2894 - accuracy: 0.8763 - val_loss: 0.8755 - val_accuracy: 0.7212\n",
      "Epoch 30/50\n",
      "330/330 [==============================] - 0s 952us/step - loss: 0.2994 - accuracy: 0.8732 - val_loss: 0.9159 - val_accuracy: 0.6436\n",
      "Epoch 31/50\n",
      "330/330 [==============================] - 0s 958us/step - loss: 0.2915 - accuracy: 0.8731 - val_loss: 0.3255 - val_accuracy: 0.8587\n",
      "Epoch 32/50\n",
      "330/330 [==============================] - 0s 989us/step - loss: 0.2917 - accuracy: 0.8766 - val_loss: 0.3681 - val_accuracy: 0.8508\n",
      "Epoch 33/50\n",
      "330/330 [==============================] - 0s 954us/step - loss: 0.2810 - accuracy: 0.8807 - val_loss: 0.3504 - val_accuracy: 0.8572\n",
      "Epoch 34/50\n",
      "330/330 [==============================] - 0s 934us/step - loss: 0.2897 - accuracy: 0.8751 - val_loss: 0.5061 - val_accuracy: 0.7807\n",
      "Epoch 35/50\n",
      "330/330 [==============================] - 0s 912us/step - loss: 0.2828 - accuracy: 0.8778 - val_loss: 0.3445 - val_accuracy: 0.8580\n",
      "Epoch 36/50\n",
      "330/330 [==============================] - 0s 919us/step - loss: 0.2879 - accuracy: 0.8780 - val_loss: 0.8969 - val_accuracy: 0.6788\n",
      "Epoch 37/50\n",
      "330/330 [==============================] - 0s 921us/step - loss: 0.2799 - accuracy: 0.8786 - val_loss: 0.3948 - val_accuracy: 0.7996\n",
      "Epoch 38/50\n",
      "330/330 [==============================] - 0s 905us/step - loss: 0.2776 - accuracy: 0.8830 - val_loss: 0.9483 - val_accuracy: 0.7189\n",
      "Epoch 39/50\n",
      "330/330 [==============================] - 0s 937us/step - loss: 0.2826 - accuracy: 0.8792 - val_loss: 0.3536 - val_accuracy: 0.8648\n",
      "Epoch 40/50\n",
      "330/330 [==============================] - 0s 922us/step - loss: 0.2817 - accuracy: 0.8825 - val_loss: 0.4201 - val_accuracy: 0.8254\n",
      "Epoch 41/50\n",
      "330/330 [==============================] - 0s 917us/step - loss: 0.2768 - accuracy: 0.8807 - val_loss: 0.3351 - val_accuracy: 0.8742\n",
      "Epoch 42/50\n",
      "330/330 [==============================] - 0s 939us/step - loss: 0.2761 - accuracy: 0.8820 - val_loss: 1.0288 - val_accuracy: 0.6894\n",
      "Epoch 43/50\n",
      "330/330 [==============================] - 0s 940us/step - loss: 0.2808 - accuracy: 0.8808 - val_loss: 0.9136 - val_accuracy: 0.7095\n",
      "Epoch 44/50\n",
      "330/330 [==============================] - 0s 927us/step - loss: 0.2723 - accuracy: 0.8841 - val_loss: 0.2992 - val_accuracy: 0.8682\n",
      "Epoch 45/50\n",
      "330/330 [==============================] - 0s 929us/step - loss: 0.2745 - accuracy: 0.8827 - val_loss: 0.3457 - val_accuracy: 0.8636\n",
      "Epoch 46/50\n",
      "330/330 [==============================] - 0s 982us/step - loss: 0.2687 - accuracy: 0.8857 - val_loss: 0.2830 - val_accuracy: 0.8902\n",
      "Epoch 47/50\n",
      "330/330 [==============================] - 0s 1ms/step - loss: 0.2675 - accuracy: 0.8848 - val_loss: 0.3649 - val_accuracy: 0.8595\n",
      "Epoch 48/50\n",
      "330/330 [==============================] - 0s 941us/step - loss: 0.2694 - accuracy: 0.8879 - val_loss: 0.3504 - val_accuracy: 0.8545\n",
      "Epoch 49/50\n",
      "330/330 [==============================] - 0s 924us/step - loss: 0.2702 - accuracy: 0.8829 - val_loss: 1.0166 - val_accuracy: 0.6617\n",
      "Epoch 50/50\n",
      "330/330 [==============================] - 0s 963us/step - loss: 0.2687 - accuracy: 0.8855 - val_loss: 0.3416 - val_accuracy: 0.8364\n"
     ]
    },
    {
     "data": {
      "text/plain": [
       "<keras.callbacks.History at 0x7fab8c847df0>"
      ]
     },
     "execution_count": 8,
     "metadata": {},
     "output_type": "execute_result"
    }
   ],
   "source": [
    "# Train the model for all the variables with the upsampled dataset\n",
    "\n",
    "model_upsample_all.fit(X_train_upsample, y_train_upsample, epochs=50, batch_size=32, validation_data=(X_test_upsample, y_test_upsample))\n",
    "\n",
    "# Train the model for top 10 variables with the upsampled dataset\n",
    "\n",
    "model_upsample_top10.fit(X_train_top10_upsample, y_train_top10_upsample, epochs=50, batch_size=32, validation_data=(X_test_top10_upsample, y_test_top10_upsample))\n",
    "\n"
   ]
  },
  {
   "attachments": {},
   "cell_type": "markdown",
   "metadata": {},
   "source": [
    "### Seeing the accuracy of our NN model(s)"
   ]
  },
  {
   "attachments": {},
   "cell_type": "markdown",
   "metadata": {},
   "source": [
    "### We will now output the accuracy for our NN models"
   ]
  },
  {
   "cell_type": "code",
   "execution_count": 9,
   "metadata": {},
   "outputs": [
    {
     "name": "stdout",
     "output_type": "stream",
     "text": [
      "83/83 [==============================] - 0s 467us/step - loss: 0.1426 - accuracy: 0.9470\n",
      "Accuracy for upsampled dataset with all variables: 0.9469696879386902\n",
      "83/83 [==============================] - 0s 445us/step - loss: 0.3416 - accuracy: 0.8364\n",
      "Accuracy for upsampled dataset with top 10 variables: 0.8363636136054993\n"
     ]
    }
   ],
   "source": [
    "\n",
    "#Accuracy for upsampled dataset for all the variables and optimised model\n",
    "loss_upsample_all, accuracy_upsample_all = model_upsample_all.evaluate(X_test_upsample, y_test_upsample)\n",
    "\n",
    "print(\"Accuracy for upsampled dataset with all variables:\", accuracy_upsample_all)\n",
    "\n",
    "\n",
    "#Accuracy for upsampled dataset for top 10 variables and optimised model\n",
    "loss_upsample_top10, accuracy_upsample_top10 = model_upsample_top10.evaluate(X_test_top10_upsample, y_test_top10_upsample)\n",
    "\n",
    "print(\"Accuracy for upsampled dataset with top 10 variables:\", accuracy_upsample_top10)"
   ]
  },
  {
   "attachments": {},
   "cell_type": "markdown",
   "metadata": {},
   "source": [
    "### Data visualisation for ML models\n"
   ]
  },
  {
   "attachments": {},
   "cell_type": "markdown",
   "metadata": {},
   "source": [
    "### This code block below plots the AUC and its associated classification report for the NN model on all variables."
   ]
  },
  {
   "cell_type": "code",
   "execution_count": 10,
   "metadata": {},
   "outputs": [
    {
     "name": "stdout",
     "output_type": "stream",
     "text": [
      "83/83 [==============================] - 0s 459us/step\n"
     ]
    },
    {
     "data": {
      "image/png": "[encoded data removed]",
      "text/plain": [
       "<Figure size 640x480 with 1 Axes>"
      ]
     },
     "metadata": {},
     "output_type": "display_data"
    },
    {
     "name": "stdout",
     "output_type": "stream",
     "text": [
      "83/83 [==============================] - 0s 415us/step\n",
      "              precision    recall  f1-score   support\n",
      "\n",
      "           0     0.9821    0.9111    0.9453      1328\n",
      "           1     0.9162    0.9832    0.9485      1312\n",
      "\n",
      "    accuracy                         0.9470      2640\n",
      "   macro avg     0.9492    0.9472    0.9469      2640\n",
      "weighted avg     0.9494    0.9470    0.9469      2640\n",
      "\n",
      "83/83 [==============================] - 0s 499us/step - loss: 0.1426 - accuracy: 0.9470\n",
      "Test accuracy: 0.9469696879386902\n"
     ]
    }
   ],
   "source": [
    "\n",
    "\n",
    "# predict probabilities with neural network model for all variables\n",
    "nn_probs = model_upsample_all.predict(X_test_upsample)\n",
    "# compare the predicted probabilities\n",
    "fpr_nn, tpr_nn, _ = roc_curve(y_test_upsample, nn_probs)\n",
    "roc_auc_nn = auc(fpr_nn, tpr_nn)\n",
    "plt.plot(fpr_nn, tpr_nn, color='green', label='Neural Network for All Variables (AUC = %0.4f)' % roc_auc_nn)\n",
    "plt.legend()\n",
    "plt.xlabel('False Positive Rate')\n",
    "plt.ylabel('True Positive Rate')\n",
    "plt.show()\n",
    "\n",
    "# Predict on test data\n",
    "y_pred = model_upsample_all.predict(X_test_upsample)\n",
    "\n",
    "# Convert predicted probabilities to class labels\n",
    "y_pred = (y_pred > 0.5).astype(int)\n",
    "\n",
    "# Generate classification report\n",
    "print(classification_report(y_test_upsample, y_pred, digits = 4))\n",
    "\n",
    "loss, accuracy = model_upsample_all.evaluate(X_test_upsample, y_test_upsample)\n",
    "print('Test accuracy:', accuracy)\n",
    "\n"
   ]
  },
  {
   "attachments": {},
   "cell_type": "markdown",
   "metadata": {},
   "source": [
    "### This code block below plots the AUC and its associated classification report for the NN model on the top 10 variables."
   ]
  },
  {
   "cell_type": "code",
   "execution_count": 11,
   "metadata": {},
   "outputs": [
    {
     "name": "stdout",
     "output_type": "stream",
     "text": [
      "83/83 [==============================] - 0s 432us/step\n"
     ]
    },
    {
     "data": {
      "image/png": "[encoded data removed]",
      "text/plain": [
       "<Figure size 640x480 with 1 Axes>"
      ]
     },
     "metadata": {},
     "output_type": "display_data"
    },
    {
     "name": "stdout",
     "output_type": "stream",
     "text": [
      "83/83 [==============================] - 0s 416us/step\n",
      "              precision    recall  f1-score   support\n",
      "\n",
      "           0     0.7843    0.9307    0.8512      1328\n",
      "           1     0.9135    0.7409    0.8182      1312\n",
      "\n",
      "    accuracy                         0.8364      2640\n",
      "   macro avg     0.8489    0.8358    0.8347      2640\n",
      "weighted avg     0.8485    0.8364    0.8348      2640\n",
      "\n",
      "83/83 [==============================] - 0s 470us/step - loss: 0.3416 - accuracy: 0.8364\n",
      "Test accuracy: 0.8363636136054993\n"
     ]
    }
   ],
   "source": [
    "# predict probabilities with neural network model for top 10 variables\n",
    "nn_probs_top10 = model_upsample_top10.predict(X_test_top10_upsample)\n",
    "# compare the predicted probabilities\n",
    "fpr_nn_top10, tpr_nn_top10, _ = roc_curve(y_test_top10_upsample, nn_probs_top10)\n",
    "roc_auc_nn_top10 = auc(fpr_nn_top10, tpr_nn_top10)\n",
    "plt.plot(fpr_nn_top10, tpr_nn_top10, color='green', label='Neural Network for Top 10 Variables (AUC = %0.4f)' % roc_auc_nn_top10)\n",
    "plt.legend()\n",
    "plt.xlabel('False Positive Rate')\n",
    "plt.ylabel('True Positive Rate')\n",
    "plt.show()\n",
    "\n",
    "# Predict on test data\n",
    "y_pred = model_upsample_top10.predict(X_test_top10_upsample)\n",
    "\n",
    "# Convert predicted probabilities to class labels\n",
    "y_pred = (y_pred > 0.5).astype(int)\n",
    "\n",
    "# Generate classification report\n",
    "print(classification_report(y_test_top10_upsample, y_pred, digits = 4))\n",
    "\n",
    "loss, accuracy = model_upsample_top10.evaluate(X_test_top10_upsample, y_test_top10_upsample)\n",
    "print('Test accuracy:', accuracy)\n",
    "\n",
    "\n"
   ]
  }
 ],
 "metadata": {
  "kernelspec": {
   "display_name": "Python 3.6.13 ('DUDE')",
   "language": "python",
   "name": "python3"
  },
  "language_info": {
   "codemirror_mode": {
    "name": "ipython",
    "version": 3
   },
   "file_extension": ".py",
   "mimetype": "text/x-python",
   "name": "python",
   "nbconvert_exporter": "python",
   "pygments_lexer": "ipython3",
   "version": "3.10.4"
  },
  "orig_nbformat": 4,
  "vscode": {
   "interpreter": {
    "hash": "ea3553453a872af77173f1ee7c37bb36ebea58ec858f9e4d55435a623fd5d73f"
   }
  }
 },
 "nbformat": 4,
 "nbformat_minor": 2
}
