{
 "cells": [
  {
   "attachments": {},
   "cell_type": "markdown",
   "metadata": {},
   "source": [
    "## Neural Network Model\n",
    "\n",
    "A neural network model (NNM) is a type of machine learning model that is loosely modeled after the structure and function of the human brain. It consists of a large number of interconnected processing nodes, or \"neurons,\" that work together to process input data and make predictions or classifications. \n",
    "\n",
    "For this project, we utilised Keras, a high-level neural netowkrs API, written in Python. The basic building block of a Keras model is a layer. Layers are stacked together to form a neural network model, and each layer is responsible for performing a specific transformation on its inputs. The output of one layer becomes the input of the next layer until the final output layer produces the model’s predictions.\n",
    "\n",
    " We have used this model to predict bankruptcy and performed analysis based on the following steps:\n",
    "1. Preparing data (obtain top 10 features, obtain train and test sets)\n",
    "2. Training NNM on full dataset (all 95 features)\n",
    "3. Training NNM with only top 10 features\n",
    "4. Evaluating the performance of each model by generating ROC and AUC, and comparing the classification reports of each model\n",
    "\n",
    "**Conclusion**\n",
    "\n",
    "Using this Neural Network model, we concluded that the model trained on the full dataset (Model 1) is more accurate (**94.17%**) compared to the model trained on the top 10 variables (Model 2) (**87.20%**). Plotting the ROC and obtaining the AUC, we obtained an AUC of **0.9839** for Model 1 and **0.9462** for Model 2. We can conclude that the NNM is thus able to distinguish between positive and negative cases very well, and is an almost perfect classifier.\n"
   ]
  },
  {
   "attachments": {},
   "cell_type": "markdown",
   "metadata": {},
   "source": [
    "### 1. Preparing Data\n",
    "\n",
    "##### a) Importing necessary libraries and load upsampled dataset"
   ]
  },
  {
   "cell_type": "code",
   "execution_count": 69,
   "metadata": {},
   "outputs": [],
   "source": [
    "import pandas as pd\n",
    "from sklearn.model_selection import train_test_split\n",
    "from keras.models import Sequential\n",
    "from keras.layers import Dense\n",
    "from keras.utils.vis_utils import plot_model\n",
    "import matplotlib.pyplot as plt\n",
    "from sklearn.metrics import classification_report\n",
    "from keras.layers import Dense, Dropout, BatchNormalization\n",
    "from sklearn.metrics import roc_curve, auc\n"
   ]
  },
  {
   "cell_type": "code",
   "execution_count": 70,
   "metadata": {},
   "outputs": [],
   "source": [
    "# Load the data from CSV file\n",
    "df = pd.read_csv(\"upsampled_bankruptcy.csv\")\n"
   ]
  },
  {
   "attachments": {},
   "cell_type": "markdown",
   "metadata": {},
   "source": [
    "##### b) Splitting data into test and training sets (all 95 variables)"
   ]
  },
  {
   "cell_type": "code",
   "execution_count": 71,
   "metadata": {},
   "outputs": [
    {
     "data": {
      "text/plain": [
       "0    6599\n",
       "1    6599\n",
       "Name: Bankrupt?, dtype: int64"
      ]
     },
     "execution_count": 71,
     "metadata": {},
     "output_type": "execute_result"
    }
   ],
   "source": [
    "# Display new class counts\n",
    "df[\"Bankrupt?\"].value_counts()\n",
    "X_upsample = df.drop(\"Bankrupt?\", axis=1)\n",
    "y_upsample = df[\"Bankrupt?\"]\n",
    "\n",
    "X_train_upsample, X_test_upsample, y_train_upsample, y_test_upsample = train_test_split(X_upsample, y_upsample, test_size=0.2,random_state=42)\n",
    "y_upsample.value_counts()\n",
    "\n"
   ]
  },
  {
   "attachments": {},
   "cell_type": "markdown",
   "metadata": {},
   "source": [
    "##### c) Splitting data into test and training sets (top 10 variables)"
   ]
  },
  {
   "cell_type": "code",
   "execution_count": 72,
   "metadata": {},
   "outputs": [],
   "source": [
    "# Split the data into training and testing sets for top 10 variables based on correlation with bankruptcy\n",
    "\n",
    "corr_matrix = df.corr()\n",
    "num_features = 10\n",
    "corr_with_bankrupt = corr_matrix[\"Bankrupt?\"].abs().sort_values(ascending=False)\n",
    "top_corr_features = corr_with_bankrupt[1:num_features+1].index.tolist()\n",
    "df_top10_upsampled = df[top_corr_features]\n",
    "X_top10_upsample = df_top10_upsampled\n",
    "y_top10_upsample = df[\"Bankrupt?\"]\n",
    "X_train_top10_upsample, X_test_top10_upsample, y_train_top10_upsample, y_test_top10_upsample = train_test_split(X_top10_upsample, y_top10_upsample, test_size=0.2,random_state=42)"
   ]
  },
  {
   "attachments": {},
   "cell_type": "markdown",
   "metadata": {},
   "source": [
    "### 2. Training NNM on full dataset\n",
    "\n",
    "##### a) Building Neural network"
   ]
  },
  {
   "attachments": {},
   "cell_type": "markdown",
   "metadata": {},
   "source": [
    "Overall, this model architecture consists of three fully connected layers with ReLU activation functions, followed by BatchNormalization and Dropout layers to improve model performance and prevent overfitting, and a final output layer with a sigmoid activation function for binary classification."
   ]
  },
  {
   "cell_type": "code",
   "execution_count": 73,
   "metadata": {},
   "outputs": [],
   "source": [
    "# Build the neural network model\n",
    "\n",
    "\n",
    "# model for upsampled data (All)\n",
    "\n",
    "model_upsample_all = Sequential()\n",
    "model_upsample_all.add(Dense(128, input_dim=X_train_upsample.shape[1], activation='relu'))\n",
    "model_upsample_all.add(BatchNormalization())\n",
    "model_upsample_all.add(Dense(64, activation='relu'))\n",
    "model_upsample_all.add(Dropout(0.2))\n",
    "model_upsample_all.add(Dense(32, activation='relu'))\n",
    "model_upsample_all.add(Dense(1, activation='sigmoid'))\n",
    "model_upsample_all.compile(loss='binary_crossentropy', optimizer='adam', metrics=['accuracy'])"
   ]
  },
  {
   "attachments": {},
   "cell_type": "markdown",
   "metadata": {},
   "source": [
    "##### b) Compiling the model \n",
    "\n",
    "model.compile is a function in Keras that compiles the model with the chosen loss function, optimizer, and metrics. \n",
    "\n",
    "In this case, the loss function chosen is binary_crossentropy, which is commonly used for binary classification problems. The optimizer chosen is adam, which is a commonly used optimization algorithm for neural networks. Finally, metrics is set to accuracy, which will be used to evaluate the performance of the model during training and testing."
   ]
  },
  {
   "cell_type": "code",
   "execution_count": 74,
   "metadata": {},
   "outputs": [],
   "source": [
    "\n",
    "# compile the model for all variables with upsampled dataset\n",
    "\n",
    "model_upsample_all.compile(loss='binary_crossentropy', optimizer='adam', metrics=['accuracy'])\n"
   ]
  },
  {
   "attachments": {},
   "cell_type": "markdown",
   "metadata": {},
   "source": [
    "##### c) Training the neural network model\n",
    "\n",
    "Overall, this line of code is training the neural network model on the upsampled training data, using mini-batch stochastic gradient descent with a batch size of 32 and the binary crossentropy loss function. The model is evaluated on the validation data after each epoch."
   ]
  },
  {
   "cell_type": "code",
   "execution_count": 75,
   "metadata": {},
   "outputs": [
    {
     "name": "stdout",
     "output_type": "stream",
     "text": [
      "Epoch 1/50\n",
      "330/330 [==============================] - 1s 1ms/step - loss: 0.5843 - accuracy: 0.6940 - val_loss: 0.4832 - val_accuracy: 0.7659\n",
      "Epoch 2/50\n",
      "330/330 [==============================] - 0s 977us/step - loss: 0.4817 - accuracy: 0.7640 - val_loss: 0.4082 - val_accuracy: 0.8220\n",
      "Epoch 3/50\n",
      "330/330 [==============================] - 0s 965us/step - loss: 0.4360 - accuracy: 0.8012 - val_loss: 0.3601 - val_accuracy: 0.8398\n",
      "Epoch 4/50\n",
      "330/330 [==============================] - 0s 968us/step - loss: 0.4028 - accuracy: 0.8181 - val_loss: 0.3359 - val_accuracy: 0.8720\n",
      "Epoch 5/50\n",
      "330/330 [==============================] - 0s 1ms/step - loss: 0.3946 - accuracy: 0.8252 - val_loss: 0.3123 - val_accuracy: 0.8742\n",
      "Epoch 6/50\n",
      "330/330 [==============================] - 0s 1ms/step - loss: 0.3647 - accuracy: 0.8372 - val_loss: 0.3034 - val_accuracy: 0.8610\n",
      "Epoch 7/50\n",
      "330/330 [==============================] - 0s 981us/step - loss: 0.3463 - accuracy: 0.8518 - val_loss: 0.2831 - val_accuracy: 0.8860\n",
      "Epoch 8/50\n",
      "330/330 [==============================] - 0s 975us/step - loss: 0.3334 - accuracy: 0.8592 - val_loss: 0.2706 - val_accuracy: 0.8928\n",
      "Epoch 9/50\n",
      "330/330 [==============================] - 0s 978us/step - loss: 0.3291 - accuracy: 0.8607 - val_loss: 0.2609 - val_accuracy: 0.9038\n",
      "Epoch 10/50\n",
      "330/330 [==============================] - 0s 1ms/step - loss: 0.3196 - accuracy: 0.8662 - val_loss: 0.2579 - val_accuracy: 0.9049\n",
      "Epoch 11/50\n",
      "330/330 [==============================] - 0s 987us/step - loss: 0.3084 - accuracy: 0.8698 - val_loss: 0.2672 - val_accuracy: 0.9068\n",
      "Epoch 12/50\n",
      "330/330 [==============================] - 0s 990us/step - loss: 0.3030 - accuracy: 0.8701 - val_loss: 0.2563 - val_accuracy: 0.9061\n",
      "Epoch 13/50\n",
      "330/330 [==============================] - 0s 1ms/step - loss: 0.3003 - accuracy: 0.8700 - val_loss: 0.2259 - val_accuracy: 0.9129\n",
      "Epoch 14/50\n",
      "330/330 [==============================] - 0s 1ms/step - loss: 0.2816 - accuracy: 0.8839 - val_loss: 0.2169 - val_accuracy: 0.9258\n",
      "Epoch 15/50\n",
      "330/330 [==============================] - 0s 955us/step - loss: 0.2747 - accuracy: 0.8872 - val_loss: 0.2121 - val_accuracy: 0.9223\n",
      "Epoch 16/50\n",
      "330/330 [==============================] - 0s 989us/step - loss: 0.2676 - accuracy: 0.8917 - val_loss: 0.2236 - val_accuracy: 0.9148\n",
      "Epoch 17/50\n",
      "330/330 [==============================] - 0s 985us/step - loss: 0.2709 - accuracy: 0.8872 - val_loss: 0.2096 - val_accuracy: 0.9212\n",
      "Epoch 18/50\n",
      "330/330 [==============================] - 0s 986us/step - loss: 0.2621 - accuracy: 0.8933 - val_loss: 0.1925 - val_accuracy: 0.9337\n",
      "Epoch 19/50\n",
      "330/330 [==============================] - 0s 999us/step - loss: 0.2538 - accuracy: 0.8966 - val_loss: 0.1919 - val_accuracy: 0.9314\n",
      "Epoch 20/50\n",
      "330/330 [==============================] - 0s 962us/step - loss: 0.2523 - accuracy: 0.8953 - val_loss: 0.2076 - val_accuracy: 0.9201\n",
      "Epoch 21/50\n",
      "330/330 [==============================] - 0s 961us/step - loss: 0.2506 - accuracy: 0.8989 - val_loss: 0.1815 - val_accuracy: 0.9367\n",
      "Epoch 22/50\n",
      "330/330 [==============================] - 0s 981us/step - loss: 0.2418 - accuracy: 0.9019 - val_loss: 0.1876 - val_accuracy: 0.9371\n",
      "Epoch 23/50\n",
      "330/330 [==============================] - 0s 1ms/step - loss: 0.2397 - accuracy: 0.9020 - val_loss: 0.1939 - val_accuracy: 0.9352\n",
      "Epoch 24/50\n",
      "330/330 [==============================] - 0s 976us/step - loss: 0.2407 - accuracy: 0.9027 - val_loss: 0.1778 - val_accuracy: 0.9352\n",
      "Epoch 25/50\n",
      "330/330 [==============================] - 0s 966us/step - loss: 0.2378 - accuracy: 0.9022 - val_loss: 0.1765 - val_accuracy: 0.9439\n",
      "Epoch 26/50\n",
      "330/330 [==============================] - 0s 993us/step - loss: 0.2311 - accuracy: 0.9054 - val_loss: 0.1987 - val_accuracy: 0.9261\n",
      "Epoch 27/50\n",
      "330/330 [==============================] - 0s 989us/step - loss: 0.2259 - accuracy: 0.9083 - val_loss: 0.1646 - val_accuracy: 0.9424\n",
      "Epoch 28/50\n",
      "330/330 [==============================] - 0s 993us/step - loss: 0.2239 - accuracy: 0.9100 - val_loss: 0.1714 - val_accuracy: 0.9367\n",
      "Epoch 29/50\n",
      "330/330 [==============================] - 0s 1ms/step - loss: 0.2229 - accuracy: 0.9098 - val_loss: 0.1648 - val_accuracy: 0.9371\n",
      "Epoch 30/50\n",
      "330/330 [==============================] - 0s 991us/step - loss: 0.2170 - accuracy: 0.9140 - val_loss: 0.1746 - val_accuracy: 0.9398\n",
      "Epoch 31/50\n",
      "330/330 [==============================] - 0s 954us/step - loss: 0.2304 - accuracy: 0.9075 - val_loss: 0.1948 - val_accuracy: 0.9223\n",
      "Epoch 32/50\n",
      "330/330 [==============================] - 0s 997us/step - loss: 0.2175 - accuracy: 0.9131 - val_loss: 0.1530 - val_accuracy: 0.9485\n",
      "Epoch 33/50\n",
      "330/330 [==============================] - 0s 990us/step - loss: 0.2103 - accuracy: 0.9141 - val_loss: 0.1744 - val_accuracy: 0.9375\n",
      "Epoch 34/50\n",
      "330/330 [==============================] - 0s 993us/step - loss: 0.2163 - accuracy: 0.9164 - val_loss: 0.1555 - val_accuracy: 0.9443\n",
      "Epoch 35/50\n",
      "330/330 [==============================] - 0s 1ms/step - loss: 0.2080 - accuracy: 0.9180 - val_loss: 0.1611 - val_accuracy: 0.9405\n",
      "Epoch 36/50\n",
      "330/330 [==============================] - 0s 969us/step - loss: 0.2095 - accuracy: 0.9136 - val_loss: 0.1538 - val_accuracy: 0.9417\n",
      "Epoch 37/50\n",
      "330/330 [==============================] - 0s 999us/step - loss: 0.2092 - accuracy: 0.9164 - val_loss: 0.1824 - val_accuracy: 0.9318\n",
      "Epoch 38/50\n",
      "330/330 [==============================] - 0s 999us/step - loss: 0.2136 - accuracy: 0.9141 - val_loss: 0.1505 - val_accuracy: 0.9439\n",
      "Epoch 39/50\n",
      "330/330 [==============================] - 0s 1ms/step - loss: 0.1998 - accuracy: 0.9202 - val_loss: 0.1495 - val_accuracy: 0.9424\n",
      "Epoch 40/50\n",
      "330/330 [==============================] - 0s 984us/step - loss: 0.2034 - accuracy: 0.9182 - val_loss: 0.1547 - val_accuracy: 0.9470\n",
      "Epoch 41/50\n",
      "330/330 [==============================] - 0s 1ms/step - loss: 0.1931 - accuracy: 0.9240 - val_loss: 0.1705 - val_accuracy: 0.9314\n",
      "Epoch 42/50\n",
      "330/330 [==============================] - 0s 1ms/step - loss: 0.2050 - accuracy: 0.9184 - val_loss: 0.1455 - val_accuracy: 0.9489\n",
      "Epoch 43/50\n",
      "330/330 [==============================] - 0s 970us/step - loss: 0.1957 - accuracy: 0.9228 - val_loss: 0.1475 - val_accuracy: 0.9504\n",
      "Epoch 44/50\n",
      "330/330 [==============================] - 0s 958us/step - loss: 0.1915 - accuracy: 0.9255 - val_loss: 0.1511 - val_accuracy: 0.9428\n",
      "Epoch 45/50\n",
      "330/330 [==============================] - 0s 992us/step - loss: 0.1949 - accuracy: 0.9258 - val_loss: 0.1434 - val_accuracy: 0.9436\n",
      "Epoch 46/50\n",
      "330/330 [==============================] - 0s 1ms/step - loss: 0.1953 - accuracy: 0.9225 - val_loss: 0.1513 - val_accuracy: 0.9466\n",
      "Epoch 47/50\n",
      "330/330 [==============================] - 0s 1ms/step - loss: 0.1929 - accuracy: 0.9233 - val_loss: 0.1427 - val_accuracy: 0.9447\n",
      "Epoch 48/50\n",
      "330/330 [==============================] - 0s 992us/step - loss: 0.1849 - accuracy: 0.9262 - val_loss: 0.1474 - val_accuracy: 0.9432\n",
      "Epoch 49/50\n",
      "330/330 [==============================] - 0s 957us/step - loss: 0.1972 - accuracy: 0.9223 - val_loss: 0.1563 - val_accuracy: 0.9409\n",
      "Epoch 50/50\n",
      "330/330 [==============================] - 0s 954us/step - loss: 0.1905 - accuracy: 0.9217 - val_loss: 0.1575 - val_accuracy: 0.9417\n"
     ]
    },
    {
     "data": {
      "text/plain": [
       "<keras.callbacks.History at 0x7fab99307eb0>"
      ]
     },
     "execution_count": 75,
     "metadata": {},
     "output_type": "execute_result"
    }
   ],
   "source": [
    "# Train the model for all the variables with the upsampled dataset\n",
    "\n",
    "model_upsample_all.fit(X_train_upsample, y_train_upsample, epochs=50, batch_size=32, validation_data=(X_test_upsample, y_test_upsample))\n"
   ]
  },
  {
   "attachments": {},
   "cell_type": "markdown",
   "metadata": {},
   "source": [
    "### 3. Training NNM on top 10 variables"
   ]
  },
  {
   "cell_type": "code",
   "execution_count": 76,
   "metadata": {},
   "outputs": [
    {
     "name": "stdout",
     "output_type": "stream",
     "text": [
      "Epoch 1/50\n",
      "330/330 [==============================] - 1s 1ms/step - loss: 0.3783 - accuracy: 0.8359 - val_loss: 0.4835 - val_accuracy: 0.8689\n",
      "Epoch 2/50\n",
      "330/330 [==============================] - 0s 950us/step - loss: 0.3592 - accuracy: 0.8427 - val_loss: 0.4355 - val_accuracy: 0.7769\n",
      "Epoch 3/50\n",
      "330/330 [==============================] - 0s 927us/step - loss: 0.3530 - accuracy: 0.8476 - val_loss: 0.3487 - val_accuracy: 0.8686\n",
      "Epoch 4/50\n",
      "330/330 [==============================] - 0s 935us/step - loss: 0.3445 - accuracy: 0.8526 - val_loss: 0.3343 - val_accuracy: 0.8670\n",
      "Epoch 5/50\n",
      "330/330 [==============================] - 0s 914us/step - loss: 0.3462 - accuracy: 0.8484 - val_loss: 0.3679 - val_accuracy: 0.8515\n",
      "Epoch 6/50\n",
      "330/330 [==============================] - 0s 926us/step - loss: 0.3367 - accuracy: 0.8574 - val_loss: 0.3364 - val_accuracy: 0.8598\n",
      "Epoch 7/50\n",
      "330/330 [==============================] - 0s 904us/step - loss: 0.3361 - accuracy: 0.8564 - val_loss: 0.3439 - val_accuracy: 0.8663\n",
      "Epoch 8/50\n",
      "330/330 [==============================] - 0s 936us/step - loss: 0.3381 - accuracy: 0.8528 - val_loss: 0.4551 - val_accuracy: 0.8004\n",
      "Epoch 9/50\n",
      "330/330 [==============================] - 0s 920us/step - loss: 0.3257 - accuracy: 0.8594 - val_loss: 0.5987 - val_accuracy: 0.7174\n",
      "Epoch 10/50\n",
      "330/330 [==============================] - 0s 912us/step - loss: 0.3301 - accuracy: 0.8612 - val_loss: 0.3175 - val_accuracy: 0.8720\n",
      "Epoch 11/50\n",
      "330/330 [==============================] - 0s 935us/step - loss: 0.3272 - accuracy: 0.8605 - val_loss: 0.3966 - val_accuracy: 0.8212\n",
      "Epoch 12/50\n",
      "330/330 [==============================] - 0s 941us/step - loss: 0.3236 - accuracy: 0.8601 - val_loss: 0.4104 - val_accuracy: 0.7981\n",
      "Epoch 13/50\n",
      "330/330 [==============================] - 0s 914us/step - loss: 0.3231 - accuracy: 0.8613 - val_loss: 0.5857 - val_accuracy: 0.7178\n",
      "Epoch 14/50\n",
      "330/330 [==============================] - 0s 923us/step - loss: 0.3146 - accuracy: 0.8656 - val_loss: 0.5886 - val_accuracy: 0.7515\n",
      "Epoch 15/50\n",
      "330/330 [==============================] - 0s 920us/step - loss: 0.3184 - accuracy: 0.8644 - val_loss: 0.3284 - val_accuracy: 0.8439\n",
      "Epoch 16/50\n",
      "330/330 [==============================] - 0s 928us/step - loss: 0.3148 - accuracy: 0.8652 - val_loss: 1.2251 - val_accuracy: 0.6121\n",
      "Epoch 17/50\n",
      "330/330 [==============================] - 0s 924us/step - loss: 0.3104 - accuracy: 0.8655 - val_loss: 0.6122 - val_accuracy: 0.6958\n",
      "Epoch 18/50\n",
      "330/330 [==============================] - 0s 920us/step - loss: 0.3117 - accuracy: 0.8656 - val_loss: 0.5891 - val_accuracy: 0.7345\n",
      "Epoch 19/50\n",
      "330/330 [==============================] - 0s 916us/step - loss: 0.3073 - accuracy: 0.8690 - val_loss: 0.3102 - val_accuracy: 0.8697\n",
      "Epoch 20/50\n",
      "330/330 [==============================] - 0s 911us/step - loss: 0.3051 - accuracy: 0.8703 - val_loss: 0.6813 - val_accuracy: 0.6269\n",
      "Epoch 21/50\n",
      "330/330 [==============================] - 0s 907us/step - loss: 0.3093 - accuracy: 0.8693 - val_loss: 0.3578 - val_accuracy: 0.8436\n",
      "Epoch 22/50\n",
      "330/330 [==============================] - 0s 1ms/step - loss: 0.3000 - accuracy: 0.8701 - val_loss: 0.4180 - val_accuracy: 0.7924\n",
      "Epoch 23/50\n",
      "330/330 [==============================] - 0s 919us/step - loss: 0.3054 - accuracy: 0.8691 - val_loss: 0.4670 - val_accuracy: 0.8000\n",
      "Epoch 24/50\n",
      "330/330 [==============================] - 0s 932us/step - loss: 0.3008 - accuracy: 0.8683 - val_loss: 0.7252 - val_accuracy: 0.7269\n",
      "Epoch 25/50\n",
      "330/330 [==============================] - 0s 924us/step - loss: 0.3027 - accuracy: 0.8688 - val_loss: 0.5105 - val_accuracy: 0.7648\n",
      "Epoch 26/50\n",
      "330/330 [==============================] - 0s 925us/step - loss: 0.3014 - accuracy: 0.8725 - val_loss: 0.3055 - val_accuracy: 0.8773\n",
      "Epoch 27/50\n",
      "330/330 [==============================] - 0s 934us/step - loss: 0.2924 - accuracy: 0.8762 - val_loss: 0.3390 - val_accuracy: 0.8500\n",
      "Epoch 28/50\n",
      "330/330 [==============================] - 0s 933us/step - loss: 0.2966 - accuracy: 0.8727 - val_loss: 0.3566 - val_accuracy: 0.8405\n",
      "Epoch 29/50\n",
      "330/330 [==============================] - 0s 913us/step - loss: 0.3005 - accuracy: 0.8701 - val_loss: 0.3330 - val_accuracy: 0.8318\n",
      "Epoch 30/50\n",
      "330/330 [==============================] - 0s 923us/step - loss: 0.2973 - accuracy: 0.8707 - val_loss: 0.3699 - val_accuracy: 0.8500\n",
      "Epoch 31/50\n",
      "330/330 [==============================] - 0s 924us/step - loss: 0.2949 - accuracy: 0.8738 - val_loss: 0.3771 - val_accuracy: 0.8288\n",
      "Epoch 32/50\n",
      "330/330 [==============================] - 0s 911us/step - loss: 0.2878 - accuracy: 0.8749 - val_loss: 0.3796 - val_accuracy: 0.8337\n",
      "Epoch 33/50\n",
      "330/330 [==============================] - 0s 922us/step - loss: 0.2901 - accuracy: 0.8731 - val_loss: 0.4025 - val_accuracy: 0.7947\n",
      "Epoch 34/50\n",
      "330/330 [==============================] - 0s 924us/step - loss: 0.2889 - accuracy: 0.8779 - val_loss: 0.2986 - val_accuracy: 0.8924\n",
      "Epoch 35/50\n",
      "330/330 [==============================] - 0s 921us/step - loss: 0.2912 - accuracy: 0.8749 - val_loss: 0.4679 - val_accuracy: 0.8212\n",
      "Epoch 36/50\n",
      "330/330 [==============================] - 0s 947us/step - loss: 0.2810 - accuracy: 0.8817 - val_loss: 0.4037 - val_accuracy: 0.7841\n",
      "Epoch 37/50\n",
      "330/330 [==============================] - 0s 938us/step - loss: 0.2814 - accuracy: 0.8818 - val_loss: 0.7065 - val_accuracy: 0.6364\n",
      "Epoch 38/50\n",
      "330/330 [==============================] - 0s 953us/step - loss: 0.2858 - accuracy: 0.8816 - val_loss: 0.3066 - val_accuracy: 0.8807\n",
      "Epoch 39/50\n",
      "330/330 [==============================] - 0s 951us/step - loss: 0.2850 - accuracy: 0.8783 - val_loss: 0.3150 - val_accuracy: 0.8754\n",
      "Epoch 40/50\n",
      "330/330 [==============================] - 0s 1ms/step - loss: 0.2723 - accuracy: 0.8824 - val_loss: 0.2884 - val_accuracy: 0.8814\n",
      "Epoch 41/50\n",
      "330/330 [==============================] - 0s 1ms/step - loss: 0.2805 - accuracy: 0.8784 - val_loss: 0.3316 - val_accuracy: 0.8663\n",
      "Epoch 42/50\n",
      "330/330 [==============================] - 0s 984us/step - loss: 0.2786 - accuracy: 0.8835 - val_loss: 0.5691 - val_accuracy: 0.7572\n",
      "Epoch 43/50\n",
      "330/330 [==============================] - 0s 988us/step - loss: 0.2787 - accuracy: 0.8805 - val_loss: 0.3811 - val_accuracy: 0.8508\n",
      "Epoch 44/50\n",
      "330/330 [==============================] - 0s 1ms/step - loss: 0.2774 - accuracy: 0.8815 - val_loss: 0.3588 - val_accuracy: 0.8231\n",
      "Epoch 45/50\n",
      "330/330 [==============================] - 0s 1ms/step - loss: 0.2793 - accuracy: 0.8829 - val_loss: 0.3533 - val_accuracy: 0.8326\n",
      "Epoch 46/50\n",
      "330/330 [==============================] - 0s 976us/step - loss: 0.2803 - accuracy: 0.8792 - val_loss: 0.4193 - val_accuracy: 0.8205\n",
      "Epoch 47/50\n",
      "330/330 [==============================] - 0s 923us/step - loss: 0.2741 - accuracy: 0.8851 - val_loss: 0.3557 - val_accuracy: 0.8231\n",
      "Epoch 48/50\n",
      "330/330 [==============================] - 0s 917us/step - loss: 0.2687 - accuracy: 0.8857 - val_loss: 0.4549 - val_accuracy: 0.7667\n",
      "Epoch 49/50\n",
      "330/330 [==============================] - 0s 992us/step - loss: 0.2703 - accuracy: 0.8865 - val_loss: 0.3095 - val_accuracy: 0.8670\n",
      "Epoch 50/50\n",
      "330/330 [==============================] - 0s 941us/step - loss: 0.2734 - accuracy: 0.8836 - val_loss: 0.2998 - val_accuracy: 0.8720\n"
     ]
    },
    {
     "data": {
      "text/plain": [
       "<keras.callbacks.History at 0x7fabc9469750>"
      ]
     },
     "execution_count": 76,
     "metadata": {},
     "output_type": "execute_result"
    }
   ],
   "source": [
    "# model for upsampled data (Top 10)\n",
    "\n",
    "model_upsample_top10 = Sequential()\n",
    "model_upsample_top10.add(Dense(128, input_dim=X_train_top10_upsample.shape[1], activation='relu'))\n",
    "model_upsample_top10.add(BatchNormalization())\n",
    "model_upsample_top10.add(Dense(64, activation='relu'))\n",
    "model_upsample_top10.add(Dropout(0.2))\n",
    "model_upsample_top10.add(Dense(32, activation='relu'))\n",
    "model_upsample_top10.add(Dense(1, activation='sigmoid'))\n",
    "model_upsample_top10.compile(loss='binary_crossentropy', optimizer='adam', metrics=['accuracy'])\n",
    "\n",
    "\n",
    "# compile the model for top 10 variables with upsampled dataset\n",
    "\n",
    "model_upsample_top10.compile(loss='binary_crossentropy', optimizer='adam', metrics=['accuracy'])\n",
    "\n",
    "\n",
    "# Train the model for top 10 variables with the upsampled dataset\n",
    "\n",
    "model_upsample_top10.fit(X_train_top10_upsample, y_train_top10_upsample, epochs=50, batch_size=32, validation_data=(X_test_top10_upsample, y_test_top10_upsample))\n",
    "\n",
    "\n"
   ]
  },
  {
   "attachments": {},
   "cell_type": "markdown",
   "metadata": {},
   "source": [
    "### 4. Evaluating Performance of both Models\n"
   ]
  },
  {
   "attachments": {},
   "cell_type": "markdown",
   "metadata": {},
   "source": [
    "##### a) Accuracy of our NNMs"
   ]
  },
  {
   "cell_type": "code",
   "execution_count": 77,
   "metadata": {},
   "outputs": [
    {
     "name": "stdout",
     "output_type": "stream",
     "text": [
      "83/83 [==============================] - 0s 491us/step - loss: 0.1575 - accuracy: 0.9417\n",
      "Accuracy for upsampled dataset with all variables: 0.9416666626930237\n",
      "83/83 [==============================] - 0s 450us/step - loss: 0.2998 - accuracy: 0.8720\n",
      "Accuracy for upsampled dataset with top 10 variables: 0.8719696998596191\n"
     ]
    }
   ],
   "source": [
    "\n",
    "#Accuracy for upsampled dataset for all the variables and optimised model\n",
    "loss_upsample_all, accuracy_upsample_all = model_upsample_all.evaluate(X_test_upsample, y_test_upsample)\n",
    "\n",
    "print(\"Accuracy for upsampled dataset with all variables:\", accuracy_upsample_all)\n",
    "\n",
    "\n",
    "#Accuracy for upsampled dataset for top 10 variables and optimised model\n",
    "loss_upsample_top10, accuracy_upsample_top10 = model_upsample_top10.evaluate(X_test_top10_upsample, y_test_top10_upsample)\n",
    "\n",
    "print(\"Accuracy for upsampled dataset with top 10 variables:\", accuracy_upsample_top10)"
   ]
  },
  {
   "attachments": {},
   "cell_type": "markdown",
   "metadata": {},
   "source": [
    "##### b) Plotting the ROC, AUC and its associated classification report for the NN model (full dataset)"
   ]
  },
  {
   "cell_type": "code",
   "execution_count": 78,
   "metadata": {},
   "outputs": [
    {
     "name": "stdout",
     "output_type": "stream",
     "text": [
      "83/83 [==============================] - 0s 480us/step\n"
     ]
    },
    {
     "data": {
      "image/png": "[encoded data removed]",
      "text/plain": [
       "<Figure size 640x480 with 1 Axes>"
      ]
     },
     "metadata": {},
     "output_type": "display_data"
    },
    {
     "name": "stdout",
     "output_type": "stream",
     "text": [
      "83/83 [==============================] - 0s 383us/step\n",
      "              precision    recall  f1-score   support\n",
      "\n",
      "           0     0.9804    0.9021    0.9396      1328\n",
      "           1     0.9083    0.9817    0.9436      1312\n",
      "\n",
      "    accuracy                         0.9417      2640\n",
      "   macro avg     0.9443    0.9419    0.9416      2640\n",
      "weighted avg     0.9446    0.9417    0.9416      2640\n",
      "\n",
      "83/83 [==============================] - 0s 455us/step - loss: 0.1575 - accuracy: 0.9417\n",
      "Test accuracy: 0.9416666626930237\n"
     ]
    }
   ],
   "source": [
    "\n",
    "\n",
    "# predict probabilities with neural network model for all variables\n",
    "nn_probs = model_upsample_all.predict(X_test_upsample)\n",
    "# compare the predicted probabilities\n",
    "fpr_nn, tpr_nn, _ = roc_curve(y_test_upsample, nn_probs)\n",
    "roc_auc_nn = auc(fpr_nn, tpr_nn)\n",
    "\n",
    "\n",
    "\n",
    "plt.plot(fpr_nn, tpr_nn, color='green', label='Neural Network for All Variables (AUC = %0.4f)' % roc_auc_nn)\n",
    "plt.legend()\n",
    "plt.xlabel('False Positive Rate')\n",
    "plt.ylabel('True Positive Rate')\n",
    "plt.show()\n",
    "\n",
    "# Predict on test data\n",
    "y_pred = model_upsample_all.predict(X_test_upsample)\n",
    "\n",
    "# Convert predicted probabilities to class labels\n",
    "y_pred = (y_pred > 0.5).astype(int)\n",
    "\n",
    "# Generate classification report\n",
    "nn_report = classification_report(y_test_upsample, y_pred, digits = 4)\n",
    "print(nn_report)\n",
    "\n",
    "\n",
    "loss, accuracy = model_upsample_all.evaluate(X_test_upsample, y_test_upsample)\n",
    "print('Test accuracy:', accuracy)\n",
    "\n"
   ]
  },
  {
   "attachments": {},
   "cell_type": "markdown",
   "metadata": {},
   "source": [
    "##### b) Plotting the ROC, AUC and its associated classification report for the NN model (top 10 variables)"
   ]
  },
  {
   "cell_type": "code",
   "execution_count": 79,
   "metadata": {},
   "outputs": [
    {
     "name": "stdout",
     "output_type": "stream",
     "text": [
      "83/83 [==============================] - 0s 592us/step\n"
     ]
    },
    {
     "data": {
      "image/png": "[encoded data removed]",
      "text/plain": [
       "<Figure size 640x480 with 1 Axes>"
      ]
     },
     "metadata": {},
     "output_type": "display_data"
    },
    {
     "name": "stdout",
     "output_type": "stream",
     "text": [
      "83/83 [==============================] - 0s 441us/step\n",
      "              precision    recall  f1-score   support\n",
      "\n",
      "           0     0.9508    0.7861    0.8607      1328\n",
      "           1     0.8158    0.9588    0.8816      1312\n",
      "\n",
      "    accuracy                         0.8720      2640\n",
      "   macro avg     0.8833    0.8725    0.8711      2640\n",
      "weighted avg     0.8837    0.8720    0.8711      2640\n",
      "\n",
      "83/83 [==============================] - 0s 470us/step - loss: 0.2998 - accuracy: 0.8720\n",
      "Test accuracy: 0.8719696998596191\n"
     ]
    }
   ],
   "source": [
    "# predict probabilities with neural network model for top 10 variables\n",
    "nn_probs_top10 = model_upsample_top10.predict(X_test_top10_upsample)\n",
    "# compare the predicted probabilities\n",
    "fpr_nn_top10, tpr_nn_top10, _ = roc_curve(y_test_top10_upsample, nn_probs_top10)\n",
    "roc_auc_nn_top10 = auc(fpr_nn_top10, tpr_nn_top10)\n",
    "\n",
    "plt.plot(fpr_nn_top10, tpr_nn_top10, color='green', label='Neural Network for Top 10 Variables (AUC = %0.4f)' % roc_auc_nn_top10)\n",
    "plt.legend()\n",
    "plt.xlabel('False Positive Rate')\n",
    "plt.ylabel('True Positive Rate')\n",
    "plt.show()\n",
    "\n",
    "# Predict on test data\n",
    "y_pred = model_upsample_top10.predict(X_test_top10_upsample)\n",
    "\n",
    "# Convert predicted probabilities to class labels\n",
    "y_pred = (y_pred > 0.5).astype(int)\n",
    "\n",
    "# Generate classification report\n",
    "nn_report_top10 = classification_report(y_test_top10_upsample, y_pred, digits = 4)\n",
    "print(nn_report_top10)\n",
    "\n",
    "loss, accuracy = model_upsample_top10.evaluate(X_test_top10_upsample, y_test_top10_upsample)\n",
    "print('Test accuracy:', accuracy)\n",
    "\n"
   ]
  },
  {
   "attachments": {},
   "cell_type": "markdown",
   "metadata": {},
   "source": [
    "storing data for evaluation notebook"
   ]
  },
  {
   "cell_type": "code",
   "execution_count": 80,
   "metadata": {},
   "outputs": [
    {
     "name": "stdout",
     "output_type": "stream",
     "text": [
      "Stored 'nn_report' (str)\n",
      "INFO:tensorflow:Assets written to: ram://376afb56-5208-49aa-bd46-6fb73e17de11/assets\n",
      "Stored 'model_upsample_all' (Sequential)\n",
      "Stored 'fpr_nn' (ndarray)\n",
      "Stored 'tpr_nn' (ndarray)\n",
      "Stored 'roc_auc_nn' (float64)\n",
      "INFO:tensorflow:Assets written to: ram://9a8a7c73-08d9-4f9d-90ab-de9a7a22f625/assets\n",
      "Stored 'model_upsample_top10' (Sequential)\n",
      "Stored 'fpr_nn_top10' (ndarray)\n",
      "Stored 'tpr_nn_top10' (ndarray)\n",
      "Stored 'roc_auc_nn_top10' (float64)\n",
      "Stored 'nn_report_top10' (str)\n"
     ]
    }
   ],
   "source": [
    "%store nn_report\n",
    "%store model_upsample_all\n",
    "%store fpr_nn\n",
    "%store tpr_nn\n",
    "%store roc_auc_nn\n",
    "\n",
    "%store model_upsample_top10\n",
    "%store fpr_nn_top10\n",
    "%store tpr_nn_top10\n",
    "%store roc_auc_nn_top10\n",
    "%store nn_report_top10"
   ]
  }
 ],
 "metadata": {
  "kernelspec": {
   "display_name": "Python 3.6.13 ('DUDE')",
   "language": "python",
   "name": "python3"
  },
  "language_info": {
   "codemirror_mode": {
    "name": "ipython",
    "version": 3
   },
   "file_extension": ".py",
   "mimetype": "text/x-python",
   "name": "python",
   "nbconvert_exporter": "python",
   "pygments_lexer": "ipython3",
   "version": "3.10.4"
  },
  "orig_nbformat": 4,
  "vscode": {
   "interpreter": {
    "hash": "ea3553453a872af77173f1ee7c37bb36ebea58ec858f9e4d55435a623fd5d73f"
   }
  }
 },
 "nbformat": 4,
 "nbformat_minor": 2
}
