{
 "cells": [
  {
   "attachments": {},
   "cell_type": "markdown",
   "metadata": {},
   "source": [
    "## Neural Network Model\n",
    "\n",
    "A neural network model (NNM) is a type of machine learning model that is loosely modeled after the structure and function of the human brain. It consists of a large number of interconnected processing nodes, or \"neurons,\" that work together to process input data and make predictions or classifications. \n",
    "\n",
    "For this project, we utilised Keras, a high-level neural netowkrs API, written in Python. The basic building block of a Keras model is a layer. Layers are stacked together to form a neural network model, and each layer is responsible for performing a specific transformation on its inputs. The output of one layer becomes the input of the next layer until the final output layer produces the model’s predictions.\n",
    "\n",
    " We have used this model to predict bankruptcy and performed analysis based on the following steps:\n",
    "1. Preparing data (obtain top 10 features, obtain train and test sets)\n",
    "2. Training NNM on full dataset (all 95 features)\n",
    "3. Training NNM with only top 10 features\n",
    "4. Evaluating the performance of each model by generating ROC and AUC, and comparing the classification reports of each model\n",
    "\n",
    "**Conclusion**\n",
    "\n",
    "Using this Neural Network model, we concluded that the model trained on the full dataset (Model 1) is more accurate (**95.27%**) compared to the model trained on the top 10 variables (Model 2) (**85.49%**). Plotting the ROC and obtaining the AUC, we obtained an AUC of **0.9869** for Model 1 and **0.9410** for Model 2. We can conclude that the NNM is thus able to distinguish between positive and negative cases very well, and is an almost perfect classifier.\n"
   ]
  },
  {
   "attachments": {},
   "cell_type": "markdown",
   "metadata": {},
   "source": [
    "### 1. Preparing Data\n",
    "\n",
    "##### a) Importing necessary libraries and load upsampled dataset"
   ]
  },
  {
   "cell_type": "code",
   "execution_count": 92,
   "metadata": {},
   "outputs": [],
   "source": [
    "import pandas as pd\n",
    "from sklearn.model_selection import train_test_split\n",
    "from keras.models import Sequential\n",
    "from keras.layers import Dense\n",
    "from keras.utils.vis_utils import plot_model\n",
    "import matplotlib.pyplot as plt\n",
    "from sklearn.metrics import classification_report\n",
    "from keras.layers import Dense, Dropout, BatchNormalization\n",
    "from sklearn.metrics import roc_curve, auc\n"
   ]
  },
  {
   "cell_type": "code",
   "execution_count": 93,
   "metadata": {},
   "outputs": [],
   "source": [
    "# Load the data from CSV file\n",
    "df = pd.read_csv(\"upsampled_bankruptcy.csv\")\n"
   ]
  },
  {
   "attachments": {},
   "cell_type": "markdown",
   "metadata": {},
   "source": [
    "##### b) Splitting data into test and training sets (all 95 variables)"
   ]
  },
  {
   "cell_type": "code",
   "execution_count": 94,
   "metadata": {},
   "outputs": [
    {
     "data": {
      "text/plain": [
       "0    6599\n",
       "1    6599\n",
       "Name: Bankrupt?, dtype: int64"
      ]
     },
     "execution_count": 94,
     "metadata": {},
     "output_type": "execute_result"
    }
   ],
   "source": [
    "# Display new class counts\n",
    "df[\"Bankrupt?\"].value_counts()\n",
    "X_upsample = df.drop(\"Bankrupt?\", axis=1)\n",
    "y_upsample = df[\"Bankrupt?\"]\n",
    "\n",
    "X_train_upsample, X_test_upsample, y_train_upsample, y_test_upsample = train_test_split(X_upsample, y_upsample, test_size=0.2,random_state=42)\n",
    "y_upsample.value_counts()\n",
    "\n"
   ]
  },
  {
   "attachments": {},
   "cell_type": "markdown",
   "metadata": {},
   "source": [
    "##### c) Splitting data into test and training sets (top 10 variables)"
   ]
  },
  {
   "cell_type": "code",
   "execution_count": 95,
   "metadata": {},
   "outputs": [],
   "source": [
    "# Split the data into training and testing sets for top 10 variables based on correlation with bankruptcy\n",
    "\n",
    "corr_matrix = df.corr()\n",
    "num_features = 10\n",
    "corr_with_bankrupt = corr_matrix[\"Bankrupt?\"].abs().sort_values(ascending=False)\n",
    "top_corr_features = corr_with_bankrupt[1:num_features+1].index.tolist()\n",
    "df_top10_upsampled = df[top_corr_features]\n",
    "X_top10_upsample = df_top10_upsampled\n",
    "y_top10_upsample = df[\"Bankrupt?\"]\n",
    "X_train_top10_upsample, X_test_top10_upsample, y_train_top10_upsample, y_test_top10_upsample = train_test_split(X_top10_upsample, y_top10_upsample, test_size=0.2,random_state=42)"
   ]
  },
  {
   "attachments": {},
   "cell_type": "markdown",
   "metadata": {},
   "source": [
    "### 2. Training NNM on full dataset\n",
    "\n",
    "##### a) Building Neural network"
   ]
  },
  {
   "attachments": {},
   "cell_type": "markdown",
   "metadata": {},
   "source": [
    "Overall, this model architecture consists of three fully connected layers with ReLU activation functions, followed by BatchNormalization and Dropout layers to improve model performance and prevent overfitting, and a final output layer with a sigmoid activation function for binary classification."
   ]
  },
  {
   "cell_type": "code",
   "execution_count": 96,
   "metadata": {},
   "outputs": [],
   "source": [
    "# Build the neural network model\n",
    "\n",
    "\n",
    "# model for upsampled data (All)\n",
    "\n",
    "model_upsample_all = Sequential()\n",
    "model_upsample_all.add(Dense(128, input_dim=X_train_upsample.shape[1], activation='relu'))\n",
    "model_upsample_all.add(BatchNormalization())\n",
    "model_upsample_all.add(Dense(64, activation='relu'))\n",
    "model_upsample_all.add(Dropout(0.2))\n",
    "model_upsample_all.add(Dense(32, activation='relu'))\n",
    "model_upsample_all.add(Dense(1, activation='sigmoid'))\n",
    "model_upsample_all.compile(loss='binary_crossentropy', optimizer='adam', metrics=['accuracy'])"
   ]
  },
  {
   "attachments": {},
   "cell_type": "markdown",
   "metadata": {},
   "source": [
    "##### b) Compiling the model \n",
    "\n",
    "model.compile is a function in Keras that compiles the model with the chosen loss function, optimizer, and metrics. \n",
    "\n",
    "In this case, the loss function chosen is binary_crossentropy, which is commonly used for binary classification problems. The optimizer chosen is adam, which is a commonly used optimization algorithm for neural networks. Finally, metrics is set to accuracy, which will be used to evaluate the performance of the model during training and testing."
   ]
  },
  {
   "cell_type": "code",
   "execution_count": 97,
   "metadata": {},
   "outputs": [],
   "source": [
    "\n",
    "# compile the model for all variables with upsampled dataset\n",
    "\n",
    "model_upsample_all.compile(loss='binary_crossentropy', optimizer='adam', metrics=['accuracy'])\n"
   ]
  },
  {
   "attachments": {},
   "cell_type": "markdown",
   "metadata": {},
   "source": [
    "##### c) Training the neural network model\n",
    "\n",
    "Overall, this line of code is training the neural network model on the upsampled training data, using mini-batch stochastic gradient descent with a batch size of 32 and the binary crossentropy loss function. The model is evaluated on the validation data after each epoch."
   ]
  },
  {
   "cell_type": "code",
   "execution_count": 98,
   "metadata": {},
   "outputs": [
    {
     "name": "stdout",
     "output_type": "stream",
     "text": [
      "Epoch 1/50\n",
      "330/330 [==============================] - 1s 1ms/step - loss: 0.5789 - accuracy: 0.6863 - val_loss: 0.4760 - val_accuracy: 0.7545\n",
      "Epoch 2/50\n",
      "330/330 [==============================] - 0s 964us/step - loss: 0.4826 - accuracy: 0.7681 - val_loss: 0.4201 - val_accuracy: 0.8008\n",
      "Epoch 3/50\n",
      "330/330 [==============================] - 0s 968us/step - loss: 0.4411 - accuracy: 0.7894 - val_loss: 0.3896 - val_accuracy: 0.8409\n",
      "Epoch 4/50\n",
      "330/330 [==============================] - 0s 951us/step - loss: 0.4063 - accuracy: 0.8174 - val_loss: 0.3512 - val_accuracy: 0.8473\n",
      "Epoch 5/50\n",
      "330/330 [==============================] - 0s 954us/step - loss: 0.3900 - accuracy: 0.8263 - val_loss: 0.3392 - val_accuracy: 0.8640\n",
      "Epoch 6/50\n",
      "330/330 [==============================] - 0s 953us/step - loss: 0.3707 - accuracy: 0.8334 - val_loss: 0.3080 - val_accuracy: 0.8856\n",
      "Epoch 7/50\n",
      "330/330 [==============================] - 0s 957us/step - loss: 0.3592 - accuracy: 0.8422 - val_loss: 0.3006 - val_accuracy: 0.8920\n",
      "Epoch 8/50\n",
      "330/330 [==============================] - 0s 960us/step - loss: 0.3450 - accuracy: 0.8507 - val_loss: 0.2750 - val_accuracy: 0.8883\n",
      "Epoch 9/50\n",
      "330/330 [==============================] - 0s 957us/step - loss: 0.3345 - accuracy: 0.8558 - val_loss: 0.2714 - val_accuracy: 0.9011\n",
      "Epoch 10/50\n",
      "330/330 [==============================] - 0s 955us/step - loss: 0.3156 - accuracy: 0.8655 - val_loss: 0.2848 - val_accuracy: 0.8852\n",
      "Epoch 11/50\n",
      "330/330 [==============================] - 0s 958us/step - loss: 0.3086 - accuracy: 0.8704 - val_loss: 0.2439 - val_accuracy: 0.9087\n",
      "Epoch 12/50\n",
      "330/330 [==============================] - 0s 1ms/step - loss: 0.2993 - accuracy: 0.8768 - val_loss: 0.2485 - val_accuracy: 0.9057\n",
      "Epoch 13/50\n",
      "330/330 [==============================] - 0s 963us/step - loss: 0.2975 - accuracy: 0.8737 - val_loss: 0.2315 - val_accuracy: 0.9098\n",
      "Epoch 14/50\n",
      "330/330 [==============================] - 0s 969us/step - loss: 0.2943 - accuracy: 0.8766 - val_loss: 0.2345 - val_accuracy: 0.9049\n",
      "Epoch 15/50\n",
      "330/330 [==============================] - 0s 1ms/step - loss: 0.2794 - accuracy: 0.8855 - val_loss: 0.2097 - val_accuracy: 0.9231\n",
      "Epoch 16/50\n",
      "330/330 [==============================] - 0s 960us/step - loss: 0.2782 - accuracy: 0.8856 - val_loss: 0.2262 - val_accuracy: 0.9106\n",
      "Epoch 17/50\n",
      "330/330 [==============================] - 0s 968us/step - loss: 0.2674 - accuracy: 0.8931 - val_loss: 0.1923 - val_accuracy: 0.9273\n",
      "Epoch 18/50\n",
      "330/330 [==============================] - 0s 1ms/step - loss: 0.2616 - accuracy: 0.8941 - val_loss: 0.1920 - val_accuracy: 0.9201\n",
      "Epoch 19/50\n",
      "330/330 [==============================] - 0s 1ms/step - loss: 0.2565 - accuracy: 0.8934 - val_loss: 0.2069 - val_accuracy: 0.9242\n",
      "Epoch 20/50\n",
      "330/330 [==============================] - 0s 1ms/step - loss: 0.2660 - accuracy: 0.8926 - val_loss: 0.2064 - val_accuracy: 0.9239\n",
      "Epoch 21/50\n",
      "330/330 [==============================] - 0s 967us/step - loss: 0.2588 - accuracy: 0.8938 - val_loss: 0.1947 - val_accuracy: 0.9280\n",
      "Epoch 22/50\n",
      "330/330 [==============================] - 0s 1ms/step - loss: 0.2478 - accuracy: 0.8997 - val_loss: 0.2215 - val_accuracy: 0.9140\n",
      "Epoch 23/50\n",
      "330/330 [==============================] - 0s 1ms/step - loss: 0.2409 - accuracy: 0.9029 - val_loss: 0.1805 - val_accuracy: 0.9375\n",
      "Epoch 24/50\n",
      "330/330 [==============================] - 0s 983us/step - loss: 0.2404 - accuracy: 0.9023 - val_loss: 0.1929 - val_accuracy: 0.9235\n",
      "Epoch 25/50\n",
      "330/330 [==============================] - 0s 1ms/step - loss: 0.2413 - accuracy: 0.9001 - val_loss: 0.1880 - val_accuracy: 0.9265\n",
      "Epoch 26/50\n",
      "330/330 [==============================] - 0s 1ms/step - loss: 0.2435 - accuracy: 0.9020 - val_loss: 0.2184 - val_accuracy: 0.9114\n",
      "Epoch 27/50\n",
      "330/330 [==============================] - 0s 969us/step - loss: 0.2347 - accuracy: 0.9026 - val_loss: 0.1686 - val_accuracy: 0.9341\n",
      "Epoch 28/50\n",
      "330/330 [==============================] - 0s 991us/step - loss: 0.2240 - accuracy: 0.9074 - val_loss: 0.1744 - val_accuracy: 0.9314\n",
      "Epoch 29/50\n",
      "330/330 [==============================] - 0s 1ms/step - loss: 0.2177 - accuracy: 0.9114 - val_loss: 0.1690 - val_accuracy: 0.9337\n",
      "Epoch 30/50\n",
      "330/330 [==============================] - 0s 1ms/step - loss: 0.2207 - accuracy: 0.9128 - val_loss: 0.1883 - val_accuracy: 0.9223\n",
      "Epoch 31/50\n",
      "330/330 [==============================] - 0s 1ms/step - loss: 0.2225 - accuracy: 0.9122 - val_loss: 0.1682 - val_accuracy: 0.9352\n",
      "Epoch 32/50\n",
      "330/330 [==============================] - 0s 983us/step - loss: 0.2210 - accuracy: 0.9134 - val_loss: 0.1593 - val_accuracy: 0.9402\n",
      "Epoch 33/50\n",
      "330/330 [==============================] - 0s 956us/step - loss: 0.2120 - accuracy: 0.9159 - val_loss: 0.1571 - val_accuracy: 0.9458\n",
      "Epoch 34/50\n",
      "330/330 [==============================] - 0s 1ms/step - loss: 0.2192 - accuracy: 0.9116 - val_loss: 0.1477 - val_accuracy: 0.9466\n",
      "Epoch 35/50\n",
      "330/330 [==============================] - 0s 1ms/step - loss: 0.2060 - accuracy: 0.9176 - val_loss: 0.1733 - val_accuracy: 0.9375\n",
      "Epoch 36/50\n",
      "330/330 [==============================] - 0s 978us/step - loss: 0.2125 - accuracy: 0.9131 - val_loss: 0.1721 - val_accuracy: 0.9360\n",
      "Epoch 37/50\n",
      "330/330 [==============================] - 0s 971us/step - loss: 0.2105 - accuracy: 0.9170 - val_loss: 0.1746 - val_accuracy: 0.9409\n",
      "Epoch 38/50\n",
      "330/330 [==============================] - 0s 972us/step - loss: 0.2102 - accuracy: 0.9153 - val_loss: 0.1630 - val_accuracy: 0.9428\n",
      "Epoch 39/50\n",
      "330/330 [==============================] - 0s 948us/step - loss: 0.2140 - accuracy: 0.9139 - val_loss: 0.1500 - val_accuracy: 0.9466\n",
      "Epoch 40/50\n",
      "330/330 [==============================] - 0s 1ms/step - loss: 0.2030 - accuracy: 0.9169 - val_loss: 0.1395 - val_accuracy: 0.9481\n",
      "Epoch 41/50\n",
      "330/330 [==============================] - 0s 953us/step - loss: 0.2029 - accuracy: 0.9193 - val_loss: 0.1503 - val_accuracy: 0.9447\n",
      "Epoch 42/50\n",
      "330/330 [==============================] - 0s 951us/step - loss: 0.2029 - accuracy: 0.9179 - val_loss: 0.1411 - val_accuracy: 0.9504\n",
      "Epoch 43/50\n",
      "330/330 [==============================] - 0s 955us/step - loss: 0.2011 - accuracy: 0.9207 - val_loss: 0.1519 - val_accuracy: 0.9432\n",
      "Epoch 44/50\n",
      "330/330 [==============================] - 0s 954us/step - loss: 0.1982 - accuracy: 0.9203 - val_loss: 0.1586 - val_accuracy: 0.9352\n",
      "Epoch 45/50\n",
      "330/330 [==============================] - 0s 986us/step - loss: 0.1887 - accuracy: 0.9265 - val_loss: 0.1408 - val_accuracy: 0.9489\n",
      "Epoch 46/50\n",
      "330/330 [==============================] - 0s 1ms/step - loss: 0.1986 - accuracy: 0.9226 - val_loss: 0.1524 - val_accuracy: 0.9420\n",
      "Epoch 47/50\n",
      "330/330 [==============================] - 0s 967us/step - loss: 0.1938 - accuracy: 0.9234 - val_loss: 0.1539 - val_accuracy: 0.9428\n",
      "Epoch 48/50\n",
      "330/330 [==============================] - 0s 984us/step - loss: 0.1785 - accuracy: 0.9328 - val_loss: 0.1388 - val_accuracy: 0.9489\n",
      "Epoch 49/50\n",
      "330/330 [==============================] - 0s 1ms/step - loss: 0.1925 - accuracy: 0.9237 - val_loss: 0.1444 - val_accuracy: 0.9519\n",
      "Epoch 50/50\n",
      "330/330 [==============================] - 0s 992us/step - loss: 0.1847 - accuracy: 0.9242 - val_loss: 0.1437 - val_accuracy: 0.9527\n"
     ]
    },
    {
     "data": {
      "text/plain": [
       "<keras.callbacks.History at 0x7fab682a5960>"
      ]
     },
     "execution_count": 98,
     "metadata": {},
     "output_type": "execute_result"
    }
   ],
   "source": [
    "# Train the model for all the variables with the upsampled dataset\n",
    "\n",
    "model_upsample_all.fit(X_train_upsample, y_train_upsample, epochs=50, batch_size=32, validation_data=(X_test_upsample, y_test_upsample))\n"
   ]
  },
  {
   "attachments": {},
   "cell_type": "markdown",
   "metadata": {},
   "source": [
    "### 3. Training NNM on top 10 variables"
   ]
  },
  {
   "cell_type": "code",
   "execution_count": 99,
   "metadata": {},
   "outputs": [
    {
     "name": "stdout",
     "output_type": "stream",
     "text": [
      "Epoch 1/50\n",
      "330/330 [==============================] - 1s 1ms/step - loss: 0.3723 - accuracy: 0.8395 - val_loss: 0.4862 - val_accuracy: 0.8189\n",
      "Epoch 2/50\n",
      "330/330 [==============================] - 0s 956us/step - loss: 0.3556 - accuracy: 0.8454 - val_loss: 0.3600 - val_accuracy: 0.8659\n",
      "Epoch 3/50\n",
      "330/330 [==============================] - 0s 1ms/step - loss: 0.3504 - accuracy: 0.8487 - val_loss: 0.4033 - val_accuracy: 0.8053\n",
      "Epoch 4/50\n",
      "330/330 [==============================] - 0s 905us/step - loss: 0.3489 - accuracy: 0.8504 - val_loss: 0.5274 - val_accuracy: 0.7152\n",
      "Epoch 5/50\n",
      "330/330 [==============================] - 0s 965us/step - loss: 0.3424 - accuracy: 0.8518 - val_loss: 0.5296 - val_accuracy: 0.7504\n",
      "Epoch 6/50\n",
      "330/330 [==============================] - 0s 911us/step - loss: 0.3384 - accuracy: 0.8531 - val_loss: 0.3557 - val_accuracy: 0.8489\n",
      "Epoch 7/50\n",
      "330/330 [==============================] - 0s 908us/step - loss: 0.3428 - accuracy: 0.8540 - val_loss: 0.3379 - val_accuracy: 0.8534\n",
      "Epoch 8/50\n",
      "330/330 [==============================] - 0s 934us/step - loss: 0.3387 - accuracy: 0.8551 - val_loss: 0.3224 - val_accuracy: 0.8705\n",
      "Epoch 9/50\n",
      "330/330 [==============================] - 0s 947us/step - loss: 0.3393 - accuracy: 0.8549 - val_loss: 0.3842 - val_accuracy: 0.7977\n",
      "Epoch 10/50\n",
      "330/330 [==============================] - 0s 906us/step - loss: 0.3331 - accuracy: 0.8590 - val_loss: 0.5589 - val_accuracy: 0.7402\n",
      "Epoch 11/50\n",
      "330/330 [==============================] - 0s 913us/step - loss: 0.3361 - accuracy: 0.8555 - val_loss: 0.4627 - val_accuracy: 0.7837\n",
      "Epoch 12/50\n",
      "330/330 [==============================] - 0s 908us/step - loss: 0.3284 - accuracy: 0.8589 - val_loss: 1.1099 - val_accuracy: 0.6053\n",
      "Epoch 13/50\n",
      "330/330 [==============================] - 0s 905us/step - loss: 0.3302 - accuracy: 0.8582 - val_loss: 0.3998 - val_accuracy: 0.8030\n",
      "Epoch 14/50\n",
      "330/330 [==============================] - 0s 933us/step - loss: 0.3286 - accuracy: 0.8579 - val_loss: 0.4506 - val_accuracy: 0.8174\n",
      "Epoch 15/50\n",
      "330/330 [==============================] - 0s 985us/step - loss: 0.3220 - accuracy: 0.8613 - val_loss: 0.4329 - val_accuracy: 0.7697\n",
      "Epoch 16/50\n",
      "330/330 [==============================] - 0s 934us/step - loss: 0.3281 - accuracy: 0.8567 - val_loss: 0.5252 - val_accuracy: 0.7443\n",
      "Epoch 17/50\n",
      "330/330 [==============================] - 0s 968us/step - loss: 0.3208 - accuracy: 0.8648 - val_loss: 0.6501 - val_accuracy: 0.6936\n",
      "Epoch 18/50\n",
      "330/330 [==============================] - 0s 957us/step - loss: 0.3200 - accuracy: 0.8612 - val_loss: 0.6573 - val_accuracy: 0.6875\n",
      "Epoch 19/50\n",
      "330/330 [==============================] - 0s 994us/step - loss: 0.3111 - accuracy: 0.8689 - val_loss: 0.3814 - val_accuracy: 0.8348\n",
      "Epoch 20/50\n",
      "330/330 [==============================] - 0s 993us/step - loss: 0.3173 - accuracy: 0.8646 - val_loss: 0.4784 - val_accuracy: 0.7598\n",
      "Epoch 21/50\n",
      "330/330 [==============================] - 0s 922us/step - loss: 0.3085 - accuracy: 0.8705 - val_loss: 0.4125 - val_accuracy: 0.8049\n",
      "Epoch 22/50\n",
      "330/330 [==============================] - 0s 904us/step - loss: 0.3081 - accuracy: 0.8683 - val_loss: 0.3429 - val_accuracy: 0.8496\n",
      "Epoch 23/50\n",
      "330/330 [==============================] - 0s 902us/step - loss: 0.3043 - accuracy: 0.8704 - val_loss: 0.4374 - val_accuracy: 0.8080\n",
      "Epoch 24/50\n",
      "330/330 [==============================] - 0s 929us/step - loss: 0.3026 - accuracy: 0.8699 - val_loss: 0.5053 - val_accuracy: 0.7898\n",
      "Epoch 25/50\n",
      "330/330 [==============================] - 0s 955us/step - loss: 0.3055 - accuracy: 0.8704 - val_loss: 0.3416 - val_accuracy: 0.8534\n",
      "Epoch 26/50\n",
      "330/330 [==============================] - 0s 933us/step - loss: 0.3025 - accuracy: 0.8671 - val_loss: 0.3946 - val_accuracy: 0.8311\n",
      "Epoch 27/50\n",
      "330/330 [==============================] - 0s 904us/step - loss: 0.3047 - accuracy: 0.8694 - val_loss: 0.4503 - val_accuracy: 0.7905\n",
      "Epoch 28/50\n",
      "330/330 [==============================] - 0s 910us/step - loss: 0.3042 - accuracy: 0.8716 - val_loss: 0.6647 - val_accuracy: 0.7322\n",
      "Epoch 29/50\n",
      "330/330 [==============================] - 0s 906us/step - loss: 0.2911 - accuracy: 0.8747 - val_loss: 0.4023 - val_accuracy: 0.8201\n",
      "Epoch 30/50\n",
      "330/330 [==============================] - 0s 945us/step - loss: 0.2958 - accuracy: 0.8739 - val_loss: 0.6255 - val_accuracy: 0.7261\n",
      "Epoch 31/50\n",
      "330/330 [==============================] - 0s 915us/step - loss: 0.2957 - accuracy: 0.8707 - val_loss: 0.4686 - val_accuracy: 0.8023\n",
      "Epoch 32/50\n",
      "330/330 [==============================] - 0s 924us/step - loss: 0.2875 - accuracy: 0.8749 - val_loss: 1.1500 - val_accuracy: 0.5932\n",
      "Epoch 33/50\n",
      "330/330 [==============================] - 0s 918us/step - loss: 0.3014 - accuracy: 0.8719 - val_loss: 0.3181 - val_accuracy: 0.8689\n",
      "Epoch 34/50\n",
      "330/330 [==============================] - 0s 920us/step - loss: 0.2862 - accuracy: 0.8769 - val_loss: 0.4627 - val_accuracy: 0.8303\n",
      "Epoch 35/50\n",
      "330/330 [==============================] - 0s 1ms/step - loss: 0.2936 - accuracy: 0.8757 - val_loss: 0.5234 - val_accuracy: 0.7750\n",
      "Epoch 36/50\n",
      "330/330 [==============================] - 0s 958us/step - loss: 0.2857 - accuracy: 0.8756 - val_loss: 0.4739 - val_accuracy: 0.7830\n",
      "Epoch 37/50\n",
      "330/330 [==============================] - 0s 928us/step - loss: 0.2872 - accuracy: 0.8773 - val_loss: 0.3897 - val_accuracy: 0.8280\n",
      "Epoch 38/50\n",
      "330/330 [==============================] - 0s 926us/step - loss: 0.2851 - accuracy: 0.8752 - val_loss: 0.3518 - val_accuracy: 0.8280\n",
      "Epoch 39/50\n",
      "330/330 [==============================] - 0s 933us/step - loss: 0.2824 - accuracy: 0.8812 - val_loss: 0.3952 - val_accuracy: 0.8455\n",
      "Epoch 40/50\n",
      "330/330 [==============================] - 0s 1ms/step - loss: 0.2789 - accuracy: 0.8829 - val_loss: 0.4661 - val_accuracy: 0.8030\n",
      "Epoch 41/50\n",
      "330/330 [==============================] - 0s 1ms/step - loss: 0.2765 - accuracy: 0.8825 - val_loss: 0.3177 - val_accuracy: 0.8731\n",
      "Epoch 42/50\n",
      "330/330 [==============================] - 0s 983us/step - loss: 0.2811 - accuracy: 0.8789 - val_loss: 0.3795 - val_accuracy: 0.8443\n",
      "Epoch 43/50\n",
      "330/330 [==============================] - 0s 974us/step - loss: 0.2775 - accuracy: 0.8829 - val_loss: 0.4715 - val_accuracy: 0.8117\n",
      "Epoch 44/50\n",
      "330/330 [==============================] - 0s 1ms/step - loss: 0.2753 - accuracy: 0.8804 - val_loss: 0.3422 - val_accuracy: 0.8420\n",
      "Epoch 45/50\n",
      "330/330 [==============================] - 0s 934us/step - loss: 0.2774 - accuracy: 0.8797 - val_loss: 0.5470 - val_accuracy: 0.8144\n",
      "Epoch 46/50\n",
      "330/330 [==============================] - 0s 943us/step - loss: 0.2762 - accuracy: 0.8840 - val_loss: 0.3436 - val_accuracy: 0.8352\n",
      "Epoch 47/50\n",
      "330/330 [==============================] - 0s 978us/step - loss: 0.2809 - accuracy: 0.8752 - val_loss: 0.4067 - val_accuracy: 0.8409\n",
      "Epoch 48/50\n",
      "330/330 [==============================] - 0s 930us/step - loss: 0.2769 - accuracy: 0.8835 - val_loss: 0.5808 - val_accuracy: 0.7792\n",
      "Epoch 49/50\n",
      "330/330 [==============================] - 0s 964us/step - loss: 0.2706 - accuracy: 0.8846 - val_loss: 0.4692 - val_accuracy: 0.8125\n",
      "Epoch 50/50\n",
      "330/330 [==============================] - 0s 951us/step - loss: 0.2706 - accuracy: 0.8845 - val_loss: 0.3847 - val_accuracy: 0.8549\n"
     ]
    },
    {
     "data": {
      "text/plain": [
       "<keras.callbacks.History at 0x7fab8c8ffa00>"
      ]
     },
     "execution_count": 99,
     "metadata": {},
     "output_type": "execute_result"
    }
   ],
   "source": [
    "# model for upsampled data (Top 10)\n",
    "\n",
    "model_upsample_top10 = Sequential()\n",
    "model_upsample_top10.add(Dense(128, input_dim=X_train_top10_upsample.shape[1], activation='relu'))\n",
    "model_upsample_top10.add(BatchNormalization())\n",
    "model_upsample_top10.add(Dense(64, activation='relu'))\n",
    "model_upsample_top10.add(Dropout(0.2))\n",
    "model_upsample_top10.add(Dense(32, activation='relu'))\n",
    "model_upsample_top10.add(Dense(1, activation='sigmoid'))\n",
    "model_upsample_top10.compile(loss='binary_crossentropy', optimizer='adam', metrics=['accuracy'])\n",
    "\n",
    "\n",
    "# compile the model for top 10 variables with upsampled dataset\n",
    "\n",
    "model_upsample_top10.compile(loss='binary_crossentropy', optimizer='adam', metrics=['accuracy'])\n",
    "\n",
    "\n",
    "# Train the model for top 10 variables with the upsampled dataset\n",
    "\n",
    "model_upsample_top10.fit(X_train_top10_upsample, y_train_top10_upsample, epochs=50, batch_size=32, validation_data=(X_test_top10_upsample, y_test_top10_upsample))\n",
    "\n",
    "\n"
   ]
  },
  {
   "attachments": {},
   "cell_type": "markdown",
   "metadata": {},
   "source": [
    "### 4. Evaluating Performance of both Models\n"
   ]
  },
  {
   "attachments": {},
   "cell_type": "markdown",
   "metadata": {},
   "source": [
    "##### a) Plotting the ROC, AUC and its associated classification report for the NN model (full dataset)"
   ]
  },
  {
   "cell_type": "code",
   "execution_count": 100,
   "metadata": {},
   "outputs": [
    {
     "name": "stdout",
     "output_type": "stream",
     "text": [
      "83/83 [==============================] - 0s 487us/step\n"
     ]
    },
    {
     "data": {
      "image/png": "[encoded data removed]",
      "text/plain": [
       "<Figure size 640x480 with 1 Axes>"
      ]
     },
     "metadata": {},
     "output_type": "display_data"
    },
    {
     "name": "stdout",
     "output_type": "stream",
     "text": [
      "83/83 [==============================] - 0s 456us/step\n",
      "              precision    recall  f1-score   support\n",
      "\n",
      "           0     0.9951    0.9104    0.9508      1328\n",
      "           1     0.9165    0.9954    0.9543      1312\n",
      "\n",
      "    accuracy                         0.9527      2640\n",
      "   macro avg     0.9558    0.9529    0.9526      2640\n",
      "weighted avg     0.9560    0.9527    0.9526      2640\n",
      "\n"
     ]
    }
   ],
   "source": [
    "\n",
    "\n",
    "# predict probabilities with neural network model for all variables\n",
    "nn_probs = model_upsample_all.predict(X_test_upsample)\n",
    "# compare the predicted probabilities\n",
    "fpr_nn, tpr_nn, _ = roc_curve(y_test_upsample, nn_probs)\n",
    "roc_auc_nn = auc(fpr_nn, tpr_nn)\n",
    "\n",
    "\n",
    "\n",
    "plt.plot(fpr_nn, tpr_nn, color='green', label='Neural Network for All Variables (AUC = %0.4f)' % roc_auc_nn)\n",
    "plt.legend()\n",
    "plt.xlabel('False Positive Rate')\n",
    "plt.ylabel('True Positive Rate')\n",
    "plt.show()\n",
    "\n",
    "# Predict on test data\n",
    "y_pred = model_upsample_all.predict(X_test_upsample)\n",
    "\n",
    "# Convert predicted probabilities to class labels\n",
    "y_pred = (y_pred > 0.5).astype(int)\n",
    "\n",
    "# Generate classification report\n",
    "nn_report = classification_report(y_test_upsample, y_pred, digits = 4)\n",
    "print(nn_report)\n",
    "\n",
    "\n"
   ]
  },
  {
   "attachments": {},
   "cell_type": "markdown",
   "metadata": {},
   "source": [
    "##### b) Plotting the ROC, AUC and its associated classification report for the NN model (top 10 variables)"
   ]
  },
  {
   "cell_type": "code",
   "execution_count": 101,
   "metadata": {},
   "outputs": [
    {
     "name": "stdout",
     "output_type": "stream",
     "text": [
      "83/83 [==============================] - 0s 510us/step\n"
     ]
    },
    {
     "data": {
      "image/png": "[encoded data removed]",
      "text/plain": [
       "<Figure size 640x480 with 1 Axes>"
      ]
     },
     "metadata": {},
     "output_type": "display_data"
    },
    {
     "name": "stdout",
     "output_type": "stream",
     "text": [
      "83/83 [==============================] - 0s 450us/step\n",
      "              precision    recall  f1-score   support\n",
      "\n",
      "           0     0.8144    0.9217    0.8647      1328\n",
      "           1     0.9085    0.7873    0.8436      1312\n",
      "\n",
      "    accuracy                         0.8549      2640\n",
      "   macro avg     0.8615    0.8545    0.8542      2640\n",
      "weighted avg     0.8612    0.8549    0.8542      2640\n",
      "\n"
     ]
    }
   ],
   "source": [
    "# predict probabilities with neural network model for top 10 variables\n",
    "nn_probs_top10 = model_upsample_top10.predict(X_test_top10_upsample)\n",
    "# compare the predicted probabilities\n",
    "fpr_nn_top10, tpr_nn_top10, _ = roc_curve(y_test_top10_upsample, nn_probs_top10)\n",
    "roc_auc_nn_top10 = auc(fpr_nn_top10, tpr_nn_top10)\n",
    "\n",
    "plt.plot(fpr_nn_top10, tpr_nn_top10, color='green', label='Neural Network for Top 10 Variables (AUC = %0.4f)' % roc_auc_nn_top10)\n",
    "plt.legend()\n",
    "plt.xlabel('False Positive Rate')\n",
    "plt.ylabel('True Positive Rate')\n",
    "plt.show()\n",
    "\n",
    "# Predict on test data\n",
    "y_pred = model_upsample_top10.predict(X_test_top10_upsample)\n",
    "\n",
    "# Convert predicted probabilities to class labels\n",
    "y_pred = (y_pred > 0.5).astype(int)\n",
    "\n",
    "# Generate classification report\n",
    "nn_report_top10 = classification_report(y_test_top10_upsample, y_pred, digits = 4)\n",
    "print(nn_report_top10)\n",
    "\n"
   ]
  },
  {
   "attachments": {},
   "cell_type": "markdown",
   "metadata": {},
   "source": [
    "storing data for evaluation notebook"
   ]
  },
  {
   "cell_type": "code",
   "execution_count": 102,
   "metadata": {},
   "outputs": [
    {
     "name": "stdout",
     "output_type": "stream",
     "text": [
      "Stored 'nn_report' (str)\n",
      "INFO:tensorflow:Assets written to: ram://75275320-d176-451a-aaca-0617edb4abc4/assets\n",
      "Stored 'model_upsample_all' (Sequential)\n",
      "Stored 'fpr_nn' (ndarray)\n",
      "Stored 'tpr_nn' (ndarray)\n",
      "Stored 'roc_auc_nn' (float64)\n",
      "INFO:tensorflow:Assets written to: ram://d3e44880-ff2e-4e28-9416-237d78b0df21/assets\n",
      "Stored 'model_upsample_top10' (Sequential)\n",
      "Stored 'fpr_nn_top10' (ndarray)\n",
      "Stored 'tpr_nn_top10' (ndarray)\n",
      "Stored 'roc_auc_nn_top10' (float64)\n",
      "Stored 'nn_report_top10' (str)\n"
     ]
    }
   ],
   "source": [
    "%store nn_report\n",
    "%store model_upsample_all\n",
    "%store fpr_nn\n",
    "%store tpr_nn\n",
    "%store roc_auc_nn\n",
    "\n",
    "%store model_upsample_top10\n",
    "%store fpr_nn_top10\n",
    "%store tpr_nn_top10\n",
    "%store roc_auc_nn_top10\n",
    "%store nn_report_top10"
   ]
  }
 ],
 "metadata": {
  "kernelspec": {
   "display_name": "Python 3.6.13 ('DUDE')",
   "language": "python",
   "name": "python3"
  },
  "language_info": {
   "codemirror_mode": {
    "name": "ipython",
    "version": 3
   },
   "file_extension": ".py",
   "mimetype": "text/x-python",
   "name": "python",
   "nbconvert_exporter": "python",
   "pygments_lexer": "ipython3",
   "version": "3.10.4"
  },
  "orig_nbformat": 4,
  "vscode": {
   "interpreter": {
    "hash": "ea3553453a872af77173f1ee7c37bb36ebea58ec858f9e4d55435a623fd5d73f"
   }
  }
 },
 "nbformat": 4,
 "nbformat_minor": 2
}
