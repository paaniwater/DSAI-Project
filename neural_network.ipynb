{
 "cells": [
  {
   "attachments": {},
   "cell_type": "markdown",
   "metadata": {},
   "source": [
    "## Neural Network Model\n",
    "\n",
    "A neural network model (NNM) is a type of machine learning model that is loosely modeled after the structure and function of the human brain. It consists of a large number of interconnected processing nodes, or \"neurons,\" that work together to process input data and make predictions or classifications. \n",
    "\n",
    "For this project, we utilised Keras, a high-level neural netowkrs API, written in Python. The basic building block of a Keras model is a layer. Layers are stacked together to form a neural network model, and each layer is responsible for performing a specific transformation on its inputs. The output of one layer becomes the input of the next layer until the final output layer produces the model’s predictions.\n",
    "\n",
    " We have used this model to predict bankruptcy and performed analysis based on the following steps:\n",
    "1. Preparing data (obtain top 10 features, obtain train and test sets)\n",
    "2. Training NNM on full dataset (all 95 features)\n",
    "3. Training NNM with only top 10 features\n",
    "4. Evaluating the performance of each model by generating ROC and AUC, and comparing the classification reports of each model\n"
   ]
  },
  {
   "attachments": {},
   "cell_type": "markdown",
   "metadata": {},
   "source": [
    "### 1. Preparing Data\n",
    "\n",
    "##### a) Importing necessary libraries and load upsampled dataset"
   ]
  },
  {
   "cell_type": "code",
   "execution_count": 13,
   "metadata": {},
   "outputs": [],
   "source": [
    "import pandas as pd\n",
    "from sklearn.model_selection import train_test_split\n",
    "from keras.models import Sequential\n",
    "from keras.layers import Dense\n",
    "from keras.utils.vis_utils import plot_model\n",
    "import matplotlib.pyplot as plt\n",
    "from sklearn.metrics import classification_report\n",
    "from keras.layers import Dense, Dropout, BatchNormalization\n",
    "from sklearn.metrics import roc_curve, auc\n"
   ]
  },
  {
   "cell_type": "code",
   "execution_count": 14,
   "metadata": {},
   "outputs": [],
   "source": [
    "# Load the data from CSV file\n",
    "df = pd.read_csv(\"upsampled_bankruptcy.csv\")\n"
   ]
  },
  {
   "attachments": {},
   "cell_type": "markdown",
   "metadata": {},
   "source": [
    "##### b) Splitting data into test and training sets (all 95 variables)"
   ]
  },
  {
   "cell_type": "code",
   "execution_count": 15,
   "metadata": {},
   "outputs": [
    {
     "data": {
      "text/plain": [
       "0    6599\n",
       "1    6599\n",
       "Name: Bankrupt?, dtype: int64"
      ]
     },
     "execution_count": 15,
     "metadata": {},
     "output_type": "execute_result"
    }
   ],
   "source": [
    "# Display new class counts\n",
    "df[\"Bankrupt?\"].value_counts()\n",
    "X_upsample = df.drop(\"Bankrupt?\", axis=1)\n",
    "y_upsample = df[\"Bankrupt?\"]\n",
    "\n",
    "X_train_upsample, X_test_upsample, y_train_upsample, y_test_upsample = train_test_split(X_upsample, y_upsample, test_size=0.2,random_state=42)\n",
    "y_upsample.value_counts()\n",
    "\n"
   ]
  },
  {
   "attachments": {},
   "cell_type": "markdown",
   "metadata": {},
   "source": [
    "##### c) Splitting data into test and training sets (top 10 variables)"
   ]
  },
  {
   "cell_type": "code",
   "execution_count": 16,
   "metadata": {},
   "outputs": [],
   "source": [
    "# Split the data into training and testing sets for top 10 variables based on correlation with bankruptcy\n",
    "\n",
    "corr_matrix = df.corr()\n",
    "num_features = 10\n",
    "corr_with_bankrupt = corr_matrix[\"Bankrupt?\"].abs().sort_values(ascending=False)\n",
    "top_corr_features = corr_with_bankrupt[1:num_features+1].index.tolist()\n",
    "df_top10_upsampled = df[top_corr_features]\n",
    "X_top10_upsample = df_top10_upsampled\n",
    "y_top10_upsample = df[\"Bankrupt?\"]\n",
    "X_train_top10_upsample, X_test_top10_upsample, y_train_top10_upsample, y_test_top10_upsample = train_test_split(X_top10_upsample, y_top10_upsample, test_size=0.2,random_state=42)"
   ]
  },
  {
   "attachments": {},
   "cell_type": "markdown",
   "metadata": {},
   "source": [
    "### 2. Training NNM on full dataset\n",
    "\n",
    "##### a) Building Neural network"
   ]
  },
  {
   "attachments": {},
   "cell_type": "markdown",
   "metadata": {},
   "source": [
    "Overall, this model architecture consists of three fully connected layers with ReLU activation functions, followed by BatchNormalization and Dropout layers to improve model performance and prevent overfitting, and a final output layer with a sigmoid activation function for binary classification."
   ]
  },
  {
   "cell_type": "code",
   "execution_count": 17,
   "metadata": {},
   "outputs": [],
   "source": [
    "# Build the neural network model\n",
    "\n",
    "\n",
    "# model for upsampled data (All)\n",
    "\n",
    "model_upsample_all = Sequential()\n",
    "model_upsample_all.add(Dense(128, input_dim=X_train_upsample.shape[1], activation='relu'))\n",
    "model_upsample_all.add(BatchNormalization())\n",
    "model_upsample_all.add(Dense(64, activation='relu'))\n",
    "model_upsample_all.add(Dropout(0.2))\n",
    "model_upsample_all.add(Dense(32, activation='relu'))\n",
    "model_upsample_all.add(Dense(1, activation='sigmoid'))\n",
    "model_upsample_all.compile(loss='binary_crossentropy', optimizer='adam', metrics=['accuracy'])"
   ]
  },
  {
   "attachments": {},
   "cell_type": "markdown",
   "metadata": {},
   "source": [
    "##### b) Compiling the model \n",
    "\n",
    "model.compile is a function in Keras that compiles the model with the chosen loss function, optimizer, and metrics. \n",
    "\n",
    "In this case, the loss function chosen is binary_crossentropy, which is commonly used for binary classification problems. The optimizer chosen is adam, which is a commonly used optimization algorithm for neural networks. Finally, metrics is set to accuracy, which will be used to evaluate the performance of the model during training and testing."
   ]
  },
  {
   "cell_type": "code",
   "execution_count": 18,
   "metadata": {},
   "outputs": [],
   "source": [
    "\n",
    "# compile the model for all variables with upsampled dataset\n",
    "\n",
    "model_upsample_all.compile(loss='binary_crossentropy', optimizer='adam', metrics=['accuracy'])\n"
   ]
  },
  {
   "attachments": {},
   "cell_type": "markdown",
   "metadata": {},
   "source": [
    "##### c) Training the neural network model\n",
    "\n",
    "Overall, this line of code is training the neural network model on the upsampled training data, using mini-batch stochastic gradient descent with a batch size of 32 and the binary crossentropy loss function. The model is evaluated on the validation data after each epoch."
   ]
  },
  {
   "cell_type": "code",
   "execution_count": 19,
   "metadata": {},
   "outputs": [
    {
     "name": "stdout",
     "output_type": "stream",
     "text": [
      "Epoch 1/50\n",
      "330/330 [==============================] - 1s 1ms/step - loss: 0.5842 - accuracy: 0.6892 - val_loss: 0.4836 - val_accuracy: 0.7667\n",
      "Epoch 2/50\n",
      "330/330 [==============================] - 0s 1ms/step - loss: 0.4752 - accuracy: 0.7741 - val_loss: 0.3972 - val_accuracy: 0.8121\n",
      "Epoch 3/50\n",
      "330/330 [==============================] - 0s 1ms/step - loss: 0.4325 - accuracy: 0.8001 - val_loss: 0.3771 - val_accuracy: 0.8432\n",
      "Epoch 4/50\n",
      "330/330 [==============================] - 0s 1ms/step - loss: 0.4019 - accuracy: 0.8171 - val_loss: 0.3476 - val_accuracy: 0.8633\n",
      "Epoch 5/50\n",
      "330/330 [==============================] - 0s 1ms/step - loss: 0.3871 - accuracy: 0.8278 - val_loss: 0.3426 - val_accuracy: 0.8655\n",
      "Epoch 6/50\n",
      "330/330 [==============================] - 0s 1ms/step - loss: 0.3657 - accuracy: 0.8411 - val_loss: 0.2988 - val_accuracy: 0.8841\n",
      "Epoch 7/50\n",
      "330/330 [==============================] - 0s 1ms/step - loss: 0.3504 - accuracy: 0.8445 - val_loss: 0.3010 - val_accuracy: 0.8792\n",
      "Epoch 8/50\n",
      "330/330 [==============================] - 0s 1ms/step - loss: 0.3367 - accuracy: 0.8570 - val_loss: 0.3045 - val_accuracy: 0.8742\n",
      "Epoch 9/50\n",
      "330/330 [==============================] - 0s 1ms/step - loss: 0.3343 - accuracy: 0.8597 - val_loss: 0.2653 - val_accuracy: 0.9034\n",
      "Epoch 10/50\n",
      "330/330 [==============================] - 0s 990us/step - loss: 0.3201 - accuracy: 0.8640 - val_loss: 0.2591 - val_accuracy: 0.9030\n",
      "Epoch 11/50\n",
      "330/330 [==============================] - 0s 982us/step - loss: 0.3060 - accuracy: 0.8728 - val_loss: 0.2806 - val_accuracy: 0.8848\n",
      "Epoch 12/50\n",
      "330/330 [==============================] - 0s 1ms/step - loss: 0.3050 - accuracy: 0.8699 - val_loss: 0.2438 - val_accuracy: 0.8977\n",
      "Epoch 13/50\n",
      "330/330 [==============================] - 0s 1ms/step - loss: 0.3013 - accuracy: 0.8737 - val_loss: 0.2462 - val_accuracy: 0.9064\n",
      "Epoch 14/50\n",
      "330/330 [==============================] - 0s 1ms/step - loss: 0.2858 - accuracy: 0.8795 - val_loss: 0.2406 - val_accuracy: 0.9117\n",
      "Epoch 15/50\n",
      "330/330 [==============================] - 0s 993us/step - loss: 0.2866 - accuracy: 0.8811 - val_loss: 0.2333 - val_accuracy: 0.9144\n",
      "Epoch 16/50\n",
      "330/330 [==============================] - 0s 996us/step - loss: 0.2796 - accuracy: 0.8851 - val_loss: 0.2362 - val_accuracy: 0.8989\n",
      "Epoch 17/50\n",
      "330/330 [==============================] - 0s 990us/step - loss: 0.2764 - accuracy: 0.8870 - val_loss: 0.2129 - val_accuracy: 0.9155\n",
      "Epoch 18/50\n",
      "330/330 [==============================] - 0s 975us/step - loss: 0.2649 - accuracy: 0.8908 - val_loss: 0.2022 - val_accuracy: 0.9314\n",
      "Epoch 19/50\n",
      "330/330 [==============================] - 0s 985us/step - loss: 0.2620 - accuracy: 0.8934 - val_loss: 0.2068 - val_accuracy: 0.9227\n",
      "Epoch 20/50\n",
      "330/330 [==============================] - 0s 1ms/step - loss: 0.2557 - accuracy: 0.8972 - val_loss: 0.2293 - val_accuracy: 0.9121\n",
      "Epoch 21/50\n",
      "330/330 [==============================] - 0s 1ms/step - loss: 0.2541 - accuracy: 0.8959 - val_loss: 0.1851 - val_accuracy: 0.9318\n",
      "Epoch 22/50\n",
      "330/330 [==============================] - 0s 1ms/step - loss: 0.2523 - accuracy: 0.8964 - val_loss: 0.2077 - val_accuracy: 0.9170\n",
      "Epoch 23/50\n",
      "330/330 [==============================] - 0s 1ms/step - loss: 0.2417 - accuracy: 0.9023 - val_loss: 0.1770 - val_accuracy: 0.9333\n",
      "Epoch 24/50\n",
      "330/330 [==============================] - 0s 1ms/step - loss: 0.2411 - accuracy: 0.8995 - val_loss: 0.2089 - val_accuracy: 0.9186\n",
      "Epoch 25/50\n",
      "330/330 [==============================] - 0s 1ms/step - loss: 0.2402 - accuracy: 0.9010 - val_loss: 0.1815 - val_accuracy: 0.9337\n",
      "Epoch 26/50\n",
      "330/330 [==============================] - 0s 1ms/step - loss: 0.2342 - accuracy: 0.9041 - val_loss: 0.1969 - val_accuracy: 0.9163\n",
      "Epoch 27/50\n",
      "330/330 [==============================] - 0s 964us/step - loss: 0.2291 - accuracy: 0.9090 - val_loss: 0.1791 - val_accuracy: 0.9326\n",
      "Epoch 28/50\n",
      "330/330 [==============================] - 0s 959us/step - loss: 0.2285 - accuracy: 0.9077 - val_loss: 0.1829 - val_accuracy: 0.9314\n",
      "Epoch 29/50\n",
      "330/330 [==============================] - 0s 1ms/step - loss: 0.2267 - accuracy: 0.9070 - val_loss: 0.1929 - val_accuracy: 0.9284\n",
      "Epoch 30/50\n",
      "330/330 [==============================] - 0s 990us/step - loss: 0.2283 - accuracy: 0.9061 - val_loss: 0.1778 - val_accuracy: 0.9235\n",
      "Epoch 31/50\n",
      "330/330 [==============================] - 0s 980us/step - loss: 0.2224 - accuracy: 0.9099 - val_loss: 0.1946 - val_accuracy: 0.9269\n",
      "Epoch 32/50\n",
      "330/330 [==============================] - 0s 1ms/step - loss: 0.2234 - accuracy: 0.9127 - val_loss: 0.1741 - val_accuracy: 0.9409\n",
      "Epoch 33/50\n",
      "330/330 [==============================] - 0s 1ms/step - loss: 0.2153 - accuracy: 0.9137 - val_loss: 0.1684 - val_accuracy: 0.9360\n",
      "Epoch 34/50\n",
      "330/330 [==============================] - 0s 1ms/step - loss: 0.2055 - accuracy: 0.9172 - val_loss: 0.1552 - val_accuracy: 0.9405\n",
      "Epoch 35/50\n",
      "330/330 [==============================] - 0s 1ms/step - loss: 0.2157 - accuracy: 0.9117 - val_loss: 0.1692 - val_accuracy: 0.9303\n",
      "Epoch 36/50\n",
      "330/330 [==============================] - 0s 1ms/step - loss: 0.2091 - accuracy: 0.9144 - val_loss: 0.1706 - val_accuracy: 0.9379\n",
      "Epoch 37/50\n",
      "330/330 [==============================] - 0s 1ms/step - loss: 0.2031 - accuracy: 0.9211 - val_loss: 0.1585 - val_accuracy: 0.9386\n",
      "Epoch 38/50\n",
      "330/330 [==============================] - 0s 1ms/step - loss: 0.2055 - accuracy: 0.9158 - val_loss: 0.1661 - val_accuracy: 0.9420\n",
      "Epoch 39/50\n",
      "330/330 [==============================] - 0s 1ms/step - loss: 0.2064 - accuracy: 0.9172 - val_loss: 0.1497 - val_accuracy: 0.9424\n",
      "Epoch 40/50\n",
      "330/330 [==============================] - 0s 1ms/step - loss: 0.2054 - accuracy: 0.9192 - val_loss: 0.1468 - val_accuracy: 0.9473\n",
      "Epoch 41/50\n",
      "330/330 [==============================] - 0s 1ms/step - loss: 0.1993 - accuracy: 0.9225 - val_loss: 0.1686 - val_accuracy: 0.9341\n",
      "Epoch 42/50\n",
      "330/330 [==============================] - 0s 972us/step - loss: 0.2004 - accuracy: 0.9229 - val_loss: 0.1564 - val_accuracy: 0.9432\n",
      "Epoch 43/50\n",
      "330/330 [==============================] - 0s 1ms/step - loss: 0.2013 - accuracy: 0.9201 - val_loss: 0.1683 - val_accuracy: 0.9402\n",
      "Epoch 44/50\n",
      "330/330 [==============================] - 0s 1ms/step - loss: 0.1958 - accuracy: 0.9218 - val_loss: 0.1370 - val_accuracy: 0.9515\n",
      "Epoch 45/50\n",
      "330/330 [==============================] - 0s 1ms/step - loss: 0.1976 - accuracy: 0.9205 - val_loss: 0.1444 - val_accuracy: 0.9489\n",
      "Epoch 46/50\n",
      "330/330 [==============================] - 0s 1ms/step - loss: 0.1931 - accuracy: 0.9206 - val_loss: 0.1419 - val_accuracy: 0.9473\n",
      "Epoch 47/50\n",
      "330/330 [==============================] - 0s 1ms/step - loss: 0.2010 - accuracy: 0.9209 - val_loss: 0.1725 - val_accuracy: 0.9356\n",
      "Epoch 48/50\n",
      "330/330 [==============================] - 0s 1ms/step - loss: 0.1991 - accuracy: 0.9198 - val_loss: 0.1575 - val_accuracy: 0.9451\n",
      "Epoch 49/50\n",
      "330/330 [==============================] - 0s 994us/step - loss: 0.1868 - accuracy: 0.9269 - val_loss: 0.1575 - val_accuracy: 0.9428\n",
      "Epoch 50/50\n",
      "330/330 [==============================] - 0s 1ms/step - loss: 0.1902 - accuracy: 0.9268 - val_loss: 0.1675 - val_accuracy: 0.9341\n"
     ]
    },
    {
     "data": {
      "text/plain": [
       "<keras.callbacks.History at 0x7faba91cd750>"
      ]
     },
     "execution_count": 19,
     "metadata": {},
     "output_type": "execute_result"
    }
   ],
   "source": [
    "# Train the model for all the variables with the upsampled dataset\n",
    "\n",
    "model_upsample_all.fit(X_train_upsample, y_train_upsample, epochs=50, batch_size=32, validation_data=(X_test_upsample, y_test_upsample))\n"
   ]
  },
  {
   "attachments": {},
   "cell_type": "markdown",
   "metadata": {},
   "source": [
    "### 3. Training NNM on top 10 variables"
   ]
  },
  {
   "cell_type": "code",
   "execution_count": 21,
   "metadata": {},
   "outputs": [
    {
     "name": "stdout",
     "output_type": "stream",
     "text": [
      "Epoch 1/50\n",
      "330/330 [==============================] - 1s 1ms/step - loss: 0.3682 - accuracy: 0.8437 - val_loss: 0.4683 - val_accuracy: 0.8352\n",
      "Epoch 2/50\n",
      "330/330 [==============================] - 0s 954us/step - loss: 0.3525 - accuracy: 0.8485 - val_loss: 0.3711 - val_accuracy: 0.8439\n",
      "Epoch 3/50\n",
      "330/330 [==============================] - 0s 996us/step - loss: 0.3521 - accuracy: 0.8504 - val_loss: 0.6300 - val_accuracy: 0.7140\n",
      "Epoch 4/50\n",
      "330/330 [==============================] - 0s 959us/step - loss: 0.3453 - accuracy: 0.8518 - val_loss: 0.3175 - val_accuracy: 0.8716\n",
      "Epoch 5/50\n",
      "330/330 [==============================] - 0s 962us/step - loss: 0.3451 - accuracy: 0.8515 - val_loss: 0.5298 - val_accuracy: 0.7386\n",
      "Epoch 6/50\n",
      "330/330 [==============================] - 0s 941us/step - loss: 0.3387 - accuracy: 0.8573 - val_loss: 0.4433 - val_accuracy: 0.7409\n",
      "Epoch 7/50\n",
      "330/330 [==============================] - 0s 947us/step - loss: 0.3389 - accuracy: 0.8559 - val_loss: 0.4365 - val_accuracy: 0.7799\n",
      "Epoch 8/50\n",
      "330/330 [==============================] - 0s 946us/step - loss: 0.3355 - accuracy: 0.8528 - val_loss: 0.3404 - val_accuracy: 0.8557\n",
      "Epoch 9/50\n",
      "330/330 [==============================] - 0s 940us/step - loss: 0.3338 - accuracy: 0.8560 - val_loss: 0.4400 - val_accuracy: 0.7652\n",
      "Epoch 10/50\n",
      "330/330 [==============================] - 0s 930us/step - loss: 0.3328 - accuracy: 0.8570 - val_loss: 0.3861 - val_accuracy: 0.8189\n",
      "Epoch 11/50\n",
      "330/330 [==============================] - 0s 1ms/step - loss: 0.3257 - accuracy: 0.8569 - val_loss: 0.4016 - val_accuracy: 0.7989\n",
      "Epoch 12/50\n",
      "330/330 [==============================] - 0s 947us/step - loss: 0.3250 - accuracy: 0.8616 - val_loss: 1.0528 - val_accuracy: 0.6015\n",
      "Epoch 13/50\n",
      "330/330 [==============================] - 0s 955us/step - loss: 0.3211 - accuracy: 0.8618 - val_loss: 0.3382 - val_accuracy: 0.8648\n",
      "Epoch 14/50\n",
      "330/330 [==============================] - 0s 957us/step - loss: 0.3168 - accuracy: 0.8630 - val_loss: 0.3519 - val_accuracy: 0.8515\n",
      "Epoch 15/50\n",
      "330/330 [==============================] - 0s 946us/step - loss: 0.3173 - accuracy: 0.8651 - val_loss: 0.3323 - val_accuracy: 0.8659\n",
      "Epoch 16/50\n",
      "330/330 [==============================] - 0s 929us/step - loss: 0.3129 - accuracy: 0.8644 - val_loss: 0.3223 - val_accuracy: 0.8640\n",
      "Epoch 17/50\n",
      "330/330 [==============================] - 0s 971us/step - loss: 0.3099 - accuracy: 0.8673 - val_loss: 0.6020 - val_accuracy: 0.7303\n",
      "Epoch 18/50\n",
      "330/330 [==============================] - 0s 960us/step - loss: 0.3084 - accuracy: 0.8685 - val_loss: 0.4703 - val_accuracy: 0.7845\n",
      "Epoch 19/50\n",
      "330/330 [==============================] - 0s 936us/step - loss: 0.3144 - accuracy: 0.8651 - val_loss: 0.3261 - val_accuracy: 0.8572\n",
      "Epoch 20/50\n",
      "330/330 [==============================] - 0s 959us/step - loss: 0.3092 - accuracy: 0.8685 - val_loss: 0.3685 - val_accuracy: 0.8348\n",
      "Epoch 21/50\n",
      "330/330 [==============================] - 0s 959us/step - loss: 0.3036 - accuracy: 0.8701 - val_loss: 0.9583 - val_accuracy: 0.7561\n",
      "Epoch 22/50\n",
      "330/330 [==============================] - 0s 948us/step - loss: 0.3061 - accuracy: 0.8684 - val_loss: 0.3144 - val_accuracy: 0.8758\n",
      "Epoch 23/50\n",
      "330/330 [==============================] - 0s 937us/step - loss: 0.2999 - accuracy: 0.8727 - val_loss: 0.3366 - val_accuracy: 0.8602\n",
      "Epoch 24/50\n",
      "330/330 [==============================] - 0s 957us/step - loss: 0.2982 - accuracy: 0.8691 - val_loss: 0.3438 - val_accuracy: 0.8519\n",
      "Epoch 25/50\n",
      "330/330 [==============================] - 0s 926us/step - loss: 0.3000 - accuracy: 0.8713 - val_loss: 0.3580 - val_accuracy: 0.8473\n",
      "Epoch 26/50\n",
      "330/330 [==============================] - 0s 917us/step - loss: 0.2992 - accuracy: 0.8700 - val_loss: 0.3810 - val_accuracy: 0.8235\n",
      "Epoch 27/50\n",
      "330/330 [==============================] - 0s 922us/step - loss: 0.2984 - accuracy: 0.8714 - val_loss: 0.3653 - val_accuracy: 0.8485\n",
      "Epoch 28/50\n",
      "330/330 [==============================] - 0s 914us/step - loss: 0.2978 - accuracy: 0.8718 - val_loss: 0.3952 - val_accuracy: 0.8152\n",
      "Epoch 29/50\n",
      "330/330 [==============================] - 0s 922us/step - loss: 0.2935 - accuracy: 0.8733 - val_loss: 0.3584 - val_accuracy: 0.8561\n",
      "Epoch 30/50\n",
      "330/330 [==============================] - 0s 926us/step - loss: 0.2987 - accuracy: 0.8693 - val_loss: 0.3273 - val_accuracy: 0.8549\n",
      "Epoch 31/50\n",
      "330/330 [==============================] - 0s 916us/step - loss: 0.2903 - accuracy: 0.8714 - val_loss: 0.6014 - val_accuracy: 0.7337\n",
      "Epoch 32/50\n",
      "330/330 [==============================] - 0s 980us/step - loss: 0.2876 - accuracy: 0.8759 - val_loss: 0.2911 - val_accuracy: 0.8799\n",
      "Epoch 33/50\n",
      "330/330 [==============================] - 0s 963us/step - loss: 0.2808 - accuracy: 0.8804 - val_loss: 0.4366 - val_accuracy: 0.8277\n",
      "Epoch 34/50\n",
      "330/330 [==============================] - 0s 949us/step - loss: 0.2828 - accuracy: 0.8783 - val_loss: 0.3314 - val_accuracy: 0.8527\n",
      "Epoch 35/50\n",
      "330/330 [==============================] - 0s 979us/step - loss: 0.2884 - accuracy: 0.8762 - val_loss: 0.3804 - val_accuracy: 0.8337\n",
      "Epoch 36/50\n",
      "330/330 [==============================] - 0s 938us/step - loss: 0.2880 - accuracy: 0.8747 - val_loss: 0.3202 - val_accuracy: 0.8633\n",
      "Epoch 37/50\n",
      "330/330 [==============================] - 0s 902us/step - loss: 0.2840 - accuracy: 0.8762 - val_loss: 0.3530 - val_accuracy: 0.8572\n",
      "Epoch 38/50\n",
      "330/330 [==============================] - 0s 927us/step - loss: 0.2816 - accuracy: 0.8800 - val_loss: 0.4685 - val_accuracy: 0.7947\n",
      "Epoch 39/50\n",
      "330/330 [==============================] - 0s 1ms/step - loss: 0.2755 - accuracy: 0.8859 - val_loss: 0.4875 - val_accuracy: 0.7837\n",
      "Epoch 40/50\n",
      "330/330 [==============================] - 0s 945us/step - loss: 0.2749 - accuracy: 0.8790 - val_loss: 0.4229 - val_accuracy: 0.8402\n",
      "Epoch 41/50\n",
      "330/330 [==============================] - 0s 946us/step - loss: 0.2804 - accuracy: 0.8787 - val_loss: 0.7492 - val_accuracy: 0.8167\n",
      "Epoch 42/50\n",
      "330/330 [==============================] - 0s 933us/step - loss: 0.2755 - accuracy: 0.8806 - val_loss: 0.6003 - val_accuracy: 0.7845\n",
      "Epoch 43/50\n",
      "330/330 [==============================] - 0s 913us/step - loss: 0.2791 - accuracy: 0.8809 - val_loss: 0.4119 - val_accuracy: 0.8462\n",
      "Epoch 44/50\n",
      "330/330 [==============================] - 0s 963us/step - loss: 0.2752 - accuracy: 0.8821 - val_loss: 0.3208 - val_accuracy: 0.8735\n",
      "Epoch 45/50\n",
      "330/330 [==============================] - 0s 985us/step - loss: 0.2825 - accuracy: 0.8754 - val_loss: 0.3272 - val_accuracy: 0.8545\n",
      "Epoch 46/50\n",
      "330/330 [==============================] - 0s 961us/step - loss: 0.2706 - accuracy: 0.8834 - val_loss: 0.3343 - val_accuracy: 0.8356\n",
      "Epoch 47/50\n",
      "330/330 [==============================] - 0s 966us/step - loss: 0.2776 - accuracy: 0.8820 - val_loss: 0.2807 - val_accuracy: 0.8856\n",
      "Epoch 48/50\n",
      "330/330 [==============================] - 0s 957us/step - loss: 0.2685 - accuracy: 0.8832 - val_loss: 0.4008 - val_accuracy: 0.8246\n",
      "Epoch 49/50\n",
      "330/330 [==============================] - 0s 935us/step - loss: 0.2720 - accuracy: 0.8821 - val_loss: 0.4317 - val_accuracy: 0.8273\n",
      "Epoch 50/50\n",
      "330/330 [==============================] - 0s 936us/step - loss: 0.2672 - accuracy: 0.8842 - val_loss: 0.3557 - val_accuracy: 0.8485\n",
      "83/83 [==============================] - 0s 473us/step - loss: 0.3557 - accuracy: 0.8485\n",
      "Accuracy for upsampled dataset with top 10 variables: 0.8484848737716675\n"
     ]
    }
   ],
   "source": [
    "# model for upsampled data (Top 10)\n",
    "\n",
    "model_upsample_top10 = Sequential()\n",
    "model_upsample_top10.add(Dense(128, input_dim=X_train_top10_upsample.shape[1], activation='relu'))\n",
    "model_upsample_top10.add(BatchNormalization())\n",
    "model_upsample_top10.add(Dense(64, activation='relu'))\n",
    "model_upsample_top10.add(Dropout(0.2))\n",
    "model_upsample_top10.add(Dense(32, activation='relu'))\n",
    "model_upsample_top10.add(Dense(1, activation='sigmoid'))\n",
    "model_upsample_top10.compile(loss='binary_crossentropy', optimizer='adam', metrics=['accuracy'])\n",
    "\n",
    "\n",
    "# compile the model for top 10 variables with upsampled dataset\n",
    "\n",
    "model_upsample_top10.compile(loss='binary_crossentropy', optimizer='adam', metrics=['accuracy'])\n",
    "\n",
    "\n",
    "# Train the model for top 10 variables with the upsampled dataset\n",
    "\n",
    "model_upsample_top10.fit(X_train_top10_upsample, y_train_top10_upsample, epochs=50, batch_size=32, validation_data=(X_test_top10_upsample, y_test_top10_upsample))\n",
    "\n"
   ]
  },
  {
   "attachments": {},
   "cell_type": "markdown",
   "metadata": {},
   "source": [
    "### 4. Evaluating Performance of both Models\n"
   ]
  },
  {
   "attachments": {},
   "cell_type": "markdown",
   "metadata": {},
   "source": [
    "##### a) Accuracy of our NNMs"
   ]
  },
  {
   "cell_type": "code",
   "execution_count": 20,
   "metadata": {},
   "outputs": [
    {
     "name": "stdout",
     "output_type": "stream",
     "text": [
      "83/83 [==============================] - 0s 481us/step - loss: 0.1675 - accuracy: 0.9341\n",
      "Accuracy for upsampled dataset with all variables: 0.9340909123420715\n"
     ]
    }
   ],
   "source": [
    "\n",
    "#Accuracy for upsampled dataset for all the variables and optimised model\n",
    "loss_upsample_all, accuracy_upsample_all = model_upsample_all.evaluate(X_test_upsample, y_test_upsample)\n",
    "\n",
    "print(\"Accuracy for upsampled dataset with all variables:\", accuracy_upsample_all)\n",
    "\n",
    "\n",
    "#Accuracy for upsampled dataset for top 10 variables and optimised model\n",
    "loss_upsample_top10, accuracy_upsample_top10 = model_upsample_top10.evaluate(X_test_top10_upsample, y_test_top10_upsample)\n",
    "\n",
    "print(\"Accuracy for upsampled dataset with top 10 variables:\", accuracy_upsample_top10)"
   ]
  },
  {
   "attachments": {},
   "cell_type": "markdown",
   "metadata": {},
   "source": [
    "##### b) Plotting the ROC, AUC and its associated classification report for the NN model (full dataset)"
   ]
  },
  {
   "cell_type": "code",
   "execution_count": 22,
   "metadata": {},
   "outputs": [
    {
     "name": "stdout",
     "output_type": "stream",
     "text": [
      "83/83 [==============================] - 0s 450us/step\n"
     ]
    },
    {
     "data": {
      "image/png": "[encoded data removed]",
      "text/plain": [
       "<Figure size 640x480 with 1 Axes>"
      ]
     },
     "metadata": {},
     "output_type": "display_data"
    },
    {
     "name": "stdout",
     "output_type": "stream",
     "text": [
      "83/83 [==============================] - 0s 397us/step\n",
      "              precision    recall  f1-score   support\n",
      "\n",
      "           0     0.9683    0.8983    0.9320      1328\n",
      "           1     0.9041    0.9703    0.9360      1312\n",
      "\n",
      "    accuracy                         0.9341      2640\n",
      "   macro avg     0.9362    0.9343    0.9340      2640\n",
      "weighted avg     0.9364    0.9341    0.9340      2640\n",
      "\n",
      "83/83 [==============================] - 0s 461us/step - loss: 0.1675 - accuracy: 0.9341\n",
      "Test accuracy: 0.9340909123420715\n"
     ]
    }
   ],
   "source": [
    "\n",
    "\n",
    "# predict probabilities with neural network model for all variables\n",
    "nn_probs = model_upsample_all.predict(X_test_upsample)\n",
    "# compare the predicted probabilities\n",
    "fpr_nn, tpr_nn, _ = roc_curve(y_test_upsample, nn_probs)\n",
    "roc_auc_nn = auc(fpr_nn, tpr_nn)\n",
    "plt.plot(fpr_nn, tpr_nn, color='green', label='Neural Network for All Variables (AUC = %0.4f)' % roc_auc_nn)\n",
    "plt.legend()\n",
    "plt.xlabel('False Positive Rate')\n",
    "plt.ylabel('True Positive Rate')\n",
    "plt.show()\n",
    "\n",
    "# Predict on test data\n",
    "y_pred = model_upsample_all.predict(X_test_upsample)\n",
    "\n",
    "# Convert predicted probabilities to class labels\n",
    "y_pred = (y_pred > 0.5).astype(int)\n",
    "\n",
    "# Generate classification report\n",
    "print(classification_report(y_test_upsample, y_pred, digits = 4))\n",
    "\n",
    "loss, accuracy = model_upsample_all.evaluate(X_test_upsample, y_test_upsample)\n",
    "print('Test accuracy:', accuracy)\n",
    "\n"
   ]
  },
  {
   "attachments": {},
   "cell_type": "markdown",
   "metadata": {},
   "source": [
    "##### b) Plotting the ROC, AUC and its associated classification report for the NN model (top 10 variables)"
   ]
  },
  {
   "cell_type": "code",
   "execution_count": 23,
   "metadata": {},
   "outputs": [
    {
     "name": "stdout",
     "output_type": "stream",
     "text": [
      "83/83 [==============================] - 0s 455us/step\n"
     ]
    },
    {
     "data": {
      "image/png": "[encoded data removed]",
      "text/plain": [
       "<Figure size 640x480 with 1 Axes>"
      ]
     },
     "metadata": {},
     "output_type": "display_data"
    },
    {
     "name": "stdout",
     "output_type": "stream",
     "text": [
      "83/83 [==============================] - 0s 437us/step\n",
      "              precision    recall  f1-score   support\n",
      "\n",
      "           0     0.9377    0.7485    0.8325      1328\n",
      "           1     0.7886    0.9497    0.8617      1312\n",
      "\n",
      "    accuracy                         0.8485      2640\n",
      "   macro avg     0.8632    0.8491    0.8471      2640\n",
      "weighted avg     0.8636    0.8485    0.8470      2640\n",
      "\n",
      "83/83 [==============================] - 0s 458us/step - loss: 0.3557 - accuracy: 0.8485\n",
      "Test accuracy: 0.8484848737716675\n"
     ]
    }
   ],
   "source": [
    "# predict probabilities with neural network model for top 10 variables\n",
    "nn_probs_top10 = model_upsample_top10.predict(X_test_top10_upsample)\n",
    "# compare the predicted probabilities\n",
    "fpr_nn_top10, tpr_nn_top10, _ = roc_curve(y_test_top10_upsample, nn_probs_top10)\n",
    "roc_auc_nn_top10 = auc(fpr_nn_top10, tpr_nn_top10)\n",
    "plt.plot(fpr_nn_top10, tpr_nn_top10, color='green', label='Neural Network for Top 10 Variables (AUC = %0.4f)' % roc_auc_nn_top10)\n",
    "plt.legend()\n",
    "plt.xlabel('False Positive Rate')\n",
    "plt.ylabel('True Positive Rate')\n",
    "plt.show()\n",
    "\n",
    "# Predict on test data\n",
    "y_pred = model_upsample_top10.predict(X_test_top10_upsample)\n",
    "\n",
    "# Convert predicted probabilities to class labels\n",
    "y_pred = (y_pred > 0.5).astype(int)\n",
    "\n",
    "# Generate classification report\n",
    "print(classification_report(y_test_top10_upsample, y_pred, digits = 4))\n",
    "\n",
    "loss, accuracy = model_upsample_top10.evaluate(X_test_top10_upsample, y_test_top10_upsample)\n",
    "print('Test accuracy:', accuracy)\n",
    "\n",
    "\n"
   ]
  }
 ],
 "metadata": {
  "kernelspec": {
   "display_name": "Python 3.6.13 ('DUDE')",
   "language": "python",
   "name": "python3"
  },
  "language_info": {
   "codemirror_mode": {
    "name": "ipython",
    "version": 3
   },
   "file_extension": ".py",
   "mimetype": "text/x-python",
   "name": "python",
   "nbconvert_exporter": "python",
   "pygments_lexer": "ipython3",
   "version": "3.10.4"
  },
  "orig_nbformat": 4,
  "vscode": {
   "interpreter": {
    "hash": "ea3553453a872af77173f1ee7c37bb36ebea58ec858f9e4d55435a623fd5d73f"
   }
  }
 },
 "nbformat": 4,
 "nbformat_minor": 2
}
