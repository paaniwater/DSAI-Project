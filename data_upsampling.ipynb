{
 "cells": [
  {
   "attachments": {},
   "cell_type": "markdown",
   "metadata": {},
   "source": [
    "## Data Upsampling\n",
    "\n",
    "In this notebook, we performed upsampling on our data to resolve the imbalance in bankruptcy class distribution (only 3.23% of companies are bankrupt), as analysed in the data_visualisations notebook.\n",
    "\n",
    "1. **Upsampling of Data**\n",
    "    \n",
    "    Idenitfying the minority group as those with Bankrupt? = 0, we used the resample() method to upsample our dataset and obtained a new dataframe with an equal amount of bankrupt and non-bankrupt entries. \n",
    "     \n",
    "2. **Evaluating Upsampled Data**\n",
    "    \n",
    "   To ensure that our upsampled data is representative of the original dataset, we analysed the relationships between variables in both datasets, namely the top 10 variables with the highest correlation to bankruptcy. \n",
    "\n",
    "\n",
    "\n",
    "3. **Generating Upsampled Dataset**\n",
    " "
   ]
  },
  {
   "attachments": {},
   "cell_type": "markdown",
   "metadata": {},
   "source": [
    "##### Importing necessary libraries"
   ]
  },
  {
   "cell_type": "code",
   "execution_count": 6,
   "metadata": {},
   "outputs": [],
   "source": [
    "import pandas as pd\n",
    "import matplotlib.pyplot as plt\n",
    "\n",
    "#for upsampling\n",
    "from sklearn.utils import resample"
   ]
  },
  {
   "cell_type": "markdown",
   "metadata": {},
   "source": [
    "### 1. Upsampling Data"
   ]
  },
  {
   "cell_type": "code",
   "execution_count": 7,
   "metadata": {},
   "outputs": [
    {
     "data": {
      "text/plain": [
       "0    6599\n",
       "1    6599\n",
       "Name: Bankrupt?, dtype: int64"
      ]
     },
     "execution_count": 7,
     "metadata": {},
     "output_type": "execute_result"
    }
   ],
   "source": [
    "# Load the data from CSV file\n",
    "df = pd.read_csv(\"bankruptcy.csv\")\n",
    "# df.head()\n",
    "\n",
    "# Separate majority and minority classes\n",
    "df_majority = df[df[\"Bankrupt?\"] == 0]\n",
    "df_minority = df[df[\"Bankrupt?\"] == 1]\n",
    " \n",
    "# Upsample minority class\n",
    "df_minority_upsampled = resample(df_minority, \n",
    "                                 replace=True,     # sample with replacement\n",
    "                                 n_samples=len(df_majority),    # to match majority class\n",
    "                                 random_state=42)  # reproducible results\n",
    " \n",
    "# Combine majority class with upsampled minority class\n",
    "df_upsampled = pd.concat([df_majority, df_minority_upsampled])\n",
    " \n",
    "# Display new class counts\n",
    "df_upsampled[\"Bankrupt?\"].value_counts()"
   ]
  },
  {
   "attachments": {},
   "cell_type": "markdown",
   "metadata": {},
   "source": [
    "### 2. Evaluating Upsampled Data"
   ]
  },
  {
   "attachments": {},
   "cell_type": "markdown",
   "metadata": {},
   "source": [
    "##### Top 10 Variables from original dataset"
   ]
  },
  {
   "cell_type": "code",
   "execution_count": 8,
   "metadata": {},
   "outputs": [
    {
     "data": {
      "text/plain": [
       "[' Net Income to Total Assets',\n",
       " ' ROA(A) before interest and % after tax',\n",
       " ' ROA(B) before interest and depreciation after tax',\n",
       " ' ROA(C) before interest and depreciation before interest',\n",
       " ' Net worth/Assets',\n",
       " ' Debt ratio %',\n",
       " ' Persistent EPS in the Last Four Seasons',\n",
       " ' Retained Earnings to Total Assets',\n",
       " ' Net profit before tax/Paid-in capital',\n",
       " ' Per Share Net profit before tax (Yuan ¥)']"
      ]
     },
     "execution_count": 8,
     "metadata": {},
     "output_type": "execute_result"
    }
   ],
   "source": [
    "corr_matrix = df.corr()\n",
    "num_features = 10\n",
    "corr_with_bankrupt = corr_matrix[\"Bankrupt?\"].abs().sort_values(ascending=False)\n",
    "top_corr_features = corr_with_bankrupt[1:num_features+1].index.tolist()\n",
    "top_corr_features"
   ]
  },
  {
   "attachments": {},
   "cell_type": "markdown",
   "metadata": {},
   "source": [
    "##### Top 10 Variables from upsampled dataset"
   ]
  },
  {
   "cell_type": "code",
   "execution_count": 9,
   "metadata": {},
   "outputs": [
    {
     "data": {
      "text/plain": [
       "[' Debt ratio %',\n",
       " ' Net worth/Assets',\n",
       " ' Persistent EPS in the Last Four Seasons',\n",
       " ' ROA(C) before interest and depreciation before interest',\n",
       " ' Net profit before tax/Paid-in capital',\n",
       " ' Per Share Net profit before tax (Yuan ¥)',\n",
       " ' ROA(B) before interest and depreciation after tax',\n",
       " ' ROA(A) before interest and % after tax',\n",
       " ' Net Value Per Share (B)',\n",
       " ' Net Income to Total Assets']"
      ]
     },
     "execution_count": 9,
     "metadata": {},
     "output_type": "execute_result"
    }
   ],
   "source": [
    "corr_matrix = df_upsampled.corr()\n",
    "num_features = 10\n",
    "corr_with_bankrupt = corr_matrix[\"Bankrupt?\"].abs().sort_values(ascending=False)\n",
    "top_corr_features = corr_with_bankrupt[1:num_features+1].index.tolist()\n",
    "df_top10_upsampled = df_upsampled[top_corr_features]\n",
    "top_corr_features\n"
   ]
  },
  {
   "cell_type": "markdown",
   "metadata": {},
   "source": [
    "\n",
    "If the top correlated features are similar for the original and upsampled datasets, but in a different order, it could mean that the distribution of the feature values has changed slightly after upsampling, but the overall relationship between the features and the target variable \"Bankrupt?\" remains the same. It's also possible that the difference in feature order is just due to random variation in the correlation values, especially if the correlation values are similar in magnitude for the top features.\n",
    "\n",
    "In any case, it's a good sign that the top correlated features are similar for the original and upsampled datasets, because it suggests that the upsampling process has not introduced major changes to the underlying relationships between the features and the target variable. However, it's still important to evaluate the performance of any model trained on the upsampled data to ensure that it generalizes well to new, unseen data."
   ]
  },
  {
   "attachments": {},
   "cell_type": "markdown",
   "metadata": {},
   "source": [
    "### 3. Generating Upsampled Data"
   ]
  },
  {
   "cell_type": "code",
   "execution_count": 10,
   "metadata": {},
   "outputs": [],
   "source": [
    "df_upsampled.to_csv('upsampled_bankruptcy.csv', index=False)"
   ]
  }
 ],
 "metadata": {
  "kernelspec": {
   "display_name": "newEnv",
   "language": "python",
   "name": "python3"
  },
  "language_info": {
   "codemirror_mode": {
    "name": "ipython",
    "version": 3
   },
   "file_extension": ".py",
   "mimetype": "text/x-python",
   "name": "python",
   "nbconvert_exporter": "python",
   "pygments_lexer": "ipython3",
   "version": "3.10.4"
  },
  "orig_nbformat": 4
 },
 "nbformat": 4,
 "nbformat_minor": 2
}
