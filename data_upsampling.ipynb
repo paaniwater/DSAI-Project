{
 "cells": [
  {
   "attachments": {},
   "cell_type": "markdown",
   "metadata": {},
   "source": [
    "## Data Upsampling\n",
    "\n",
    "In this notebook, we performed upsampling on our data to resolve the imbalance in bankruptcy class distribution (only 3.23% of companies are bankrupt), as analysed in the data_visualisations notebook.\n",
    "\n",
    "1. **Upsampling of Data**\n",
    "    \n",
    "    Idenitfying the minority group as those with Bankrupt? = 0, we used the resample() method to upsample our dataset and obtained a new dataframe with an equal amount of bankrupt and non-bankrupt entries. \n",
    "     \n",
    "2. **Evaluating Upsampled Data**\n",
    "    \n",
    "   To ensure that our upsampled data is representative of the original dataset, we analysed the relationships between variables in both datasets, namely the top 10 variables with the highest correlation to bankruptcy. \n",
    "\n",
    "   9 out of 10 of the top 10 variables were the same, while the 9 appeared in different orders amongst the top 10. Given that top correlated features are similar for the original and upsampled datasets, but in a different order, it can be deduced that the distribution of the feature values has changed slightly after upsampling, but the overall relationship between the features and the target variable \"Bankrupt?\" remains the same. \n",
    "   \n",
    "   Furthermore, given that the correlation values of the top 10 variables are similar in magnitude, it is also possible that the difference in feature order is just due to random variation in the correlation values.\n",
    "\n",
    "   Therefore, we concluded that our upsampled data is representative of the original dataset, and can be used to train our machine learning models\n",
    "\n",
    "\n",
    "3. **Generating Upsampled Dataset**\n",
    "    After verifying that the upsampled data is indeed representative of the original dataset, we generated the upsampled_bankruptcy.csv dataset to use for our machine learning models. \n",
    " "
   ]
  },
  {
   "attachments": {},
   "cell_type": "markdown",
   "metadata": {},
   "source": [
    "##### Importing necessary libraries"
   ]
  },
  {
   "cell_type": "code",
   "execution_count": 22,
   "metadata": {},
   "outputs": [],
   "source": [
    "import pandas as pd\n",
    "import matplotlib.pyplot as plt\n",
    "\n",
    "#for upsampling\n",
    "from sklearn.utils import resample"
   ]
  },
  {
   "cell_type": "markdown",
   "metadata": {},
   "source": [
    "### 1. Upsampling Data"
   ]
  },
  {
   "cell_type": "code",
   "execution_count": 23,
   "metadata": {},
   "outputs": [
    {
     "data": {
      "text/plain": [
       "0    6599\n",
       "1    6599\n",
       "Name: Bankrupt?, dtype: int64"
      ]
     },
     "execution_count": 23,
     "metadata": {},
     "output_type": "execute_result"
    }
   ],
   "source": [
    "# Load the data from CSV file\n",
    "df = pd.read_csv(\"bankruptcy.csv\")\n",
    "# df.head()\n",
    "\n",
    "# Separate majority and minority classes\n",
    "df_majority = df[df[\"Bankrupt?\"] == 0]\n",
    "df_minority = df[df[\"Bankrupt?\"] == 1]\n",
    " \n",
    "# Upsample minority class\n",
    "df_minority_upsampled = resample(df_minority, \n",
    "                                 replace=True,     # sample with replacement\n",
    "                                 n_samples=len(df_majority),    # to match majority class\n",
    "                                 random_state=42)  # reproducible results\n",
    " \n",
    "# Combine majority class with upsampled minority class\n",
    "df_upsampled = pd.concat([df_majority, df_minority_upsampled])\n",
    " \n",
    "# Display new class counts\n",
    "df_upsampled[\"Bankrupt?\"].value_counts()"
   ]
  },
  {
   "attachments": {},
   "cell_type": "markdown",
   "metadata": {},
   "source": [
    "### 2. Evaluating Upsampled Data"
   ]
  },
  {
   "attachments": {},
   "cell_type": "markdown",
   "metadata": {},
   "source": [
    "##### Top 10 Variables from original dataset"
   ]
  },
  {
   "cell_type": "code",
   "execution_count": 31,
   "metadata": {},
   "outputs": [
    {
     "name": "stdout",
     "output_type": "stream",
     "text": [
      "Top 10 features with their correlation to bankruptcy:\n",
      "1 :  Net Income to Total Assets             : 0.3155\n",
      "2 :  ROA(A) before interest and % after tax : 0.2829\n",
      "3 :  ROA(B) before interest and depreciation after tax: 0.2731\n",
      "4 :  ROA(C) before interest and depreciation before interest: 0.2608\n",
      "5 :  Net worth/Assets                       : 0.2502\n",
      "6 :  Debt ratio %                           : 0.2502\n",
      "7 :  Persistent EPS in the Last Four Seasons: 0.2196\n",
      "8 :  Retained Earnings to Total Assets      : 0.2178\n",
      "9 :  Net profit before tax/Paid-in capital  : 0.2079\n",
      "10:  Per Share Net profit before tax (Yuan ¥): 0.2014\n"
     ]
    }
   ],
   "source": [
    "corr_matrix = df.corr()\n",
    "num_features = 10\n",
    "corr_with_bankrupt = corr_matrix[\"Bankrupt?\"].abs().sort_values(ascending=False)\n",
    "\n",
    "top_corr_features = corr_with_bankrupt[1:num_features+1].index.tolist()\n",
    "\n",
    "print(\"Top 10 features with their correlation to bankruptcy:\")\n",
    "for i, feature in enumerate(top_corr_features):\n",
    "    corr = corr_with_bankrupt[feature]\n",
    "    print(\"{:<2}: {:<40}: {:.4f}\".format(i+1, feature, corr))\n",
    "\n"
   ]
  },
  {
   "attachments": {},
   "cell_type": "markdown",
   "metadata": {},
   "source": [
    "##### Top 10 Variables from upsampled dataset"
   ]
  },
  {
   "cell_type": "code",
   "execution_count": 32,
   "metadata": {},
   "outputs": [
    {
     "name": "stdout",
     "output_type": "stream",
     "text": [
      "Top 10 features with their correlation to bankruptcy:\n",
      "1 :  Debt ratio %                           : 0.5803\n",
      "2 :  Net worth/Assets                       : 0.5803\n",
      "3 :  Persistent EPS in the Last Four Seasons: 0.5461\n",
      "4 :  ROA(C) before interest and depreciation before interest: 0.5364\n",
      "5 :  Net profit before tax/Paid-in capital  : 0.5327\n",
      "6 :  Per Share Net profit before tax (Yuan ¥): 0.5276\n",
      "7 :  ROA(B) before interest and depreciation after tax: 0.5271\n",
      "8 :  ROA(A) before interest and % after tax : 0.5156\n",
      "9 :  Net Value Per Share (B)                : 0.4986\n",
      "10:  Net Income to Total Assets             : 0.4984\n"
     ]
    }
   ],
   "source": [
    "corr_matrix = df_upsampled.corr()\n",
    "num_features = 10\n",
    "corr_with_bankrupt = corr_matrix[\"Bankrupt?\"].abs().sort_values(ascending=False)\n",
    "top_corr_features = corr_with_bankrupt[1:num_features+1].index.tolist()\n",
    "df_top10_upsampled = df_upsampled[top_corr_features]\n",
    "\n",
    "\n",
    "print(\"Top 10 features with their correlation to bankruptcy:\")\n",
    "for i, feature in enumerate(top_corr_features):\n",
    "    corr = corr_with_bankrupt[feature]\n",
    "    print(\"{:<2}: {:<40}: {:.4f}\".format(i+1, feature, corr))\n"
   ]
  },
  {
   "attachments": {},
   "cell_type": "markdown",
   "metadata": {},
   "source": [
    "### 3. Generating Upsampled Data"
   ]
  },
  {
   "cell_type": "code",
   "execution_count": 26,
   "metadata": {},
   "outputs": [],
   "source": [
    "df_upsampled.to_csv('upsampled_bankruptcy.csv', index=False)"
   ]
  },
  {
   "cell_type": "code",
   "execution_count": 27,
   "metadata": {},
   "outputs": [
    {
     "data": {
      "text/plain": [
       "0    6599\n",
       "1    6599\n",
       "Name: Bankrupt?, dtype: int64"
      ]
     },
     "execution_count": 27,
     "metadata": {},
     "output_type": "execute_result"
    }
   ],
   "source": [
    "df2 = pd.read_csv(\"upsampled_bankruptcy.csv\")\n",
    "df2[\"Bankrupt?\"].value_counts()"
   ]
  }
 ],
 "metadata": {
  "kernelspec": {
   "display_name": "newEnv",
   "language": "python",
   "name": "python3"
  },
  "language_info": {
   "codemirror_mode": {
    "name": "ipython",
    "version": 3
   },
   "file_extension": ".py",
   "mimetype": "text/x-python",
   "name": "python",
   "nbconvert_exporter": "python",
   "pygments_lexer": "ipython3",
   "version": "3.10.4"
  },
  "orig_nbformat": 4
 },
 "nbformat": 4,
 "nbformat_minor": 2
}
