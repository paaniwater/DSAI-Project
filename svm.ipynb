{
 "cells": [
  {
   "attachments": {},
   "cell_type": "markdown",
   "metadata": {},
   "source": [
    "## Support Vector Machines (SVMs)\n",
    "\n",
    "Support Vector Machines (SVMs) are a type of machine learning algorithm used for classification and regression analysis. SVMs work by finding the optimal hyperplane that separates the data into different classes. The hyperplane is chosen to maximize the margin between the closest data points from each class, also known as the support vectors. This margin is the distance between the hyperplane and the closest data points from each class. "
   ]
  },
  {
   "cell_type": "code",
   "execution_count": 2,
   "metadata": {},
   "outputs": [
    {
     "name": "stdout",
     "output_type": "stream",
     "text": [
      "All columns are numerical.\n"
     ]
    }
   ],
   "source": [
    "import pandas as pd\n",
    "from sklearn.linear_model import LogisticRegression\n",
    "from sklearn.model_selection import train_test_split\n",
    "from keras.models import Sequential\n",
    "from keras.layers import Dense\n",
    "from keras.utils.vis_utils import plot_model\n",
    "\n",
    "\n",
    "\n",
    "# Load the data from CSV file\n",
    "df = pd.read_csv(\"bankruptcy.csv\")\n",
    "# df.head()\n",
    "\n",
    "# select columns that are not numerical\n",
    "non_numeric_cols = df.select_dtypes(exclude=['int64', 'float64', 'complex128'])\n",
    "\n",
    "# print the non-numerical columns\n",
    "if not non_numeric_cols.empty:\n",
    "    print(f\"The non-numerical columns are: {', '.join(non_numeric_cols.columns)}\")\n",
    "else:\n",
    "    print(\"All columns are numerical.\")"
   ]
  },
  {
   "cell_type": "code",
   "execution_count": 5,
   "metadata": {},
   "outputs": [
    {
     "name": "stdout",
     "output_type": "stream",
     "text": [
      "              precision    recall  f1-score   support\n",
      "\n",
      "           0       0.97      1.00      0.98      1318\n",
      "           1       1.00      0.02      0.04        46\n",
      "\n",
      "    accuracy                           0.97      1364\n",
      "   macro avg       0.98      0.51      0.51      1364\n",
      "weighted avg       0.97      0.97      0.95      1364\n",
      "\n"
     ]
    }
   ],
   "source": [
    "from sklearn.model_selection import train_test_split\n",
    "from sklearn.preprocessing import StandardScaler\n",
    "from sklearn.svm import SVC\n",
    "from sklearn.metrics import classification_report\n",
    "\n",
    "\n",
    "# Preprocess the data\n",
    "X = df.drop(\"Bankrupt?\", axis=1) # input features\n",
    "y = df[\"Bankrupt?\"] # target variable\n",
    "X = pd.get_dummies(X, drop_first=True) # encode categorical variables\n",
    "X = StandardScaler().fit_transform(X) # scale numerical variables\n",
    "\n",
    "# Split the dataset into training and testing sets\n",
    "X_train, X_test, y_train, y_test = train_test_split(X, y, test_size=0.2, random_state=0)\n",
    "\n",
    "# Train an SVM model with RBF kernel\n",
    "model = SVC(kernel='rbf')\n",
    "model.fit(X_train, y_train)\n",
    "\n",
    "# Evaluate the model on the testing set\n",
    "y_pred = model.predict(X_test)\n",
    "print(classification_report(y_test, y_pred))"
   ]
  },
  {
   "attachments": {},
   "cell_type": "markdown",
   "metadata": {},
   "source": [
    "Precision: The precision is the ratio of true positive predictions to the total number of positive predictions. It measures the accuracy of positive predictions. A high precision indicates that the model has a low false positive rate.\n",
    "\n",
    "Recall: The recall is the ratio of true positive predictions to the total number of actual positive instances. It measures the completeness of positive predictions. A high recall indicates that the model has a low false negative rate.\n",
    "\n",
    "F1-score: The F1-score is the harmonic mean of precision and recall. It combines both metrics into a single score that balances precision and recall.\n",
    "\n",
    "Support: The support is the number of actual occurrences of each class in the test set.\n",
    "\n",
    "Accuracy: The accuracy is the ratio of correct predictions to the total number of predictions.\n",
    "\n",
    "Macro/micro averages: The macro average calculates the metric for each class and then takes the average. The micro average calculates the metric globally by counting the total true positives, false negatives, and false positives."
   ]
  }
 ],
 "metadata": {
  "kernelspec": {
   "display_name": "newEnv",
   "language": "python",
   "name": "python3"
  },
  "language_info": {
   "codemirror_mode": {
    "name": "ipython",
    "version": 3
   },
   "file_extension": ".py",
   "mimetype": "text/x-python",
   "name": "python",
   "nbconvert_exporter": "python",
   "pygments_lexer": "ipython3",
   "version": "3.10.4"
  },
  "orig_nbformat": 4
 },
 "nbformat": 4,
 "nbformat_minor": 2
}
