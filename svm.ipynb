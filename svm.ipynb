{
 "cells": [
  {
   "attachments": {},
   "cell_type": "markdown",
   "metadata": {},
   "source": [
    "## Support Vector Machines (SVMs)\n",
    "\n",
    "Support Vector Machines (SVMs) are a type of machine learning algorithm used for classification and regression analysis. SVMs work by finding the optimal hyperplane that separates the data into different classes. The hyperplane is chosen to maximize the margin between the closest data points from each class, also known as the support vectors. This margin is the distance between the hyperplane and the closest data points from each class. "
   ]
  },
  {
   "cell_type": "code",
   "execution_count": 2,
   "metadata": {},
   "outputs": [
    {
     "data": {
      "text/plain": [
       "0    6599\n",
       "1    6599\n",
       "Name: Bankrupt?, dtype: int64"
      ]
     },
     "execution_count": 2,
     "metadata": {},
     "output_type": "execute_result"
    }
   ],
   "source": [
    "import pandas as pd\n",
    "\n",
    "#for upsampling\n",
    "from sklearn.utils import resample\n",
    "\n",
    "#for svm model\n",
    "from sklearn.model_selection import train_test_split\n",
    "from sklearn.preprocessing import StandardScaler\n",
    "from sklearn.svm import SVC\n",
    "from sklearn.metrics import classification_report\n",
    "\n",
    "# "
   ]
  },
  {
   "cell_type": "code",
   "execution_count": null,
   "metadata": {},
   "outputs": [],
   "source": [
    "# Load the data from CSV file\n",
    "df = pd.read_csv(\"bankruptcy.csv\")\n",
    "# df.head()\n",
    "\n",
    "# Separate majority and minority classes\n",
    "df_majority = df[df[\"Bankrupt?\"] == 0]\n",
    "df_minority = df[df[\"Bankrupt?\"] == 1]\n",
    " \n",
    "# Upsample minority class\n",
    "df_minority_upsampled = resample(df_minority, \n",
    "                                 replace=True,     # sample with replacement\n",
    "                                 n_samples=len(df_majority),    # to match majority class\n",
    "                                 random_state=42)  # reproducible results\n",
    " \n",
    "# Combine majority class with upsampled minority class\n",
    "df_upsampled = pd.concat([df_majority, df_minority_upsampled])\n",
    " \n",
    "# Display new class counts\n",
    "df_upsampled[\"Bankrupt?\"].value_counts()"
   ]
  },
  {
   "cell_type": "code",
   "execution_count": 3,
   "metadata": {},
   "outputs": [
    {
     "name": "stdout",
     "output_type": "stream",
     "text": [
      "All columns are numerical.\n"
     ]
    }
   ],
   "source": [
    "# select columns that are not numerical\n",
    "non_numeric_cols = df_upsampled.select_dtypes(exclude=['int64', 'float64', 'complex128'])\n",
    "\n",
    "# print the non-numerical columns\n",
    "if not non_numeric_cols.empty:\n",
    "    print(f\"The non-numerical columns are: {', '.join(non_numeric_cols.columns)}\")\n",
    "else:\n",
    "    print(\"All columns are numerical.\")"
   ]
  },
  {
   "cell_type": "code",
   "execution_count": 5,
   "metadata": {},
   "outputs": [
    {
     "name": "stdout",
     "output_type": "stream",
     "text": [
      "              precision    recall  f1-score   support\n",
      "\n",
      "           0     0.9446    0.9140    0.9291      1268\n",
      "           1     0.9229    0.9504    0.9364      1372\n",
      "\n",
      "    accuracy                         0.9330      2640\n",
      "   macro avg     0.9337    0.9322    0.9328      2640\n",
      "weighted avg     0.9333    0.9330    0.9329      2640\n",
      "\n"
     ]
    }
   ],
   "source": [
    "\n",
    "\n",
    "\n",
    "# Preprocess the data\n",
    "# X = df.drop(\"Bankrupt?\", axis=1) # input features\n",
    "# y = df[\"Bankrupt?\"] # target variable\n",
    "X = df_upsampled.drop(\"Bankrupt?\", axis=1)\n",
    "y = df_upsampled[\"Bankrupt?\"]\n",
    "X = pd.get_dummies(X, drop_first=True) # encode categorical variables\n",
    "X = StandardScaler().fit_transform(X) # scale numerical variables\n",
    "\n",
    "# Split the dataset into training and testing sets\n",
    "X_train, X_test, y_train, y_test = train_test_split(X, y, test_size=0.2, random_state=0)\n",
    "\n",
    "# Train an SVM model with RBF kernel\n",
    "model = SVC(kernel='rbf')\n",
    "model.fit(X_train, y_train)\n",
    "\n",
    "# Evaluate the model on the testing set\n",
    "y_pred = model.predict(X_test)\n",
    "print(classification_report(y_test, y_pred, digits=4))"
   ]
  },
  {
   "attachments": {},
   "cell_type": "markdown",
   "metadata": {},
   "source": [
    "Precision: The precision is the ratio of true positive predictions to the total number of positive predictions. It measures the accuracy of positive predictions. A high precision indicates that the model has a low false positive rate.\n",
    "\n",
    "Recall: The recall is the ratio of true positive predictions to the total number of actual positive instances. It measures the completeness of positive predictions. A high recall indicates that the model has a low false negative rate.\n",
    "\n",
    "F1-score: The F1-score is the harmonic mean of precision and recall. It combines both metrics into a single score that balances precision and recall.\n",
    "\n",
    "Support: The support is the number of actual occurrences of each class in the test set.\n",
    "\n",
    "Accuracy: The accuracy is the ratio of correct predictions to the total number of predictions.\n",
    "\n",
    "Macro/micro averages: The macro average calculates the metric for each class and then takes the average. The micro average calculates the metric globally by counting the total true positives, false negatives, and false positives."
   ]
  }
 ],
 "metadata": {
  "kernelspec": {
   "display_name": "newEnv",
   "language": "python",
   "name": "python3"
  },
  "language_info": {
   "codemirror_mode": {
    "name": "ipython",
    "version": 3
   },
   "file_extension": ".py",
   "mimetype": "text/x-python",
   "name": "python",
   "nbconvert_exporter": "python",
   "pygments_lexer": "ipython3",
   "version": "3.10.4"
  },
  "orig_nbformat": 4
 },
 "nbformat": 4,
 "nbformat_minor": 2
}
