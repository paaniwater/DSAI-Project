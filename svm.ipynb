{
 "cells": [
  {
   "attachments": {},
   "cell_type": "markdown",
   "metadata": {},
   "source": [
    "## Support Vector Machines (SVMs)\n",
    "\n",
    "Support Vector Machines (SVMs) are a type of machine learning algorithm used for classification and regression analysis. SVMs work by finding the optimal hyperplane that separates the data into different classes. The hyperplane is chosen to maximize the margin between the closest data points from each class, also known as the support vectors. This margin is the distance between the hyperplane and the closest data points from each class. \n",
    "\n",
    "We have decided to utilise this model and performed analysis based on the following steps:\n",
    "1. Preparing data (obtain top 10 features, prep data to suit model)\n",
    "2. Training SVM Model on full dataset (all 95 features)\n",
    "3. Training SVM Model with only top 10 features\n",
    "4. Evaluating the performance of each model by generating ROC and AUC, and comparing the classification reports of each model\n",
    "\n",
    "\n",
    "\n",
    "\n",
    "**Conclusion**\n",
    "\n",
    "Using SVM, we concluded that the model trained on the full dataset (Model 1) is more accurate (**94.55%**) compared to the model trained on the top 10 variables (Model 2) (**87.39%**). Plotting the ROC and obtaining the AUC, we obtained an AUC of **0.9794** for Model 1 and **0.9347** for Model 2. We can conclude that the SVM model is thus able to distinguish between positive and negative cases very well, and is an almost perfect classifier."
   ]
  },
  {
   "attachments": {},
   "cell_type": "markdown",
   "metadata": {},
   "source": [
    "### 1. Preparing Data\n",
    "\n",
    "##### a) Importing necessary libraries and load upsampled dataset"
   ]
  },
  {
   "cell_type": "code",
   "execution_count": 15,
   "metadata": {},
   "outputs": [],
   "source": [
    "import pandas as pd\n",
    "import matplotlib.pyplot as plt\n",
    "\n",
    "#for svm model\n",
    "from sklearn.model_selection import train_test_split\n",
    "from sklearn.preprocessing import StandardScaler\n",
    "from sklearn.svm import SVC\n",
    "from sklearn.metrics import classification_report\n",
    "from sklearn.metrics import roc_curve, auc"
   ]
  },
  {
   "cell_type": "code",
   "execution_count": 16,
   "metadata": {},
   "outputs": [],
   "source": [
    "# Load the data from CSV file\n",
    "df = pd.read_csv(\"upsampled_bankruptcy.csv\")"
   ]
  },
  {
   "attachments": {},
   "cell_type": "markdown",
   "metadata": {},
   "source": [
    "##### b) Obtain Top 10 Variables based on correlation with bankruptcy"
   ]
  },
  {
   "cell_type": "code",
   "execution_count": 17,
   "metadata": {},
   "outputs": [
    {
     "data": {
      "text/plain": [
       "[' Debt ratio %',\n",
       " ' Net worth/Assets',\n",
       " ' Persistent EPS in the Last Four Seasons',\n",
       " ' ROA(C) before interest and depreciation before interest',\n",
       " ' Net profit before tax/Paid-in capital',\n",
       " ' Per Share Net profit before tax (Yuan ¥)',\n",
       " ' ROA(B) before interest and depreciation after tax',\n",
       " ' ROA(A) before interest and % after tax',\n",
       " ' Net Value Per Share (B)',\n",
       " ' Net Income to Total Assets']"
      ]
     },
     "execution_count": 17,
     "metadata": {},
     "output_type": "execute_result"
    }
   ],
   "source": [
    "# Split the data into training and testing sets for top 10 variables based on correlation with bankruptcy\n",
    "corr_matrix = df.corr()\n",
    "num_features = 10\n",
    "corr_with_bankrupt = corr_matrix[\"Bankrupt?\"].abs().sort_values(ascending=False)\n",
    "top_corr_features = corr_with_bankrupt[1:num_features+1].index.tolist()\n",
    "df_top10_upsampled = df[top_corr_features]\n",
    "top_corr_features\n"
   ]
  },
  {
   "attachments": {},
   "cell_type": "markdown",
   "metadata": {},
   "source": [
    "##### c) Ensuring assumptions for SVM model are adhered to"
   ]
  },
  {
   "attachments": {},
   "cell_type": "markdown",
   "metadata": {},
   "source": [
    "One of the key assumptions of SVM is that input data is in numerical form. Therefore, we ensured that there were no non-numerical data in our dataset before training the model."
   ]
  },
  {
   "cell_type": "code",
   "execution_count": 18,
   "metadata": {},
   "outputs": [
    {
     "name": "stdout",
     "output_type": "stream",
     "text": [
      "All columns are numerical.\n"
     ]
    }
   ],
   "source": [
    "# select columns that are not numerical\n",
    "non_numeric_cols = df.select_dtypes(exclude=['int64', 'float64', 'complex128'])\n",
    "\n",
    "# print the non-numerical columns\n",
    "if not non_numeric_cols.empty:\n",
    "    print(f\"The non-numerical columns are: {', '.join(non_numeric_cols.columns)}\")\n",
    "else:\n",
    "    print(\"All columns are numerical.\")"
   ]
  },
  {
   "attachments": {},
   "cell_type": "markdown",
   "metadata": {},
   "source": [
    "### 2. Train SVM Model on full dataset"
   ]
  },
  {
   "cell_type": "code",
   "execution_count": 19,
   "metadata": {},
   "outputs": [
    {
     "data": {
      "text/plain": [
       "SVC(probability=True)"
      ]
     },
     "execution_count": 19,
     "metadata": {},
     "output_type": "execute_result"
    }
   ],
   "source": [
    "\n",
    "X = df.drop(\"Bankrupt?\", axis=1)\n",
    "y = df[\"Bankrupt?\"]\n",
    "X = pd.get_dummies(X, drop_first=True) # encode categorical variables\n",
    "X = StandardScaler().fit_transform(X) # scale numerical variables\n",
    "\n",
    "# Split the dataset into training and testing sets\n",
    "X_train, X_test, y_train, y_test = train_test_split(X, y, test_size=0.2, random_state=42)\n",
    "\n",
    "# Train an SVM model with RBF kernel\n",
    "svm_model = SVC(kernel='rbf', probability=True)\n",
    "svm_model.fit(X_train, y_train)\n",
    "\n",
    "\n"
   ]
  },
  {
   "attachments": {},
   "cell_type": "markdown",
   "metadata": {},
   "source": [
    "### 3. Train SVM Model with only top 10 features"
   ]
  },
  {
   "cell_type": "code",
   "execution_count": 20,
   "metadata": {},
   "outputs": [
    {
     "data": {
      "text/plain": [
       "SVC(probability=True)"
      ]
     },
     "execution_count": 20,
     "metadata": {},
     "output_type": "execute_result"
    }
   ],
   "source": [
    "X_top10_upsample = df_top10_upsampled\n",
    "y_top10_upsample = df[\"Bankrupt?\"]\n",
    "\n",
    "X2 = df_top10_upsampled\n",
    "y2 = df[\"Bankrupt?\"]\n",
    "X2 = pd.get_dummies(X2, drop_first=True) # encode categorical variables\n",
    "X2 = StandardScaler().fit_transform(X2) # scale numerical variables\n",
    "\n",
    "# Split the dataset into training and testing sets\n",
    "X_train2, X_test2, y_train2, y_test2 = train_test_split(X2, y2, test_size=0.2, random_state=42)\n",
    "\n",
    "# Train an SVM model with RBF kernel\n",
    "svm_model_top10 = SVC(kernel='rbf', probability=True)\n",
    "svm_model_top10.fit(X_train2, y_train2)\n",
    "\n",
    "\n"
   ]
  },
  {
   "attachments": {},
   "cell_type": "markdown",
   "metadata": {},
   "source": [
    "### 4. Evaluating Performance of both models"
   ]
  },
  {
   "cell_type": "code",
   "execution_count": 21,
   "metadata": {},
   "outputs": [
    {
     "name": "stdout",
     "output_type": "stream",
     "text": [
      "              precision    recall  f1-score   support\n",
      "\n",
      "           0     0.9767    0.9134    0.9440      1328\n",
      "           1     0.9177    0.9779    0.9469      1312\n",
      "\n",
      "    accuracy                         0.9455      2640\n",
      "   macro avg     0.9472    0.9456    0.9454      2640\n",
      "weighted avg     0.9474    0.9455    0.9454      2640\n",
      "\n"
     ]
    },
    {
     "data": {
      "image/png": "[encoded data removed]",
      "text/plain": [
       "<Figure size 640x480 with 1 Axes>"
      ]
     },
     "metadata": {},
     "output_type": "display_data"
    }
   ],
   "source": [
    "# Evaluate the model on the testing set\n",
    "y_pred = svm_model.predict(X_test)\n",
    "svm_report = classification_report(y_test, y_pred, digits=4)\n",
    "print(svm_report)\n",
    "\n",
    "# predict probabilities with SVM model for all variables\n",
    "svm_probs = svm_model.decision_function(X_test)\n",
    "\n",
    "# compare the predicted probabilities\n",
    "fpr_svm, tpr_svm, _ = roc_curve(y_test, svm_probs)\n",
    "roc_auc_svm = auc(fpr_svm, tpr_svm)\n",
    "\n",
    "# plot the ROC curve\n",
    "plt.plot(fpr_svm, tpr_svm, color='red', label='SVM (AUC = %0.4f)' % roc_auc_svm)\n",
    "plt.legend()\n",
    "plt.xlabel('False Positive Rate')\n",
    "plt.ylabel('True Positive Rate')\n",
    "plt.show()"
   ]
  },
  {
   "cell_type": "code",
   "execution_count": 22,
   "metadata": {},
   "outputs": [
    {
     "name": "stdout",
     "output_type": "stream",
     "text": [
      "              precision    recall  f1-score   support\n",
      "\n",
      "           0     0.8996    0.8434    0.8706      1328\n",
      "           1     0.8509    0.9047    0.8770      1312\n",
      "\n",
      "    accuracy                         0.8739      2640\n",
      "   macro avg     0.8752    0.8740    0.8738      2640\n",
      "weighted avg     0.8754    0.8739    0.8738      2640\n",
      "\n"
     ]
    },
    {
     "data": {
      "image/png": "[encoded data removed]",
      "text/plain": [
       "<Figure size 640x480 with 1 Axes>"
      ]
     },
     "metadata": {},
     "output_type": "display_data"
    }
   ],
   "source": [
    "# Evaluate the model on the testing set\n",
    "y_pred2 = svm_model_top10.predict(X_test2)\n",
    "svm_report_top10 = classification_report(y_test2, y_pred2, digits=4)\n",
    "print(svm_report_top10)\n",
    "\n",
    "# predict probabilities with SVM model for all variables\n",
    "svm_probs = svm_model_top10.decision_function(X_test2)\n",
    "\n",
    "# compare the predicted probabilities\n",
    "fpr_svm_top10, tpr_svm_top10, _ = roc_curve(y_test2, svm_probs)\n",
    "roc_auc_svm_top10 = auc(fpr_svm_top10, tpr_svm_top10)\n",
    "\n",
    "\n",
    "# plot the ROC curve\n",
    "plt.plot(fpr_svm_top10, tpr_svm_top10, color='red', label='SVM (AUC = %0.4f)' % roc_auc_svm_top10)\n",
    "plt.legend()\n",
    "plt.xlabel('False Positive Rate')\n",
    "plt.ylabel('True Positive Rate')\n",
    "plt.show()"
   ]
  },
  {
   "attachments": {},
   "cell_type": "markdown",
   "metadata": {},
   "source": [
    "storing data for evaluation notebook"
   ]
  },
  {
   "cell_type": "code",
   "execution_count": 23,
   "metadata": {},
   "outputs": [
    {
     "name": "stdout",
     "output_type": "stream",
     "text": [
      "Stored 'svm_report' (str)\n",
      "Stored 'fpr_svm' (ndarray)\n",
      "Stored 'tpr_svm' (ndarray)\n",
      "Stored 'svm_model' (SVC)\n",
      "Stored 'roc_auc_svm' (float64)\n",
      "Stored 'svm_report_top10' (str)\n",
      "Stored 'fpr_svm_top10' (ndarray)\n",
      "Stored 'tpr_svm_top10' (ndarray)\n",
      "Stored 'svm_model_top10' (SVC)\n",
      "Stored 'roc_auc_svm_top10' (float64)\n"
     ]
    }
   ],
   "source": [
    "\n",
    "%store svm_report\n",
    "%store fpr_svm\n",
    "%store tpr_svm\n",
    "%store svm_model\n",
    "%store roc_auc_svm\n",
    "\n",
    "%store svm_report_top10\n",
    "%store fpr_svm_top10\n",
    "%store tpr_svm_top10\n",
    "%store svm_model_top10\n",
    "%store roc_auc_svm_top10"
   ]
  }
 ],
 "metadata": {
  "kernelspec": {
   "display_name": "newEnv",
   "language": "python",
   "name": "python3"
  },
  "language_info": {
   "codemirror_mode": {
    "name": "ipython",
    "version": 3
   },
   "file_extension": ".py",
   "mimetype": "text/x-python",
   "name": "python",
   "nbconvert_exporter": "python",
   "pygments_lexer": "ipython3",
   "version": "3.10.4"
  },
  "orig_nbformat": 4
 },
 "nbformat": 4,
 "nbformat_minor": 2
}
