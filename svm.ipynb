{
 "cells": [
  {
   "attachments": {},
   "cell_type": "markdown",
   "metadata": {},
   "source": [
    "## Support Vector Machines (SVMs)\n",
    "\n",
    "Support Vector Machines (SVMs) are a type of machine learning algorithm used for classification and regression analysis. SVMs work by finding the optimal hyperplane that separates the data into different classes. The hyperplane is chosen to maximize the margin between the closest data points from each class, also known as the support vectors. This margin is the distance between the hyperplane and the closest data points from each class. \n",
    "\n",
    "We have decided to utilise this model and performed analysis based on the following steps:\n",
    "1. Preparing data (obtain top 10 features, prep data to suit model)\n",
    "2. Training SVM Model on full dataset (all 95 features)\n",
    "3. Training SVM Model with only top 10 features\n",
    "4. Evaluating the performance of each model by generating ROC and AUC, and comparing the classification reports of each model\n",
    "\n",
    "\n",
    "\n",
    "\n",
    "**Conclusion**\n",
    "\n",
    "Using SVM, we concluded that the model trained on the full dataset (Model 1) is more accurate (**94.55%**) compared to the model trained on the top 10 variables (Model 2) (**87.39%**). Plotting the ROC and obtaining the AUC, we obtained an AUC of **0.98** for Model 1 and **0.93** for Model 2. We can conclude that the SVM model is thus able to distinguish between positive and negative cases very well, and is an almost perfect classifier."
   ]
  },
  {
   "attachments": {},
   "cell_type": "markdown",
   "metadata": {},
   "source": [
    "### 1. Preparing Data\n",
    "\n",
    "##### a) Importing necessary libraries and load upsampled dataset"
   ]
  },
  {
   "cell_type": "code",
   "execution_count": 55,
   "metadata": {},
   "outputs": [],
   "source": [
    "import pandas as pd\n",
    "import matplotlib.pyplot as plt\n",
    "\n",
    "#for upsampling\n",
    "from sklearn.utils import resample\n",
    "\n",
    "#for svm model\n",
    "from sklearn.model_selection import train_test_split\n",
    "from sklearn.preprocessing import StandardScaler\n",
    "from sklearn.svm import SVC\n",
    "from sklearn.metrics import classification_report\n",
    "from sklearn.metrics import roc_curve, auc"
   ]
  },
  {
   "cell_type": "code",
   "execution_count": 56,
   "metadata": {},
   "outputs": [],
   "source": [
    "# Load the data from CSV file\n",
    "df = pd.read_csv(\"upsampled_bankruptcy.csv\")"
   ]
  },
  {
   "attachments": {},
   "cell_type": "markdown",
   "metadata": {},
   "source": [
    "##### b) Obtain Top 10 Variables based on correlation with bankruptcy"
   ]
  },
  {
   "cell_type": "code",
   "execution_count": 57,
   "metadata": {},
   "outputs": [
    {
     "data": {
      "text/plain": [
       "[' Debt ratio %',\n",
       " ' Net worth/Assets',\n",
       " ' Persistent EPS in the Last Four Seasons',\n",
       " ' ROA(C) before interest and depreciation before interest',\n",
       " ' Net profit before tax/Paid-in capital',\n",
       " ' Per Share Net profit before tax (Yuan ¥)',\n",
       " ' ROA(B) before interest and depreciation after tax',\n",
       " ' ROA(A) before interest and % after tax',\n",
       " ' Net Value Per Share (B)',\n",
       " ' Net Income to Total Assets']"
      ]
     },
     "execution_count": 57,
     "metadata": {},
     "output_type": "execute_result"
    }
   ],
   "source": [
    "# Split the data into training and testing sets for top 10 variables based on correlation with bankruptcy\n",
    "corr_matrix = df.corr()\n",
    "num_features = 10\n",
    "corr_with_bankrupt = corr_matrix[\"Bankrupt?\"].abs().sort_values(ascending=False)\n",
    "top_corr_features = corr_with_bankrupt[1:num_features+1].index.tolist()\n",
    "df_top10_upsampled = df[top_corr_features]\n",
    "top_corr_features\n"
   ]
  },
  {
   "attachments": {},
   "cell_type": "markdown",
   "metadata": {},
   "source": [
    "\n",
    "If the top correlated features are similar for the original and upsampled datasets, but in a different order, it could mean that the distribution of the feature values has changed slightly after upsampling, but the overall relationship between the features and the target variable \"Bankrupt?\" remains the same. It's also possible that the difference in feature order is just due to random variation in the correlation values, especially if the correlation values are similar in magnitude for the top features.\n",
    "\n",
    "In any case, it's a good sign that the top correlated features are similar for the original and upsampled datasets, because it suggests that the upsampling process has not introduced major changes to the underlying relationships between the features and the target variable. However, it's still important to evaluate the performance of any model trained on the upsampled data to ensure that it generalizes well to new, unseen data."
   ]
  },
  {
   "attachments": {},
   "cell_type": "markdown",
   "metadata": {},
   "source": [
    "##### c) Ensuring assumptions for SVM model are adhered to"
   ]
  },
  {
   "cell_type": "code",
   "execution_count": 58,
   "metadata": {},
   "outputs": [
    {
     "name": "stdout",
     "output_type": "stream",
     "text": [
      "All columns are numerical.\n"
     ]
    }
   ],
   "source": [
    "# select columns that are not numerical\n",
    "non_numeric_cols = df.select_dtypes(exclude=['int64', 'float64', 'complex128'])\n",
    "\n",
    "# print the non-numerical columns\n",
    "if not non_numeric_cols.empty:\n",
    "    print(f\"The non-numerical columns are: {', '.join(non_numeric_cols.columns)}\")\n",
    "else:\n",
    "    print(\"All columns are numerical.\")"
   ]
  },
  {
   "attachments": {},
   "cell_type": "markdown",
   "metadata": {},
   "source": [
    "### 2. Train SVM Model on full dataset"
   ]
  },
  {
   "cell_type": "code",
   "execution_count": 59,
   "metadata": {},
   "outputs": [
    {
     "name": "stdout",
     "output_type": "stream",
     "text": [
      "              precision    recall  f1-score   support\n",
      "\n",
      "           0     0.9767    0.9134    0.9440      1328\n",
      "           1     0.9177    0.9779    0.9469      1312\n",
      "\n",
      "    accuracy                         0.9455      2640\n",
      "   macro avg     0.9472    0.9456    0.9454      2640\n",
      "weighted avg     0.9474    0.9455    0.9454      2640\n",
      "\n"
     ]
    }
   ],
   "source": [
    "\n",
    "X = df.drop(\"Bankrupt?\", axis=1)\n",
    "y = df[\"Bankrupt?\"]\n",
    "X = pd.get_dummies(X, drop_first=True) # encode categorical variables\n",
    "X = StandardScaler().fit_transform(X) # scale numerical variables\n",
    "\n",
    "# Split the dataset into training and testing sets\n",
    "X_train, X_test, y_train, y_test = train_test_split(X, y, test_size=0.2, random_state=42)\n",
    "\n",
    "# Train an SVM model with RBF kernel\n",
    "model = SVC(kernel='rbf', probability=True)\n",
    "model.fit(X_train, y_train)\n",
    "\n",
    "# Evaluate the model on the testing set\n",
    "y_pred = model.predict(X_test)\n",
    "print(classification_report(y_test, y_pred, digits=4))"
   ]
  },
  {
   "attachments": {},
   "cell_type": "markdown",
   "metadata": {},
   "source": [
    "### 3. Train SVM Model with only top 10 features"
   ]
  },
  {
   "cell_type": "code",
   "execution_count": 60,
   "metadata": {},
   "outputs": [
    {
     "name": "stdout",
     "output_type": "stream",
     "text": [
      "              precision    recall  f1-score   support\n",
      "\n",
      "           0     0.8996    0.8434    0.8706      1328\n",
      "           1     0.8509    0.9047    0.8770      1312\n",
      "\n",
      "    accuracy                         0.8739      2640\n",
      "   macro avg     0.8752    0.8740    0.8738      2640\n",
      "weighted avg     0.8754    0.8739    0.8738      2640\n",
      "\n"
     ]
    }
   ],
   "source": [
    "X_top10_upsample = df_top10_upsampled\n",
    "y_top10_upsample = df[\"Bankrupt?\"]\n",
    "\n",
    "X2 = df_top10_upsampled\n",
    "y2 = df[\"Bankrupt?\"]\n",
    "X2 = pd.get_dummies(X2, drop_first=True) # encode categorical variables\n",
    "X2 = StandardScaler().fit_transform(X2) # scale numerical variables\n",
    "\n",
    "# Split the dataset into training and testing sets\n",
    "X_train2, X_test2, y_train2, y_test2 = train_test_split(X2, y2, test_size=0.2, random_state=42)\n",
    "\n",
    "# Train an SVM model with RBF kernel\n",
    "model_top10 = SVC(kernel='rbf', probability=True)\n",
    "model_top10.fit(X_train2, y_train2)\n",
    "\n",
    "# Evaluate the model on the testing set\n",
    "y_pred2 = model_top10.predict(X_test2)\n",
    "print(classification_report(y_test2, y_pred2, digits=4))"
   ]
  },
  {
   "attachments": {},
   "cell_type": "markdown",
   "metadata": {},
   "source": [
    "Precision: The precision is the ratio of true positive predictions to the total number of positive predictions. It measures the accuracy of positive predictions. A high precision indicates that the model has a low false positive rate.\n",
    "\n",
    "Recall: The recall is the ratio of true positive predictions to the total number of actual positive instances. It measures the completeness of positive predictions. A high recall indicates that the model has a low false negative rate.\n",
    "\n",
    "F1-score: The F1-score is the harmonic mean of precision and recall. It combines both metrics into a single score that balances precision and recall.\n",
    "\n",
    "Support: The support is the number of actual occurrences of each class in the test set.\n",
    "\n",
    "Accuracy: The accuracy is the ratio of correct predictions to the total number of predictions.\n",
    "\n",
    "Macro/micro averages: The macro average calculates the metric for each class and then takes the average. The micro average calculates the metric globally by counting the total true positives, false negatives, and false positives."
   ]
  },
  {
   "attachments": {},
   "cell_type": "markdown",
   "metadata": {},
   "source": [
    "### 4. Evaluating Performance of both models"
   ]
  },
  {
   "cell_type": "code",
   "execution_count": 61,
   "metadata": {},
   "outputs": [
    {
     "data": {
      "image/png": "[encoded data removed]",
      "text/plain": [
       "<Figure size 640x480 with 1 Axes>"
      ]
     },
     "metadata": {},
     "output_type": "display_data"
    }
   ],
   "source": [
    "# predict probabilities with SVM model for all variables\n",
    "svm_probs = model.decision_function(X_test)\n",
    "\n",
    "# compare the predicted probabilities\n",
    "fpr_svm, tpr_svm, _ = roc_curve(y_test, svm_probs)\n",
    "roc_auc_svm = auc(fpr_svm, tpr_svm)\n",
    "\n",
    "# plot the ROC curve\n",
    "plt.plot(fpr_svm, tpr_svm, color='red', label='SVM (AUC = %0.2f)' % roc_auc_svm)\n",
    "plt.legend()\n",
    "plt.xlabel('False Positive Rate')\n",
    "plt.ylabel('True Positive Rate')\n",
    "plt.show()"
   ]
  },
  {
   "cell_type": "code",
   "execution_count": 62,
   "metadata": {},
   "outputs": [
    {
     "data": {
      "image/png": "[encoded data removed]",
      "text/plain": [
       "<Figure size 640x480 with 1 Axes>"
      ]
     },
     "metadata": {},
     "output_type": "display_data"
    }
   ],
   "source": [
    "# predict probabilities with SVM model for all variables\n",
    "svm_probs = model_top10.decision_function(X_test2)\n",
    "\n",
    "# compare the predicted probabilities\n",
    "fpr_svm, tpr_svm, _ = roc_curve(y_test2, svm_probs)\n",
    "roc_auc_svm = auc(fpr_svm, tpr_svm)\n",
    "\n",
    "# plot the ROC curve\n",
    "plt.plot(fpr_svm, tpr_svm, color='red', label='SVM (AUC = %0.2f)' % roc_auc_svm)\n",
    "plt.legend()\n",
    "plt.xlabel('False Positive Rate')\n",
    "plt.ylabel('True Positive Rate')\n",
    "plt.show()"
   ]
  }
 ],
 "metadata": {
  "kernelspec": {
   "display_name": "newEnv",
   "language": "python",
   "name": "python3"
  },
  "language_info": {
   "codemirror_mode": {
    "name": "ipython",
    "version": 3
   },
   "file_extension": ".py",
   "mimetype": "text/x-python",
   "name": "python",
   "nbconvert_exporter": "python",
   "pygments_lexer": "ipython3",
   "version": "3.10.4"
  },
  "orig_nbformat": 4
 },
 "nbformat": 4,
 "nbformat_minor": 2
}
