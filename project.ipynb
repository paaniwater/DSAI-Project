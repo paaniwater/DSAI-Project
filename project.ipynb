{
 "cells": [
  {
   "cell_type": "code",
   "execution_count": null,
   "metadata": {},
   "outputs": [],
   "source": [
    "import pandas as pd\n",
    "import geopandas as gpd\n",
    "import pandas as pd\n",
    "import numpy as np\n",
    "from shapely.geometry import Point, Polygon\n",
    "import matplotlib.pyplot as plt\n",
    "import statsmodels.api as sm\n",
    "from sklearn.tree import DecisionTreeRegressor\n",
    "from sklearn.model_selection import train_test_split\n",
    "from sklearn.metrics import accuracy_score\n",
    "\n"
   ]
  },
  {
   "cell_type": "code",
   "execution_count": null,
   "metadata": {},
   "outputs": [],
   "source": [
    "# Load the crime dataset and remove crimes that are not of immediate interest\n",
    "crime_df = pd.read_csv(\"/Users/someshsahu/Documents/DSAI Project/crimes.csv\")\n",
    "\n",
    "crime_counts = crime_df['OFNS_DESC'].value_counts()\n",
    "filtered_df = crime_df[crime_df['OFNS_DESC'].isin(crime_counts[crime_counts > 1000].index)]\n",
    "\n",
    "\n",
    "\n",
    "removed_filtered_df = filtered_df.drop(filtered_df[filtered_df['OFNS_DESC'].isin(['VOIDED ARRESTS', 'OTHER STATE LAWS', 'FORGERY', 'FRAUDS', 'OFFENSES INVOLVING FRAUD', 'INTOXICATED & IMPAIRED DRIVING', 'OTHER TRAFFIC INFRACTION', 'INTOXICATED/IMPAIRED DRIVING', 'GAMBLING', 'THEFT-FRAUD', 'MOVING INFRACTIONS', 'ADMINISTRATIVE CODE', 'OTHER STATE LAWS (NON PENAL LA'])].index)\n",
    "removed_filtered_df.columns\n",
    "# new_df = removed_filtered_df.iloc[0:100]\n"
   ]
  },
  {
   "attachments": {},
   "cell_type": "markdown",
   "metadata": {},
   "source": [
    "The code below provides us with the top 3 precincts in terms of average number of crimes in a given month"
   ]
  },
  {
   "cell_type": "code",
   "execution_count": null,
   "metadata": {},
   "outputs": [],
   "source": [
    "\n",
    "\n",
    "removed_filtered_df['ARREST_DATE'] = pd.to_datetime(removed_filtered_df['ARREST_DATE'], format='%m/%d/%Y')\n",
    "removed_filtered_df['year_month'] = removed_filtered_df['ARREST_DATE'].dt.to_period('M')\n",
    "arrests_by_precinct = removed_filtered_df.groupby(['ARREST_PRECINCT', 'year_month']).size().reset_index(name='arrest_count')\n",
    "\n",
    "# loop through each period and identify the top 3 precincts with the highest crime rates\n",
    "top_precincts = pd.DataFrame(columns=['year_month', 'top_precincts'])\n",
    "for period in arrests_by_precinct['year_month'].unique():\n",
    "    period_data = arrests_by_precinct[arrests_by_precinct['year_month'] == period]\n",
    "    period_data['avg_arrests'] = period_data['arrest_count'].mean()\n",
    "    precincts = period_data.sort_values(by=['arrest_count'], ascending=False)['ARREST_PRECINCT'][:3]\n",
    "    top_precincts = top_precincts.append({'year_month': period, 'top_precincts': precincts.tolist()}, ignore_index=True)\n",
    "\n",
    "# output the top precincts for each period\n",
    "print(top_precincts)"
   ]
  },
  {
   "cell_type": "code",
   "execution_count": null,
   "metadata": {},
   "outputs": [],
   "source": [
    "# group the data by period of time and calculate the total number of arrests in each group\n",
    "removed_filtered_df['ARREST_DATE'] = pd.to_datetime(removed_filtered_df['ARREST_DATE'], format='%m/%d/%Y')\n",
    "removed_filtered_df['year_month'] = removed_filtered_df['ARREST_DATE'].dt.to_period('M')\n",
    "arrests_by_period = removed_filtered_df.groupby(['year_month']).size().reset_index(name='arrest_count')\n",
    "\n",
    "# perform time series analysis\n",
    "arrests_by_period.set_index('year_month', inplace=True)\n",
    "arrests_by_period.index = pd.to_datetime(arrests_by_period.index.to_timestamp())\n",
    "decomposition = sm.tsa.seasonal_decompose(arrests_by_period['arrest_count'], model='additive', period=12)\n",
    "\n",
    "# plot the results of the time series analysis\n",
    "fig, (ax1, ax2, ax3, ax4) = plt.subplots(4, 1, figsize=(12, 8))\n",
    "decomposition.observed.plot(ax=ax1)\n",
    "ax1.set_ylabel('Observed')\n",
    "decomposition.trend.plot(ax=ax2)\n",
    "ax2.set_ylabel('Trend')\n",
    "decomposition.seasonal.plot(ax=ax3)\n",
    "ax3.set_ylabel('Seasonal')\n",
    "decomposition.resid.plot(ax=ax4)\n",
    "ax4.set_ylabel('Residual')\n",
    "plt.show()"
   ]
  },
  {
   "cell_type": "code",
   "execution_count": null,
   "metadata": {},
   "outputs": [],
   "source": [
    "\n",
    "# Create a subset of the data with relevant features\n",
    "arrests_subset = arrests_df[['ARREST_PRECINCT', 'year_month', 'num_arrests']]\n",
    "\n",
    "# Create a pivot table to aggregate the data by precinct and period of time\n",
    "arrests_pivot = pd.pivot_table(arrests_subset, values='num_arrests', index=['ARREST_PRECINCT'], columns=['year_month'])\n",
    "\n",
    "# Split the data into training and testing sets\n",
    "X_train, X_test, y_train, y_test = train_test_split(arrests_pivot.dropna().drop(['top_3'], axis=1), arrests_pivot.dropna()['top_3'], test_size=0.2, random_state=42)\n",
    "\n",
    "# Train a decision tree regression model\n",
    "model = DecisionTreeRegressor(random_state=42)\n",
    "model.fit(X_train, y_train)\n",
    "\n",
    "# Evaluate the performance of the model on the testing set\n",
    "y_pred = model.predict(X_test)\n",
    "accuracy = accuracy_score(y_test, y_pred)\n",
    "print('Accuracy:', accuracy)\n"
   ]
  },
  {
   "cell_type": "code",
   "execution_count": null,
   "metadata": {},
   "outputs": [],
   "source": [
    "street_map = gpd.read_file('/Users/someshsahu/Downloads/Shapefiles and base map/geo_export_e32126a9-4611-4f2e-a62d-d39fdd22619e.shp')\n",
    "street_map.to_crs(4326)\n"
   ]
  },
  {
   "cell_type": "code",
   "execution_count": null,
   "metadata": {},
   "outputs": [],
   "source": [
    "geometry21 = [Point(xy) for xy in zip(new_df['Longitude'], new_df['Latitude'])]\n",
    "geo_df21 = gpd.GeoDataFrame(new_df, crs=\"EPSG:4326\", geometry=geometry21)\n",
    "geo_df21\n",
    "\n",
    "#plot both streetmap and and long/lat points\n",
    "fig, ax = plt.subplots(figsize=(15,15))\n",
    "geo_df21.plot(column=\"OFNS_DESC\", ax=ax,alpha=0.5, legend=True,markersize=30)\n",
    "street_map.to_crs(4326).plot(ax=ax, alpha=0.4,color='grey')\n",
    "# add title to graph\n",
    "plt.title('Crime in NYC', fontsize=15,fontweight='bold')\n",
    "# set latitiude and longitude boundaries for map display\n",
    "plt.xlim(-74.3, -73.7)\n",
    "plt.ylim(40.5, 40.95)\n",
    "plt.show()"
   ]
  }
 ],
 "metadata": {
  "kernelspec": {
   "display_name": "Python 3",
   "language": "python",
   "name": "python3"
  },
  "language_info": {
   "codemirror_mode": {
    "name": "ipython",
    "version": 3
   },
   "file_extension": ".py",
   "mimetype": "text/x-python",
   "name": "python",
   "nbconvert_exporter": "python",
   "pygments_lexer": "ipython3",
   "version": "3.9.16"
  },
  "orig_nbformat": 4
 },
 "nbformat": 4,
 "nbformat_minor": 2
}
