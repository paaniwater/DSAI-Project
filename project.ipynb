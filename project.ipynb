{
 "cells": [
  {
   "cell_type": "code",
   "execution_count": null,
   "metadata": {},
   "outputs": [],
   "source": [
    "import pandas as pd\n",
    "import geopandas as gpd\n",
    "import folium"
   ]
  },
  {
   "cell_type": "code",
   "execution_count": null,
   "metadata": {},
   "outputs": [],
   "source": [
    "# Load the crime dataset and the geographic boundaries\n",
    "crime_df = pd.read_csv(\"crimes.csv\")\n",
    "boundaries = gpd.read_file(\"nyc.geojson\")\n",
    "\n",
    "crime_counts = crime_df['OFNS_DESC'].value_counts()\n",
    "filtered_df = crime_df[crime_df['OFNS_DESC'].isin(crime_counts[crime_counts > 1000].index)]\n",
    "filtered_count = filtered_df['OFNS_DESC'].value_counts()\n",
    "filtered_count\n",
    "\n",
    "\n",
    "removed_filtered_count = filtered_count.drop(filtered_count[filtered_count['OFNS_DESC'].isin(['VOIDED ARRESTS', 'OTHER STATE LAWS', 'FORGERY', 'OTHER STATE LAWS (NON PENAL LA', ''])].index)"
   ]
  }
 ],
 "metadata": {
  "language_info": {
   "name": "python"
  },
  "orig_nbformat": 4
 },
 "nbformat": 4,
 "nbformat_minor": 2
}
