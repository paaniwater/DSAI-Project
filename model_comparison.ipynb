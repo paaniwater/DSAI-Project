{
 "cells": [
  {
   "attachments": {},
   "cell_type": "markdown",
   "metadata": {},
   "source": [
    "### This code block below plots the 4 graphs above into one plot to visualise the differences (Jing Xuan you can add your model below here as well)"
   ]
  },
  {
   "cell_type": "code",
   "execution_count": null,
   "metadata": {},
   "outputs": [],
   "source": [
    "# plot the combined ROC curve\n",
    "plt.figure(figsize=(8, 6))\n",
    "plt.plot(fpr_nn, tpr_nn, color='green', label='Neural Network for All Variables (AUC = %0.4f)' % roc_auc_nn)\n",
    "plt.plot(fpr_nn_top10, tpr_nn_top10, color='red', label='Neural Network for Top 10 Variables (AUC = %0.4f)' % roc_auc_nn_top10)\n",
    "plt.plot(fpr_dt, tpr_dt, color='blue', label='Decision Tree for All Variables (AUC = %0.4f)' % roc_auc_dt)\n",
    "plt.plot(fpr_dt_top10, tpr_dt_top10, color='orange', label='Decision Tree for Top 10 Variables (AUC = %0.4f)' % roc_auc_dt_top10)\n",
    "plt.legend()\n",
    "plt.xlabel('False Positive Rate')\n",
    "plt.ylabel('True Positive Rate')\n",
    "plt.show()"
   ]
  },
  {
   "attachments": {},
   "cell_type": "markdown",
   "metadata": {},
   "source": [
    "### This code block below plots the 4 graphs above into separate plots for further visualisation (Jing Xuan you can add your models below as well)"
   ]
  },
  {
   "cell_type": "code",
   "execution_count": null,
   "metadata": {},
   "outputs": [],
   "source": [
    "fig, axes = plt.subplots(nrows=2, ncols=2, figsize=(10, 10))\n",
    "\n",
    "# plot ROC curve for neural network with all variables\n",
    "nn_probs = model_upsample_all.predict(X_test_upsample)\n",
    "fpr_nn, tpr_nn, _ = roc_curve(y_test_upsample, nn_probs)\n",
    "roc_auc_nn = auc(fpr_nn, tpr_nn)\n",
    "axes[0, 0].plot(fpr_nn, tpr_nn, color='green', label='Neural Network (AUC = %0.4f)' % roc_auc_nn)\n",
    "axes[0, 0].set_title('All Variables')\n",
    "\n",
    "# plot ROC curve for neural network with top 10 variables\n",
    "nn_probs_top10 = model_upsample_top10.predict(X_test_top10_upsample)\n",
    "fpr_nn_top10, tpr_nn_top10, _ = roc_curve(y_test_top10_upsample, nn_probs_top10)\n",
    "roc_auc_nn_top10 = auc(fpr_nn_top10, tpr_nn_top10)\n",
    "axes[0, 1].plot(fpr_nn_top10, tpr_nn_top10, color='red', label='Neural Network (AUC = %0.4f)' % roc_auc_nn_top10)\n",
    "axes[0, 1].set_title('Top 10 Variables')\n",
    "\n",
    "# plot ROC curve for decision tree with all variables\n",
    "fpr_dt, tpr_dt, _ = roc_curve(y_test_upsample, dt_probs)\n",
    "roc_auc_dt = auc(fpr_dt, tpr_dt)\n",
    "axes[1, 0].plot(fpr_dt, tpr_dt, color='blue', label='Decision Tree (AUC = %0.4f)' % roc_auc_dt)\n",
    "axes[1, 0].set_title('All Variables')\n",
    "\n",
    "# plot ROC curve for decision tree with top 10 variables\n",
    "fpr_dt_top10, tpr_dt_top10, _ = roc_curve(y_test_top10_upsample, dt_probs_top10)\n",
    "roc_auc_dt_top10 = auc(fpr_dt_top10, tpr_dt_top10)\n",
    "axes[1, 1].plot(fpr_dt_top10, tpr_dt_top10, color='orange', label='Decision Tree (AUC = %0.4f)' % roc_auc_dt_top10)\n",
    "axes[1, 1].set_title('Top 10 Variables')\n",
    "\n",
    "# add axis labels and legends\n",
    "for ax in axes.flat:\n",
    "    ax.set_xlabel('False Positive Rate')\n",
    "    ax.set_ylabel('True Positive Rate')\n",
    "    ax.legend()\n",
    "\n",
    "# adjust layout and spacing\n",
    "fig.tight_layout()\n",
    "plt.show()\n"
   ]
  }
 ],
 "metadata": {
  "language_info": {
   "name": "python"
  },
  "orig_nbformat": 4
 },
 "nbformat": 4,
 "nbformat_minor": 2
}
